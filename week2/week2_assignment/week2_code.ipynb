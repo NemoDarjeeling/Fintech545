{
 "cells": [
  {
   "cell_type": "markdown",
   "source": [
    "# Problem 1\n",
    "Remember from last week we discussed that skewness and kurtosis functions in statistical packages are often biased. Is your function biased? Prove or disprove your hypothesis."
   ],
   "metadata": {
    "collapsed": false
   }
  },
  {
   "cell_type": "code",
   "execution_count": null,
   "outputs": [],
   "source": [
    "# First load all libraries needed to solve this problem, using \"pip install\" would be necessary if any libraries are reported missing in local environment.\n",
    "import numpy as np\n",
    "from scipy.stats import kurtosis, ttest_1samp, t, describe, norm, skew\n",
    "from math import sqrt"
   ],
   "metadata": {
    "collapsed": false
   }
  },
  {
   "cell_type": "code",
   "execution_count": null,
   "outputs": [],
   "source": [
    "sample_size = [100, 1000, 100000] # as we know, when sample size increases, the biased and unbiased parameters should converge to their true value, and we are interested in whether it is true, so we allow it to vary\n",
    "sample_round = [100, 1000] # as shown during class, with fewer sample rounds (we have less kurtosis to examine), we have less statistical power to detect bias, even if it exists, and we are also interested in whether it is true, so we also allow it to vary\n",
    "\n",
    "expected_kurt = 0 # the expected kurtosis for normal distribution in scipy package is adjusted to be 0\n",
    "threshold = 0.05 # the threshold that we consider statistically significant\n",
    "for i in sample_size:\n",
    "    num_kurts = 0 # help to track the numbers of kurtosis generated\n",
    "    for j in sample_round:\n",
    "        print(\"current sample size is\", i)\n",
    "        print(\"current sample round is\", j)\n",
    "        kurts_b = np.empty(j) # initialize an empty dataframe of numbers = sample_round to store kurt_biased calculated during this loop\n",
    "        kurts_ub = np.empty(j) # empty dataframe for kurt_unbiased\n",
    "        data = np.random.normal(0, 1, i) # initialize random normal distributed data to calculate kurt\n",
    "        kurts_b[num_kurts] = kurtosis(data) # generate the kurtosis_biased from the random normal distribution\n",
    "        kurts_ub[num_kurts] = kurtosis(data, bias = False) # generate the kurtosis_unbiased\n",
    "        t_stat, p_val = ttest_1samp(kurts_b, expected_kurt) # test the kurtosis_biased\n",
    "\n",
    "        mean_kurts_b = np.mean(kurts_b)\n",
    "        mean_kurts_ub = np.mean(kurts_ub)\n",
    "        print(\"during this assessment, the biased kurtosis is\", mean_kurts_b, \", the unbiased kurtosis is\", mean_kurts_ub)\n",
    "\n",
    "        if p_val < threshold:\n",
    "            print(\"we rejected null hypothesis and it is biased\")\n",
    "        else:\n",
    "            print(\"we fail to reject null hypothesis and it can be unbiased\")\n",
    "\n",
    "        num_kurts += 1\n",
    "        print(\"\")"
   ],
   "metadata": {
    "collapsed": false
   }
  },
  {
   "cell_type": "code",
   "execution_count": null,
   "outputs": [],
   "source": [
    "# same procedure, but to test the skewness\n",
    "sample_size = [10, 1000, 100000]\n",
    "sample_round = [10, 100, 1000]\n",
    "\n",
    "expected_skew = 0 # the expected skewness for normal distribution is 0\n",
    "threshold = 0.05\n",
    "for i in sample_size:\n",
    "    num_skews = 0\n",
    "    for j in sample_round:\n",
    "        print(\"current sample size is {}\" .format(i))\n",
    "        print(\"current sample round is {}\" .format(j))\n",
    "        skews_b = np.empty(j)\n",
    "        skews_ub = np.empty(j)\n",
    "        data = np.random.normal(0, 1, i) # initialize random normal distributed data to calculate skew\n",
    "        skews_b[num_skews] = skew(data)\n",
    "        skews_ub[num_skews] = skew(data, bias = False)\n",
    "        t_stat, p_val = ttest_1samp(skews_b, expected_skew)\n",
    "        if p_val < threshold:\n",
    "            print(\"p-value is\", p_val, \", and we rejected null hypothesis and it is biased\")\n",
    "        else:\n",
    "            print(\"p-value is\", p_val, \", and we fail to reject null hypothesis and it can be unbiased\")\n",
    "\n",
    "        mean_skews_b = np.mean(skews_b)\n",
    "        mean_skews_ub = np.mean(skews_ub)\n",
    "        print(\"during this assessment, the biased skewness is\", mean_skews_b, \", the unbiased skewness is\", mean_skews_ub)\n",
    "\n",
    "        num_skews += 1\n",
    "        print(\"\")\n",
    "\n",
    "# Caveat: no random seeds have been set during normal distribution generation process, results may differ each time the code runs"
   ],
   "metadata": {
    "collapsed": false
   }
  },
  {
   "cell_type": "markdown",
   "source": [
    "# Problem 2\n",
    "Fit the data in problem2.csv using OLS and calculate the error vector. Look at its distribution. How well does it fit the assumption of normally distributed errors? Fit the data using MLE given the assumption of normality. Then fit the MLE using the assumption of a T distribution of the errors. Which is the best fit? What are the fitted parameters of each and how do they compare? What does this tell us about the breaking of the normality assumption in regards to expected values in this case?"
   ],
   "metadata": {
    "collapsed": false
   }
  },
  {
   "cell_type": "code",
   "execution_count": 7,
   "outputs": [],
   "source": [
    "# load library\n",
    "import numpy as np\n",
    "import pandas as pd\n",
    "from scipy.stats import kurtosis, skew, t, ttest_1samp, norm\n",
    "import statsmodels.api as sm\n",
    "import matplotlib.pyplot as plt\n",
    "from scipy.stats import norm\n",
    "from scipy import stats\n",
    "from scipy.optimize import minimize"
   ],
   "metadata": {
    "collapsed": false,
    "ExecuteTime": {
     "end_time": "2023-09-08T16:14:51.327333Z",
     "start_time": "2023-09-08T16:14:51.321564Z"
    }
   }
  },
  {
   "cell_type": "code",
   "execution_count": 8,
   "outputs": [
    {
     "name": "stdout",
     "output_type": "stream",
     "text": [
      "                            OLS Regression Results                            \n",
      "==============================================================================\n",
      "Dep. Variable:                      y   R-squared:                       0.195\n",
      "Model:                            OLS   Adj. R-squared:                  0.186\n",
      "Method:                 Least Squares   F-statistic:                     23.68\n",
      "Date:                Fri, 08 Sep 2023   Prob (F-statistic):           4.34e-06\n",
      "Time:                        12:15:21   Log-Likelihood:                -159.99\n",
      "No. Observations:                 100   AIC:                             324.0\n",
      "Df Residuals:                      98   BIC:                             329.2\n",
      "Df Model:                           1                                         \n",
      "Covariance Type:            nonrobust                                         \n",
      "==============================================================================\n",
      "                 coef    std err          t      P>|t|      [0.025      0.975]\n",
      "------------------------------------------------------------------------------\n",
      "const          0.1198      0.121      0.990      0.325      -0.120       0.360\n",
      "x              0.6052      0.124      4.867      0.000       0.358       0.852\n",
      "==============================================================================\n",
      "Omnibus:                       14.146   Durbin-Watson:                   1.885\n",
      "Prob(Omnibus):                  0.001   Jarque-Bera (JB):               43.673\n",
      "Skew:                          -0.267   Prob(JB):                     3.28e-10\n",
      "Kurtosis:                       6.193   Cond. No.                         1.03\n",
      "==============================================================================\n",
      "\n",
      "Notes:\n",
      "[1] Standard Errors assume that the covariance matrix of the errors is correctly specified.\n"
     ]
    }
   ],
   "source": [
    "# load the data to dataframe\n",
    "df = pd.read_csv(\"problem2.csv\")\n",
    "Y = df[\"y\"]\n",
    "x = df[\"x\"]\n",
    "X = sm.add_constant(x)\n",
    "\n",
    "# OLS fit under normal distribution\n",
    "OLS = sm.OLS(Y, X)\n",
    "OLS_result = OLS.fit()\n",
    "print(OLS_result.summary())"
   ],
   "metadata": {
    "collapsed": false,
    "ExecuteTime": {
     "end_time": "2023-09-08T16:15:21.196257Z",
     "start_time": "2023-09-08T16:15:21.171801Z"
    }
   }
  },
  {
   "cell_type": "code",
   "execution_count": 17,
   "outputs": [
    {
     "name": "stdout",
     "output_type": "stream",
     "text": [
      "0   -0.838485\n",
      "1    0.835296\n",
      "2    1.027428\n",
      "3    1.319711\n",
      "4   -0.152317\n",
      "dtype: float64\n"
     ]
    },
    {
     "data": {
      "text/plain": "<Figure size 640x480 with 1 Axes>",
      "image/png": "[encoded data removed]"
     },
     "metadata": {},
     "output_type": "display_data"
    },
    {
     "data": {
      "text/plain": "<Figure size 640x480 with 1 Axes>",
      "image/png": "[encoded data removed]"
     },
     "metadata": {},
     "output_type": "display_data"
    }
   ],
   "source": [
    "# obtain OLS's residual\n",
    "Y_predict = OLS_result.predict(X)\n",
    "err_vec_ols = Y - Y_predict\n",
    "\n",
    "print(err_vec_ols.head())\n",
    "\n",
    "# examine OLS's residual\n",
    "mean_res_ols = np.mean(err_vec_ols)\n",
    "var_res_ols = np.var(err_vec_ols)\n",
    "skew_res_ols = skew(err_vec_ols)\n",
    "kur_res_ols = kurtosis(err_vec_ols)\n",
    "# print(\"the mean of residual obtained through OLS is {}\" .format(mean_res_ols))\n",
    "\n",
    "# visualisation: QQ plot\n",
    "fig = sm.qqplot(err_vec_ols, line='s')  # 's' for standardized line\n",
    "plt.title(\"QQ plot of error vector for OLS\")\n",
    "plt.show()\n",
    "\n",
    "# visualisation: histogram and normal distribution\n",
    "plt.hist(err_vec_ols, bins=10, density=True, alpha=0.6, color='g', label='Error Vector')\n",
    "\n",
    "# Plot the normal distribution curve\n",
    "xmin, xmax = plt.xlim()\n",
    "x = np.linspace(xmin, xmax, 100)\n",
    "p = norm.pdf(x, np.mean(err_vec_ols), np.std(err_vec_ols))\n",
    "plt.plot(x, p, 'k', linewidth=2, label='Normal Curve')\n",
    "\n",
    "# Add labels and title\n",
    "plt.title(\"Histogram of error vector for OLS\")\n",
    "plt.xlabel('Error')\n",
    "plt.ylabel('Density')\n",
    "plt.legend()\n",
    "\n",
    "# Show plot\n",
    "plt.show()"
   ],
   "metadata": {
    "collapsed": false,
    "ExecuteTime": {
     "end_time": "2023-09-08T18:51:14.925320Z",
     "start_time": "2023-09-08T18:51:14.742124Z"
    }
   }
  },
  {
   "cell_type": "code",
   "execution_count": 52,
   "outputs": [
    {
     "name": "stdout",
     "output_type": "stream",
     "text": [
      "323.9841933783246 329.1945337503008\n"
     ]
    }
   ],
   "source": [
    "# below we would assess the goodness of fit through R^2 and adjusted R^2, AIC and BIC\n",
    "# obtain R squared and adjusted R squared\n",
    "R2_ols = OLS_result.rsquared\n",
    "adj_R2_ols = OLS_result.rsquared_adj\n",
    "# obtain AIC and BIC\n",
    "AIC_ols = OLS_result.aic\n",
    "BIC_ols = OLS_result.bic\n",
    "print(AIC_ols, BIC_ols)"
   ],
   "metadata": {
    "collapsed": false,
    "ExecuteTime": {
     "end_time": "2023-09-08T22:01:40.298369Z",
     "start_time": "2023-09-08T22:01:40.296969Z"
    }
   }
  },
  {
   "cell_type": "code",
   "execution_count": 36,
   "outputs": [
    {
     "name": "stdout",
     "output_type": "stream",
     "text": [
      "-3.8857805861880476e-17 1.4361484854062607 -0.26726658552879606 3.1931010009568777\n"
     ]
    }
   ],
   "source": [
    "# reload the data to prevent data leakage\n",
    "df = pd.read_csv(\"problem2.csv\")\n",
    "Y = df[\"y\"]\n",
    "x = df[\"x\"]\n",
    "X = sm.add_constant(x) # to include the intercept term, a column of 1s are added to the feature matrix X to become [1, X1, X2,...]\n",
    "\n",
    "# MLE fit under normal distribution\n",
    "# log-likelihood function for MLE under normal distribution\n",
    "def loglike_mle_nd(paras, Y, x): # para include intercept, slope and sigma, and Y is dependent variable while x is independent variable\n",
    "    intercep, slope, sigma = paras\n",
    "    Y_predict = intercep + slope * x\n",
    "    nll = -np.sum(norm.logpdf(Y, loc = Y_predict, scale = sigma))\n",
    "    return nll\n",
    "\n",
    "# optimize and fit MLE\n",
    "init = (1, 1, 1) # need initial guess to enable the optimization to start\n",
    "MLE_result_nd = minimize(fun = loglike_mle_nd, x0 = init, args = (Y,x))"
   ],
   "metadata": {
    "collapsed": false,
    "ExecuteTime": {
     "end_time": "2023-09-08T20:42:59.976655Z",
     "start_time": "2023-09-08T20:42:59.930886Z"
    }
   }
  },
  {
   "cell_type": "code",
   "execution_count": 46,
   "outputs": [
    {
     "name": "stdout",
     "output_type": "stream",
     "text": [
      "323.984193378325\n",
      "329.1945337503012\n"
     ]
    }
   ],
   "source": [
    "# below we would assess the goodness of fit through error vector, R^2 and adjusted R^2, AIC and BIC\n",
    "# obtain the error vector\n",
    "paras_opt_mle_nd = MLE_result_nd.x\n",
    "intercep_opt_mle_nd, slope_opt_mle_nd, sigma_opt_mle_nd = paras_opt_mle_nd\n",
    "err_vec_mle_nd = Y - intercep_opt_mle_nd - slope_opt_mle_nd * x\n",
    "\n",
    "mean_res_mle_nd = np.mean(err_vec_mle_nd)\n",
    "var_res_mle_nd = np.var(err_vec_mle_nd)\n",
    "skew_res_mle_nd = skew(err_vec_mle_nd)\n",
    "kur_res_mle_nd = kurtosis(err_vec_mle_nd)\n",
    "\n",
    "# obtain R squared and adjusted R squared\n",
    "Y_predict_mle_nd = intercep_opt_mle_nd + slope_opt_mle_nd * x\n",
    "TSS_mle_nd = np.sum((Y - np.mean(Y)) ** 2)\n",
    "RSS_mle_nd = np.sum((err_vec_mle_nd - np.mean(err_vec_mle_nd)) ** 2)\n",
    "R2_mle_nd = 1 - (RSS_mle_nd / TSS_mle_nd)\n",
    "\n",
    "n = len(Y)  # number of observations\n",
    "p = 1  # number of parameters excluding constant, num_x\n",
    "adj_R2_mle_nd = 1 - ((1 - R2_mle_nd) * (n - 1) / (n - p - 1))\n",
    "\n",
    "# obtain AIC\n",
    "loglikeli_mle_nd = -MLE_result_nd.fun\n",
    "AIC_mle_nd = 2 * 2 - 2 * loglikeli_mle_nd\n",
    "print(AIC_mle_nd)\n",
    "\n",
    "# obtain BIC\n",
    "BIC_mle_nd = np.log(n) * 2 - 2 * loglikeli_mle_nd\n",
    "print(BIC_mle_nd)"
   ],
   "metadata": {
    "collapsed": false,
    "ExecuteTime": {
     "end_time": "2023-09-08T21:33:25.016737Z",
     "start_time": "2023-09-08T21:33:25.013339Z"
    }
   }
  },
  {
   "cell_type": "code",
   "execution_count": 34,
   "outputs": [
    {
     "name": "stdout",
     "output_type": "stream",
     "text": [
      "      fun: 155.47297041247222\n",
      " hess_inv: array([[ 1.22405341e-02,  5.18555852e-04, -2.70727826e-03,\n",
      "        -8.78546873e-02],\n",
      "       [ 5.18555852e-04,  1.29244549e-02, -7.74787476e-05,\n",
      "        -1.12637433e-03],\n",
      "       [-2.70727826e-03, -7.74787476e-05,  1.16887526e-02,\n",
      "         2.23793246e-01],\n",
      "       [-8.78546873e-02, -1.12637433e-03,  2.23793246e-01,\n",
      "         9.24888732e+00]])\n",
      "      jac: array([-1.90734863e-05, -7.62939453e-06, -5.72204590e-06,  1.90734863e-06])\n",
      "  message: 'Desired error not necessarily achieved due to precision loss.'\n",
      "     nfev: 250\n",
      "      nit: 16\n",
      "     njev: 48\n",
      "   status: 2\n",
      "  success: False\n",
      "        x: array([0.14261386, 0.5575716 , 0.97126576, 6.2765526 ])\n"
     ]
    }
   ],
   "source": [
    "# reload the data to prevent data leakage\n",
    "df = pd.read_csv(\"problem2.csv\")\n",
    "Y = df[\"y\"]\n",
    "x = df[\"x\"]\n",
    "\n",
    "def loglike_mle_t(paras, Y, x):\n",
    "    intercep, slope, sigma, nu = paras\n",
    "    Y_predict = intercep + slope * x\n",
    "    nll = -np.sum(t.logpdf(Y, df = nu, loc = Y_predict, scale = sigma ))\n",
    "    return nll\n",
    "\n",
    "init = (1,1,1,1)\n",
    "MLE_result_t = minimize(fun = loglike_mle_t, x0 = init, args = (Y,x))\n",
    "print(MLE_result_t)"
   ],
   "metadata": {
    "collapsed": false,
    "ExecuteTime": {
     "end_time": "2023-09-08T20:38:51.713010Z",
     "start_time": "2023-09-08T20:38:51.612393Z"
    }
   }
  },
  {
   "cell_type": "code",
   "execution_count": 50,
   "outputs": [
    {
     "name": "stdout",
     "output_type": "stream",
     "text": [
      "0.1934338047341707\n",
      "0.18520353743553986\n",
      "314.94594082494444\n",
      "320.15628119692065\n"
     ]
    }
   ],
   "source": [
    "# below we would assess the goodness of fit through error vector, R^2 and adjusted R^2, AIC and BIC\n",
    "# obtain the error vector\n",
    "paras_opt_mle_t = MLE_result_t.x\n",
    "intercep_opt_mle_t, slope_opt_mle_t, sigma_opt_mle_t, nu_opt_mle_t = paras_opt_mle_t\n",
    "err_vec_mle_t = Y - intercep_opt_mle_t - slope_opt_mle_t * x\n",
    "\n",
    "mean_res_mle_t = np.mean(err_vec_mle_t)\n",
    "var_res_mle_t = np.var(err_vec_mle_t)\n",
    "skew_res_mle_t = skew(err_vec_mle_t)\n",
    "kur_res_mle_t = kurtosis(err_vec_mle_t)\n",
    "\n",
    "# obtain R squared and adjusted R squared\n",
    "Y_predict_mle_t = intercep_opt_mle_t + slope_opt_mle_t * x\n",
    "TSS_mle_t = np.sum((Y - np.mean(Y)) ** 2)\n",
    "RSS_mle_t = np.sum((err_vec_mle_t - np.mean(err_vec_mle_t)) ** 2)\n",
    "R2_mle_t = 1 - (RSS_mle_t / TSS_mle_t)\n",
    "print(R2_mle_t)\n",
    "\n",
    "n = len(Y)  # number of observations\n",
    "p = 1  # number of parameters excluding constant, num_x\n",
    "adj_R2_mle_t = 1 - ((1 - R2_mle_t) * (n - 1) / (n - p - 1))\n",
    "print(adj_R2_mle_t)\n",
    "\n",
    "# obtain AIC\n",
    "loglikeli_mle_t = -MLE_result_t.fun\n",
    "AIC_mle_t = 2 * 2 - 2 * loglikeli_mle_t\n",
    "print(AIC_mle_t)\n",
    "\n",
    "# obtain BIC\n",
    "BIC_mle_t = np.log(n) * 2 - 2 * loglikeli_mle_t\n",
    "print(BIC_mle_t)"
   ],
   "metadata": {
    "collapsed": false,
    "ExecuteTime": {
     "end_time": "2023-09-08T21:47:33.363442Z",
     "start_time": "2023-09-08T21:47:33.360031Z"
    }
   }
  },
  {
   "cell_type": "markdown",
   "source": [
    "# Problem 3\n",
    "Simulate AR(1) through AR(3) and MA(1) through MA(3) processes. Compare their ACF and PACF graphs. How do the graphs help us to identify the type and order of each process?"
   ],
   "metadata": {
    "collapsed": false
   }
  },
  {
   "cell_type": "code",
   "execution_count": null,
   "outputs": [],
   "source": [],
   "metadata": {
    "collapsed": false
   }
  }
 ],
 "metadata": {
  "kernelspec": {
   "display_name": "Python 3",
   "language": "python",
   "name": "python3"
  },
  "language_info": {
   "codemirror_mode": {
    "name": "ipython",
    "version": 2
   },
   "file_extension": ".py",
   "mimetype": "text/x-python",
   "name": "python",
   "nbconvert_exporter": "python",
   "pygments_lexer": "ipython2",
   "version": "2.7.6"
  }
 },
 "nbformat": 4,
 "nbformat_minor": 0
}
