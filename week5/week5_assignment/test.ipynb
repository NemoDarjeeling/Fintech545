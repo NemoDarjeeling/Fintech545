{
 "cells": [
  {
   "cell_type": "code",
   "execution_count": 1,
   "metadata": {
    "collapsed": true,
    "ExecuteTime": {
     "end_time": "2023-10-07T16:43:25.179365Z",
     "start_time": "2023-10-07T16:43:24.979785Z"
    }
   },
   "outputs": [],
   "source": [
    "import pandas as pd\n",
    "import numpy as np\n",
    "import matplotlib.pyplot as plt\n",
    "import seaborn as sns\n",
    "from lib_hcy_week5 import myfunctions as mf\n",
    "from scipy.stats import t, norm"
   ]
  },
  {
   "cell_type": "code",
   "execution_count": 2,
   "outputs": [
    {
     "name": "stderr",
     "output_type": "stream",
     "text": [
      "/Users/yanghaochen/opt/anaconda3/lib/python3.9/site-packages/lib_hcy_week5/myfunctions.py:243: PerformanceWarning: DataFrame is highly fragmented.  This is usually the result of calling `frame.insert` many times, which has poor performance.  Consider joining all columns at once using pd.concat(axis=1) instead. To get a de-fragmented frame, use `newframe = frame.copy()`\n",
      "  out[vars[i]] = p2[:,i]\n",
      "/Users/yanghaochen/opt/anaconda3/lib/python3.9/site-packages/lib_hcy_week5/myfunctions.py:243: PerformanceWarning: DataFrame is highly fragmented.  This is usually the result of calling `frame.insert` many times, which has poor performance.  Consider joining all columns at once using pd.concat(axis=1) instead. To get a de-fragmented frame, use `newframe = frame.copy()`\n",
      "  out[vars[i]] = p2[:,i]\n"
     ]
    },
    {
     "data": {
      "text/plain": "         Date       SPY      AAPL      MSFT      AMZN      NVDA     GOOGL  \\\n1  2022-09-02 -0.010544 -0.013611 -0.016667 -0.002425 -0.020808 -0.017223   \n2  2022-09-06 -0.003773 -0.008215 -0.010974 -0.010980 -0.013336 -0.009643   \n3  2022-09-07  0.017965  0.009254  0.019111  0.026723  0.018795  0.024717   \n4  2022-09-08  0.006536 -0.009618  0.001666  0.002626  0.020126 -0.009776   \n5  2022-09-09  0.015535  0.018840  0.022977  0.026575  0.028377  0.020945   \n\n       TSLA      GOOG     BRK-B  ...        CI       ETN       SLB       PGR  \\\n1 -0.025076 -0.016915 -0.016854  ... -0.001180 -0.010593  0.033107 -0.010428   \n2  0.015581 -0.011042 -0.003890  ... -0.004641  0.008449 -0.014118  0.000572   \n3  0.033817  0.027912  0.016089  ...  0.016652  0.020295 -0.008030  0.038537   \n4  0.019598 -0.009595  0.008184  ...  0.002448  0.013945  0.029951  0.015880   \n5  0.036023  0.021568  0.008576  ...  0.007327  0.017244  0.038774 -0.004179   \n\n       SCHW      LRCX       ZTS         C       BSX       AMT  \n1 -0.019242 -0.004236 -0.015244  0.001846 -0.012198 -0.026355  \n2  0.001848 -0.008019 -0.000892 -0.012695 -0.002717  0.013275  \n3  0.018731  0.012279  0.022698  0.008503  0.026994  0.020930  \n4  0.019083  0.016574 -0.011908  0.026116  0.029901  0.008362  \n5  0.018863  0.026460  0.036721  0.015431  0.005385 -0.000306  \n\n[5 rows x 102 columns]",
      "text/html": "<div>\n<style scoped>\n    .dataframe tbody tr th:only-of-type {\n        vertical-align: middle;\n    }\n\n    .dataframe tbody tr th {\n        vertical-align: top;\n    }\n\n    .dataframe thead th {\n        text-align: right;\n    }\n</style>\n<table border=\"1\" class=\"dataframe\">\n  <thead>\n    <tr style=\"text-align: right;\">\n      <th></th>\n      <th>Date</th>\n      <th>SPY</th>\n      <th>AAPL</th>\n      <th>MSFT</th>\n      <th>AMZN</th>\n      <th>NVDA</th>\n      <th>GOOGL</th>\n      <th>TSLA</th>\n      <th>GOOG</th>\n      <th>BRK-B</th>\n      <th>...</th>\n      <th>CI</th>\n      <th>ETN</th>\n      <th>SLB</th>\n      <th>PGR</th>\n      <th>SCHW</th>\n      <th>LRCX</th>\n      <th>ZTS</th>\n      <th>C</th>\n      <th>BSX</th>\n      <th>AMT</th>\n    </tr>\n  </thead>\n  <tbody>\n    <tr>\n      <th>1</th>\n      <td>2022-09-02</td>\n      <td>-0.010544</td>\n      <td>-0.013611</td>\n      <td>-0.016667</td>\n      <td>-0.002425</td>\n      <td>-0.020808</td>\n      <td>-0.017223</td>\n      <td>-0.025076</td>\n      <td>-0.016915</td>\n      <td>-0.016854</td>\n      <td>...</td>\n      <td>-0.001180</td>\n      <td>-0.010593</td>\n      <td>0.033107</td>\n      <td>-0.010428</td>\n      <td>-0.019242</td>\n      <td>-0.004236</td>\n      <td>-0.015244</td>\n      <td>0.001846</td>\n      <td>-0.012198</td>\n      <td>-0.026355</td>\n    </tr>\n    <tr>\n      <th>2</th>\n      <td>2022-09-06</td>\n      <td>-0.003773</td>\n      <td>-0.008215</td>\n      <td>-0.010974</td>\n      <td>-0.010980</td>\n      <td>-0.013336</td>\n      <td>-0.009643</td>\n      <td>0.015581</td>\n      <td>-0.011042</td>\n      <td>-0.003890</td>\n      <td>...</td>\n      <td>-0.004641</td>\n      <td>0.008449</td>\n      <td>-0.014118</td>\n      <td>0.000572</td>\n      <td>0.001848</td>\n      <td>-0.008019</td>\n      <td>-0.000892</td>\n      <td>-0.012695</td>\n      <td>-0.002717</td>\n      <td>0.013275</td>\n    </tr>\n    <tr>\n      <th>3</th>\n      <td>2022-09-07</td>\n      <td>0.017965</td>\n      <td>0.009254</td>\n      <td>0.019111</td>\n      <td>0.026723</td>\n      <td>0.018795</td>\n      <td>0.024717</td>\n      <td>0.033817</td>\n      <td>0.027912</td>\n      <td>0.016089</td>\n      <td>...</td>\n      <td>0.016652</td>\n      <td>0.020295</td>\n      <td>-0.008030</td>\n      <td>0.038537</td>\n      <td>0.018731</td>\n      <td>0.012279</td>\n      <td>0.022698</td>\n      <td>0.008503</td>\n      <td>0.026994</td>\n      <td>0.020930</td>\n    </tr>\n    <tr>\n      <th>4</th>\n      <td>2022-09-08</td>\n      <td>0.006536</td>\n      <td>-0.009618</td>\n      <td>0.001666</td>\n      <td>0.002626</td>\n      <td>0.020126</td>\n      <td>-0.009776</td>\n      <td>0.019598</td>\n      <td>-0.009595</td>\n      <td>0.008184</td>\n      <td>...</td>\n      <td>0.002448</td>\n      <td>0.013945</td>\n      <td>0.029951</td>\n      <td>0.015880</td>\n      <td>0.019083</td>\n      <td>0.016574</td>\n      <td>-0.011908</td>\n      <td>0.026116</td>\n      <td>0.029901</td>\n      <td>0.008362</td>\n    </tr>\n    <tr>\n      <th>5</th>\n      <td>2022-09-09</td>\n      <td>0.015535</td>\n      <td>0.018840</td>\n      <td>0.022977</td>\n      <td>0.026575</td>\n      <td>0.028377</td>\n      <td>0.020945</td>\n      <td>0.036023</td>\n      <td>0.021568</td>\n      <td>0.008576</td>\n      <td>...</td>\n      <td>0.007327</td>\n      <td>0.017244</td>\n      <td>0.038774</td>\n      <td>-0.004179</td>\n      <td>0.018863</td>\n      <td>0.026460</td>\n      <td>0.036721</td>\n      <td>0.015431</td>\n      <td>0.005385</td>\n      <td>-0.000306</td>\n    </tr>\n  </tbody>\n</table>\n<p>5 rows × 102 columns</p>\n</div>"
     },
     "execution_count": 2,
     "metadata": {},
     "output_type": "execute_result"
    }
   ],
   "source": [
    "df = pd.read_csv(\"DailyPrices.csv\")\n",
    "all_ret = mf.return_calculate(df)\n",
    "all_ret.head()"
   ],
   "metadata": {
    "collapsed": false,
    "ExecuteTime": {
     "end_time": "2023-10-07T16:44:18.696864Z",
     "start_time": "2023-10-07T16:44:18.604826Z"
    }
   }
  },
  {
   "cell_type": "code",
   "execution_count": 3,
   "outputs": [],
   "source": [
    "all_ret.drop('Date', axis=1, inplace=True)"
   ],
   "metadata": {
    "collapsed": false,
    "ExecuteTime": {
     "end_time": "2023-10-07T16:44:49.194712Z",
     "start_time": "2023-10-07T16:44:49.193811Z"
    }
   }
  },
  {
   "cell_type": "code",
   "execution_count": 8,
   "outputs": [
    {
     "name": "stdout",
     "output_type": "stream",
     "text": [
      "adj_ret_means:\n",
      "SPY    -0.010992\n",
      "AAPL   -0.014177\n",
      "MSFT   -0.017632\n",
      "AMZN   -0.002763\n",
      "NVDA   -0.025527\n",
      "          ...   \n",
      "LRCX   -0.006037\n",
      "ZTS    -0.015836\n",
      "C       0.002191\n",
      "BSX    -0.013291\n",
      "AMT    -0.024982\n",
      "Name: 1, Length: 101, dtype: float64\n",
      "adj_ret_means.values\n",
      "[-0.01099246 -0.01417705 -0.01763241 -0.00276286 -0.02552684 -0.01809861\n",
      " -0.02533128 -0.01779749 -0.01783563 -0.03326605 -0.01463848  0.01728739\n",
      " -0.02760476 -0.00813236 -0.01577608 -0.01256118 -0.01821639 -0.00919124\n",
      "  0.01436841 -0.00539698  0.01433484 -0.01151881 -0.01628668 -0.01934489\n",
      " -0.01287417 -0.007986   -0.01182796 -0.01361558 -0.01630324 -0.00032733\n",
      " -0.00799747 -0.01689314 -0.00073615 -0.01287004 -0.03192812 -0.01884637\n",
      " -0.00636906 -0.00986486 -0.02224191 -0.01937903 -0.01601666 -0.02650658\n",
      " -0.00737637 -0.0108095  -0.02042019 -0.01914054 -0.01771958 -0.01329777\n",
      "  0.02458022 -0.01375407 -0.0116879  -0.0106049  -0.01263279 -0.01514899\n",
      " -0.00932205 -0.02028006 -0.00653439 -0.00178473 -0.01157429 -0.01271015\n",
      " -0.01075424 -0.00805044 -0.01314931 -0.00219587 -0.00387521  0.0078989\n",
      " -0.01755481 -0.00622932 -0.00995541  0.00252391 -0.01492597 -0.02936886\n",
      " -0.01653092 -0.01935819 -0.00442764 -0.00462993 -0.00641385 -0.01331677\n",
      " -0.03050282 -0.01497585 -0.02064288 -0.01552021 -0.01049053 -0.01823953\n",
      " -0.00966184 -0.00386951 -0.03239416 -0.0090044  -0.034708   -0.00712434\n",
      " -0.01449521 -0.00140119 -0.01241895  0.03093669 -0.01117203 -0.01863685\n",
      " -0.00603716 -0.01583553  0.00219091 -0.01329103 -0.02498232]\n"
     ]
    }
   ],
   "source": [
    "ret_data = all_ret\n",
    "w_lambda = 0.97\n",
    "weight = np.zeros(ret_data.shape[0]) # create a vector with num of rows corresponding to the periods of time, so we can attach weight to each time point\n",
    "for i in range(len(ret_data)):\n",
    "    weight[len(ret_data)-1-i]  = (1-w_lambda)*w_lambda**i # weight for each time point will be decided by lambda set\n",
    "weight = weight/sum(weight) # assure that sum_weight == 1\n",
    "adj_ret_means = ret_data - ret_data.mean()\n",
    "print(\"adj_ret_means:\")\n",
    "print(adj_ret_means.iloc[0,:])\n",
    "print(\"adj_ret_means.values\")\n",
    "print(adj_ret_means.values[0])"
   ],
   "metadata": {
    "collapsed": false,
    "ExecuteTime": {
     "end_time": "2023-10-07T16:55:16.719458Z",
     "start_time": "2023-10-07T16:55:16.693810Z"
    }
   }
  },
  {
   "cell_type": "code",
   "execution_count": 14,
   "outputs": [
    {
     "name": "stdout",
     "output_type": "stream",
     "text": [
      "         1        2        3         4         5    6    7    8    9    10   \\\n",
      "1    0.00001  0.00000  0.00000  0.000000  0.000000  0.0  0.0  0.0  0.0  0.0   \n",
      "2    0.00000  0.00001  0.00000  0.000000  0.000000  0.0  0.0  0.0  0.0  0.0   \n",
      "3    0.00000  0.00000  0.00001  0.000000  0.000000  0.0  0.0  0.0  0.0  0.0   \n",
      "4    0.00000  0.00000  0.00000  0.000011  0.000000  0.0  0.0  0.0  0.0  0.0   \n",
      "5    0.00000  0.00000  0.00000  0.000000  0.000011  0.0  0.0  0.0  0.0  0.0   \n",
      "..       ...      ...      ...       ...       ...  ...  ...  ...  ...  ...   \n",
      "261  0.00000  0.00000  0.00000  0.000000  0.000000  0.0  0.0  0.0  0.0  0.0   \n",
      "262  0.00000  0.00000  0.00000  0.000000  0.000000  0.0  0.0  0.0  0.0  0.0   \n",
      "263  0.00000  0.00000  0.00000  0.000000  0.000000  0.0  0.0  0.0  0.0  0.0   \n",
      "264  0.00000  0.00000  0.00000  0.000000  0.000000  0.0  0.0  0.0  0.0  0.0   \n",
      "265  0.00000  0.00000  0.00000  0.000000  0.000000  0.0  0.0  0.0  0.0  0.0   \n",
      "\n",
      "     ...  256  257  258  259  260       261       262       263       264  \\\n",
      "1    ...  0.0  0.0  0.0  0.0  0.0  0.000000  0.000000  0.000000  0.000000   \n",
      "2    ...  0.0  0.0  0.0  0.0  0.0  0.000000  0.000000  0.000000  0.000000   \n",
      "3    ...  0.0  0.0  0.0  0.0  0.0  0.000000  0.000000  0.000000  0.000000   \n",
      "4    ...  0.0  0.0  0.0  0.0  0.0  0.000000  0.000000  0.000000  0.000000   \n",
      "5    ...  0.0  0.0  0.0  0.0  0.0  0.000000  0.000000  0.000000  0.000000   \n",
      "..   ...  ...  ...  ...  ...  ...       ...       ...       ...       ...   \n",
      "261  ...  0.0  0.0  0.0  0.0  0.0  0.026567  0.000000  0.000000  0.000000   \n",
      "262  ...  0.0  0.0  0.0  0.0  0.0  0.000000  0.027389  0.000000  0.000000   \n",
      "263  ...  0.0  0.0  0.0  0.0  0.0  0.000000  0.000000  0.028236  0.000000   \n",
      "264  ...  0.0  0.0  0.0  0.0  0.0  0.000000  0.000000  0.000000  0.029109   \n",
      "265  ...  0.0  0.0  0.0  0.0  0.0  0.000000  0.000000  0.000000  0.000000   \n",
      "\n",
      "          265  \n",
      "1    0.000000  \n",
      "2    0.000000  \n",
      "3    0.000000  \n",
      "4    0.000000  \n",
      "5    0.000000  \n",
      "..        ...  \n",
      "261  0.000000  \n",
      "262  0.000000  \n",
      "263  0.000000  \n",
      "264  0.000000  \n",
      "265  0.030009  \n",
      "\n",
      "[265 rows x 265 columns]\n"
     ]
    },
    {
     "ename": "ValueError",
     "evalue": "matrices are not aligned",
     "output_type": "error",
     "traceback": [
      "\u001B[0;31m---------------------------------------------------------------------------\u001B[0m",
      "\u001B[0;31mValueError\u001B[0m                                Traceback (most recent call last)",
      "\u001B[0;32m/var/folders/zd/m53hqz696cnd23z0k2c1g9zc0000gn/T/ipykernel_49841/3234888976.py\u001B[0m in \u001B[0;36m<module>\u001B[0;34m\u001B[0m\n\u001B[1;32m      2\u001B[0m \u001B[0mweights\u001B[0m\u001B[0;34m.\u001B[0m\u001B[0mcolumns\u001B[0m \u001B[0;34m=\u001B[0m \u001B[0mrange\u001B[0m\u001B[0;34m(\u001B[0m\u001B[0;36m1\u001B[0m\u001B[0;34m,\u001B[0m \u001B[0mlen\u001B[0m\u001B[0;34m(\u001B[0m\u001B[0mweights\u001B[0m\u001B[0;34m.\u001B[0m\u001B[0mcolumns\u001B[0m\u001B[0;34m)\u001B[0m \u001B[0;34m+\u001B[0m \u001B[0;36m1\u001B[0m\u001B[0;34m)\u001B[0m\u001B[0;34m\u001B[0m\u001B[0;34m\u001B[0m\u001B[0m\n\u001B[1;32m      3\u001B[0m \u001B[0mprint\u001B[0m\u001B[0;34m(\u001B[0m\u001B[0mweights\u001B[0m\u001B[0;34m)\u001B[0m\u001B[0;34m\u001B[0m\u001B[0;34m\u001B[0m\u001B[0m\n\u001B[0;32m----> 4\u001B[0;31m \u001B[0mexpo_w_cov\u001B[0m \u001B[0;34m=\u001B[0m \u001B[0madj_ret_means\u001B[0m\u001B[0;34m.\u001B[0m\u001B[0mT\u001B[0m \u001B[0;34m@\u001B[0m \u001B[0mnp\u001B[0m\u001B[0;34m.\u001B[0m\u001B[0mdiag\u001B[0m\u001B[0;34m(\u001B[0m\u001B[0mweight\u001B[0m\u001B[0;34m)\u001B[0m \u001B[0;34m@\u001B[0m \u001B[0madj_ret_means\u001B[0m\u001B[0;34m\u001B[0m\u001B[0;34m\u001B[0m\u001B[0m\n\u001B[0m\u001B[1;32m      5\u001B[0m \u001B[0mprint\u001B[0m\u001B[0;34m(\u001B[0m\u001B[0mexpo_w_cov\u001B[0m\u001B[0;34m)\u001B[0m\u001B[0;34m\u001B[0m\u001B[0;34m\u001B[0m\u001B[0m\n\u001B[1;32m      6\u001B[0m \u001B[0;31m# np.diag(weight) is not a\u001B[0m\u001B[0;34m\u001B[0m\u001B[0;34m\u001B[0m\u001B[0m\n",
      "\u001B[0;32m~/opt/anaconda3/lib/python3.9/site-packages/pandas/core/frame.py\u001B[0m in \u001B[0;36m__matmul__\u001B[0;34m(self, other)\u001B[0m\n\u001B[1;32m   1551\u001B[0m         \u001B[0mMatrix\u001B[0m \u001B[0mmultiplication\u001B[0m \u001B[0musing\u001B[0m \u001B[0mbinary\u001B[0m\u001B[0;31m \u001B[0m\u001B[0;31m`\u001B[0m\u001B[0;34m@\u001B[0m\u001B[0;31m`\u001B[0m \u001B[0moperator\u001B[0m \u001B[0;32min\u001B[0m \u001B[0mPython\u001B[0m\u001B[0;34m>=\u001B[0m\u001B[0;36m3.5\u001B[0m\u001B[0;34m.\u001B[0m\u001B[0;34m\u001B[0m\u001B[0;34m\u001B[0m\u001B[0m\n\u001B[1;32m   1552\u001B[0m         \"\"\"\n\u001B[0;32m-> 1553\u001B[0;31m         \u001B[0;32mreturn\u001B[0m \u001B[0mself\u001B[0m\u001B[0;34m.\u001B[0m\u001B[0mdot\u001B[0m\u001B[0;34m(\u001B[0m\u001B[0mother\u001B[0m\u001B[0;34m)\u001B[0m\u001B[0;34m\u001B[0m\u001B[0;34m\u001B[0m\u001B[0m\n\u001B[0m\u001B[1;32m   1554\u001B[0m \u001B[0;34m\u001B[0m\u001B[0m\n\u001B[1;32m   1555\u001B[0m     \u001B[0;32mdef\u001B[0m \u001B[0m__rmatmul__\u001B[0m\u001B[0;34m(\u001B[0m\u001B[0mself\u001B[0m\u001B[0;34m,\u001B[0m \u001B[0mother\u001B[0m\u001B[0;34m)\u001B[0m\u001B[0;34m:\u001B[0m\u001B[0;34m\u001B[0m\u001B[0;34m\u001B[0m\u001B[0m\n",
      "\u001B[0;32m~/opt/anaconda3/lib/python3.9/site-packages/pandas/core/frame.py\u001B[0m in \u001B[0;36mdot\u001B[0;34m(self, other)\u001B[0m\n\u001B[1;32m   1505\u001B[0m             \u001B[0mcommon\u001B[0m \u001B[0;34m=\u001B[0m \u001B[0mself\u001B[0m\u001B[0;34m.\u001B[0m\u001B[0mcolumns\u001B[0m\u001B[0;34m.\u001B[0m\u001B[0munion\u001B[0m\u001B[0;34m(\u001B[0m\u001B[0mother\u001B[0m\u001B[0;34m.\u001B[0m\u001B[0mindex\u001B[0m\u001B[0;34m)\u001B[0m\u001B[0;34m\u001B[0m\u001B[0;34m\u001B[0m\u001B[0m\n\u001B[1;32m   1506\u001B[0m             \u001B[0;32mif\u001B[0m \u001B[0mlen\u001B[0m\u001B[0;34m(\u001B[0m\u001B[0mcommon\u001B[0m\u001B[0;34m)\u001B[0m \u001B[0;34m>\u001B[0m \u001B[0mlen\u001B[0m\u001B[0;34m(\u001B[0m\u001B[0mself\u001B[0m\u001B[0;34m.\u001B[0m\u001B[0mcolumns\u001B[0m\u001B[0;34m)\u001B[0m \u001B[0;32mor\u001B[0m \u001B[0mlen\u001B[0m\u001B[0;34m(\u001B[0m\u001B[0mcommon\u001B[0m\u001B[0;34m)\u001B[0m \u001B[0;34m>\u001B[0m \u001B[0mlen\u001B[0m\u001B[0;34m(\u001B[0m\u001B[0mother\u001B[0m\u001B[0;34m.\u001B[0m\u001B[0mindex\u001B[0m\u001B[0;34m)\u001B[0m\u001B[0;34m:\u001B[0m\u001B[0;34m\u001B[0m\u001B[0;34m\u001B[0m\u001B[0m\n\u001B[0;32m-> 1507\u001B[0;31m                 \u001B[0;32mraise\u001B[0m \u001B[0mValueError\u001B[0m\u001B[0;34m(\u001B[0m\u001B[0;34m\"matrices are not aligned\"\u001B[0m\u001B[0;34m)\u001B[0m\u001B[0;34m\u001B[0m\u001B[0;34m\u001B[0m\u001B[0m\n\u001B[0m\u001B[1;32m   1508\u001B[0m \u001B[0;34m\u001B[0m\u001B[0m\n\u001B[1;32m   1509\u001B[0m             \u001B[0mleft\u001B[0m \u001B[0;34m=\u001B[0m \u001B[0mself\u001B[0m\u001B[0;34m.\u001B[0m\u001B[0mreindex\u001B[0m\u001B[0;34m(\u001B[0m\u001B[0mcolumns\u001B[0m\u001B[0;34m=\u001B[0m\u001B[0mcommon\u001B[0m\u001B[0;34m,\u001B[0m \u001B[0mcopy\u001B[0m\u001B[0;34m=\u001B[0m\u001B[0;32mFalse\u001B[0m\u001B[0;34m)\u001B[0m\u001B[0;34m\u001B[0m\u001B[0;34m\u001B[0m\u001B[0m\n",
      "\u001B[0;31mValueError\u001B[0m: matrices are not aligned"
     ]
    }
   ],
   "source": [
    "weights = pd.DataFrame(np.diag(weight), index=adj_ret_means.index)\n",
    "weights.columns = range(1, len(weights.columns) + 1)\n",
    "print(weights)\n",
    "\n",
    "adj = pd.DataFrame(np.diag(weight), index=adj_ret_means.index, )\n",
    "\n",
    "expo_w_cov = adj_ret_means.T @ np.diag(weight) @ adj_ret_means\n",
    "print(expo_w_cov)\n",
    "# np.diag(weight) is not a"
   ],
   "metadata": {
    "collapsed": false,
    "ExecuteTime": {
     "end_time": "2023-10-07T17:11:33.836099Z",
     "start_time": "2023-10-07T17:11:33.782159Z"
    }
   }
  }
 ],
 "metadata": {
  "kernelspec": {
   "display_name": "Python 3",
   "language": "python",
   "name": "python3"
  },
  "language_info": {
   "codemirror_mode": {
    "name": "ipython",
    "version": 2
   },
   "file_extension": ".py",
   "mimetype": "text/x-python",
   "name": "python",
   "nbconvert_exporter": "python",
   "pygments_lexer": "ipython2",
   "version": "2.7.6"
  }
 },
 "nbformat": 4,
 "nbformat_minor": 0
}
