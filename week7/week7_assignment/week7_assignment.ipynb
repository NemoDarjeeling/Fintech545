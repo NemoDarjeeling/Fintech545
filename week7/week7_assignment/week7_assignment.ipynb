{
 "cells": [
  {
   "cell_type": "markdown",
   "source": [
    "# Problem 1"
   ],
   "metadata": {
    "collapsed": false
   }
  },
  {
   "cell_type": "markdown",
   "source": [
    "* Current Stock Price 151.03\n",
    "\n",
    "* Strike Price 165\n",
    "\n",
    "* Current Date 03/13/2022\n",
    "\n",
    "* Options Expiration Date 04/15/2022\n",
    "\n",
    "* Risk Free Rate of 4.25%\n",
    "\n",
    "* Continuously Compounding Coupon of 0.53%\n",
    "\n",
    "Implement the closed form Greeks for GBSM. Implement a finite difference derivative calculation.\n",
    "\n",
    "Compare the values between the two methods for both a call and a put.\n",
    "\n",
    "Implement the binomial tree valuation for American options with and without discrete dividends. Assume the stock above:\n",
    "\n",
    "* Pays dividend on 4/11/2022 of $0.88\n",
    "\n",
    "Calculate the value of the call and the put. Calculate the Greeks of each.\n",
    "\n",
    "What is the sensitivity of the put and call to a change in the dividend amount?"
   ],
   "metadata": {
    "collapsed": false
   }
  },
  {
   "cell_type": "code",
   "execution_count": 1,
   "outputs": [],
   "source": [
    "import numpy as np\n",
    "import pandas as pd\n",
    "from datetime import datetime, timedelta\n",
    "from scipy.stats import norm"
   ],
   "metadata": {
    "collapsed": false,
    "ExecuteTime": {
     "end_time": "2023-11-10T14:28:44.729855Z",
     "start_time": "2023-11-10T14:28:39.862177Z"
    }
   }
  },
  {
   "cell_type": "code",
   "execution_count": 2,
   "outputs": [],
   "source": [
    "S = 151.03\n",
    "X = 165\n",
    "r = 0.0425\n",
    "coupon = 0.0053\n",
    "b = r - coupon\n",
    "sigma = 0.2\n",
    "current_date = datetime(2022,3,13)\n",
    "exp_date = datetime(2022,4,15)"
   ],
   "metadata": {
    "collapsed": false,
    "ExecuteTime": {
     "end_time": "2023-11-10T14:33:55.549654Z",
     "start_time": "2023-11-10T14:33:55.546507Z"
    }
   }
  },
  {
   "cell_type": "code",
   "execution_count": 3,
   "outputs": [],
   "source": [
    "def time_to_maturity(current_date, exp_date):\n",
    "    ttm = (exp_date - current_date).days / 365\n",
    "    return ttm\n",
    "\n",
    "def cal_d1_d2(S, X, T, sigma, b):\n",
    "    d1 = (np.log(S/X)+(b + (sigma**2)/2)*T)/(sigma* np.sqrt(T))\n",
    "    d2 = d1 - sigma * np.sqrt(T)\n",
    "    return d1, d2\n",
    "T = time_to_maturity(current_date, exp_date)"
   ],
   "metadata": {
    "collapsed": false,
    "ExecuteTime": {
     "end_time": "2023-11-10T14:34:26.711359Z",
     "start_time": "2023-11-10T14:34:26.708471Z"
    }
   }
  },
  {
   "cell_type": "code",
   "execution_count": 4,
   "outputs": [],
   "source": [
    "def delta_gbsm(option_type, S, X, T, sigma, b, r):\n",
    "    d1, d2 = cal_d1_d2(S, X, T, sigma, b)\n",
    "    if option_type == \"Call\":\n",
    "        delta = np.exp((b-r)*T) * norm.cdf(d1)\n",
    "    else:\n",
    "        delta = np.exp((b-r)*T) * (norm.cdf(d1)-1)\n",
    "    return delta"
   ],
   "metadata": {
    "collapsed": false,
    "ExecuteTime": {
     "end_time": "2023-11-10T14:35:06.149833Z",
     "start_time": "2023-11-10T14:35:06.148088Z"
    }
   }
  },
  {
   "cell_type": "code",
   "execution_count": 5,
   "outputs": [
    {
     "name": "stdout",
     "output_type": "stream",
     "text": [
      "For the closed form greeks for GBSM:\n",
      "Call's Delta is  0.08297130333914773\n",
      "Put's Delta is  -0.9165496333661425\n"
     ]
    }
   ],
   "source": [
    "print('For the closed form greeks for GBSM:')\n",
    "print(\"Call's Delta is \", delta_gbsm('Call', S, X, T, sigma, b, r))\n",
    "print(\"Put's Delta is \", delta_gbsm('Put', S, X, T, sigma, b, r))"
   ],
   "metadata": {
    "collapsed": false,
    "ExecuteTime": {
     "end_time": "2023-11-10T14:35:18.229885Z",
     "start_time": "2023-11-10T14:35:18.224701Z"
    }
   }
  },
  {
   "cell_type": "code",
   "execution_count": 6,
   "outputs": [
    {
     "name": "stdout",
     "output_type": "stream",
     "text": [
      "Call's Gamma is  0.016822916101852648\n",
      "Put's Gamma is  0.016822916101852648\n"
     ]
    }
   ],
   "source": [
    "def gamma_gbsm(S, X, T, sigma, b, r):\n",
    "    d1, d2 = cal_d1_d2(S, X, T, sigma, b)\n",
    "    gamma = (norm.pdf(d1)*np.exp((b-r)*T)) / (S * sigma *np.sqrt(T))\n",
    "    return gamma\n",
    "\n",
    "print(\"Call's Gamma is \", gamma_gbsm( S, X, T, sigma, b, r))\n",
    "print(\"Put's Gamma is \", gamma_gbsm( S, X, T, sigma, b, r))"
   ],
   "metadata": {
    "collapsed": false,
    "ExecuteTime": {
     "end_time": "2023-11-10T14:36:00.194164Z",
     "start_time": "2023-11-10T14:36:00.187066Z"
    }
   }
  },
  {
   "cell_type": "code",
   "execution_count": 7,
   "outputs": [
    {
     "name": "stdout",
     "output_type": "stream",
     "text": [
      "Call's Vega is  6.938710929513443\n",
      "Put's Vega is  6.938710929513443\n"
     ]
    }
   ],
   "source": [
    "def vega_gbsm(S, X, T, sigma, b, r):\n",
    "    d1, d2 = cal_d1_d2(S, X, T, sigma, b)\n",
    "    vega = S * np.exp((b-r)*T) * norm.pdf(d1) * np.sqrt(T)\n",
    "    return vega\n",
    "print(\"Call's Vega is \", vega_gbsm( S, X, T, sigma, b, r))\n",
    "print(\"Put's Vega is \", vega_gbsm( S, X, T, sigma, b, r))"
   ],
   "metadata": {
    "collapsed": false,
    "ExecuteTime": {
     "end_time": "2023-11-10T14:36:24.922543Z",
     "start_time": "2023-11-10T14:36:24.901790Z"
    }
   }
  },
  {
   "cell_type": "code",
   "execution_count": 8,
   "outputs": [
    {
     "name": "stdout",
     "output_type": "stream",
     "text": [
      "Call's Theta is  -8.126522359668838\n",
      "Put's Theta is  -1.9409914783019566\n"
     ]
    }
   ],
   "source": [
    "def theta_gbsm(option_type, S, X, T, sigma, b, r):\n",
    "    d1, d2 = cal_d1_d2(S, X, T, sigma, b)\n",
    "    if option_type == \"Call\":\n",
    "        theta = -(S*np.exp((b-r)*T)*norm.pdf(d1)*sigma)/(2*np.sqrt(T))\\\n",
    "                -(b-r)*S*np.exp((b-r)*T)*norm.cdf(d1)\\\n",
    "                -r*X*np.exp(-r*T)*norm.cdf(d2)\n",
    "    else:\n",
    "        theta = -(S*np.exp((b-r)*T)*norm.pdf(d1)*sigma)/(2*np.sqrt(T))\\\n",
    "                +(b-r)*S*np.exp((b-r)*T)*norm.cdf(-d1)\\\n",
    "                +r*X*np.exp(-r*T)*norm.cdf(-d2)\n",
    "    return theta\n",
    "print(\"Call's Theta is \", theta_gbsm( \"Call\", S, X, T, sigma, b, r))\n",
    "print(\"Put's Theta is \", theta_gbsm( \"Put\", S, X, T, sigma, b, r))"
   ],
   "metadata": {
    "collapsed": false,
    "ExecuteTime": {
     "end_time": "2023-11-10T14:36:49.859015Z",
     "start_time": "2023-11-10T14:36:49.854724Z"
    }
   }
  },
  {
   "cell_type": "code",
   "execution_count": 9,
   "outputs": [
    {
     "name": "stdout",
     "output_type": "stream",
     "text": [
      "Call's Rho is  1.1025939156368187\n",
      "Put's Rho is  -13.758003122735788\n"
     ]
    }
   ],
   "source": [
    "def rho_gbsm(option_type, S, X, T, sigma, b, r):\n",
    "    d1, d2 = cal_d1_d2(S, X, T, sigma, b)\n",
    "    if option_type == \"Call\":\n",
    "        rho = T*X*np.exp(-r*T)*norm.cdf(d2)\n",
    "    else:\n",
    "        rho = -T*X*np.exp(-r*T)*norm.cdf(-d2)\n",
    "    return rho\n",
    "print(\"Call's Rho is \", rho_gbsm( \"Call\", S, X, T, sigma, b, r))\n",
    "print(\"Put's Rho is \", rho_gbsm( \"Put\", S, X, T, sigma, b, r))"
   ],
   "metadata": {
    "collapsed": false,
    "ExecuteTime": {
     "end_time": "2023-11-10T14:37:00.690866Z",
     "start_time": "2023-11-10T14:37:00.683298Z"
    }
   }
  },
  {
   "cell_type": "code",
   "execution_count": 10,
   "outputs": [
    {
     "name": "stdout",
     "output_type": "stream",
     "text": [
      "Call's Carry Rho is  1.132953825011723\n",
      "Put's Carry Rho is  -12.515271800549371\n"
     ]
    }
   ],
   "source": [
    "def carry_rho_gbsm(option_type, S, X, T, sigma, b, r):\n",
    "    d1, d2 = cal_d1_d2(S, X, T, sigma, b)\n",
    "    if option_type == \"Call\":\n",
    "        carry_rho = T*S*np.exp((b-r)*T)*norm.cdf(d1)\n",
    "    else:\n",
    "        carry_rho = -T*S*np.exp((b-r)*T)*norm.cdf(-d1)\n",
    "    return carry_rho\n",
    "print(\"Call's Carry Rho is \", carry_rho_gbsm( \"Call\", S, X, T, sigma, b, r))\n",
    "print(\"Put's Carry Rho is \", carry_rho_gbsm( \"Put\", S, X, T, sigma, b, r))"
   ],
   "metadata": {
    "collapsed": false,
    "ExecuteTime": {
     "end_time": "2023-11-10T14:37:15.274147Z",
     "start_time": "2023-11-10T14:37:15.272794Z"
    }
   }
  },
  {
   "cell_type": "code",
   "execution_count": 11,
   "outputs": [],
   "source": [
    "import inspect\n",
    "\n",
    "# Implement a finite diference derivative calculation\n",
    "def first_order_derivative(function, x, delta):\n",
    "    result = (function(x+delta) - function(x-delta)) / (2*delta)\n",
    "    return result\n",
    "\n",
    "def second_order_devirvative(function, x, delta):\n",
    "    result = (function(x+delta) + function(x-delta) - 2*function(x)) / (delta**2)\n",
    "    return result"
   ],
   "metadata": {
    "collapsed": false,
    "ExecuteTime": {
     "end_time": "2023-11-10T14:41:41.148157Z",
     "start_time": "2023-11-10T14:41:41.144275Z"
    }
   }
  },
  {
   "cell_type": "code",
   "execution_count": 12,
   "outputs": [],
   "source": [
    "def cal_derivative_wrt_one(function, order, object_arg, delta = 1e-3):\n",
    "    all_args = list(inspect.signature(function).parameters.keys())\n",
    "    orders_dic = {1:first_order_derivative, 2:second_order_devirvative}\n",
    "\n",
    "    def cal_derivative(*args, **kwargs):\n",
    "        args_dic = dict(list(zip(all_args, args)) + list(kwargs.items()))\n",
    "        value_arg = args_dic.pop(object_arg)\n",
    "\n",
    "        def trans_into_one_arg(x):\n",
    "            all_args = {object_arg:x, **args_dic}\n",
    "            return function(**all_args)\n",
    "        return orders_dic[order](trans_into_one_arg, value_arg, delta)\n",
    "    return cal_derivative"
   ],
   "metadata": {
    "collapsed": false,
    "ExecuteTime": {
     "end_time": "2023-11-10T14:41:55.313521Z",
     "start_time": "2023-11-10T14:41:55.309892Z"
    }
   }
  },
  {
   "cell_type": "code",
   "execution_count": 13,
   "outputs": [],
   "source": [
    "def gbsm(option_type, S, X, T, sigma, r, b):\n",
    "    d1 = (np.log(S/X)+(b + (sigma**2)/2)*T)/(sigma* np.sqrt(T))\n",
    "    d2 = d1 - sigma * np.sqrt(T)\n",
    "\n",
    "    if option_type == \"Call\":\n",
    "        call_value = S * np.exp((b-r)*T)*norm.cdf(d1) - X * np.exp(-r*T)*norm.cdf(d2)\n",
    "        return call_value\n",
    "    else:\n",
    "        put_value = X * np.exp(-r*T)*norm.cdf(-d2) - S * np.exp((b-r)*T)*norm.cdf(-d1)\n",
    "        return put_value"
   ],
   "metadata": {
    "collapsed": false,
    "ExecuteTime": {
     "end_time": "2023-11-10T14:42:06.917596Z",
     "start_time": "2023-11-10T14:42:06.912793Z"
    }
   }
  },
  {
   "cell_type": "code",
   "execution_count": 15,
   "outputs": [
    {
     "name": "stdout",
     "output_type": "stream",
     "text": [
      "For finite difference:\n",
      "Call's Delta is  0.08297130374668171\n",
      "Put's Delta is  -0.9165496329472944\n",
      "Call's Gamma is  0.016822911064195978\n",
      "Put's Gamma is  0.016822951920403284\n",
      "Call's Vega is  6.938653056250743\n",
      "Put's Vega is  6.93865305626673\n",
      "Call's Theta is  -8.126308803761084\n",
      "Put's Theta is  -1.9407779203106656\n",
      "Call's Rho is  -0.030359909416688424\n",
      "Put's Rho is  -1.2427313238703164\n",
      "Call's Carry Rho is  1.1329550097096686\n",
      "Put's Carry Rho is  -12.515270634423814\n"
     ]
    }
   ],
   "source": [
    "print(\"For finite difference:\")\n",
    "gbsm_delta = cal_derivative_wrt_one(gbsm, 1, 'S')\n",
    "print(\"Call's Delta is \", gbsm_delta( \"Call\", S, X, T, sigma, r, b))\n",
    "print(\"Put's Delta is \", gbsm_delta( \"Put\", S, X, T, sigma, r, b))\n",
    "gbsm_gamma = cal_derivative_wrt_one(gbsm, 2 ,'S')\n",
    "print(\"Call's Gamma is \", gbsm_gamma( \"Call\", S, X, T, sigma, r, b))\n",
    "print(\"Put's Gamma is \", gbsm_gamma( \"Put\", S, X, T, sigma, r, b))\n",
    "gbsm_vega = cal_derivative_wrt_one(gbsm, 1 ,'sigma')\n",
    "print(\"Call's Vega is \", gbsm_vega( \"Call\", S, X, T, sigma, r, b))\n",
    "print(\"Put's Vega is \", gbsm_vega( \"Put\", S, X, T, sigma, r, b))\n",
    "gbsm_theta = cal_derivative_wrt_one(gbsm, 1 ,'T')\n",
    "print(\"Call's Theta is \", -gbsm_theta( \"Call\", S, X, T, sigma, r, b))\n",
    "print(\"Put's Theta is \", -gbsm_theta( \"Put\", S, X, T, sigma, r, b))\n",
    "gbsm_rho = cal_derivative_wrt_one(gbsm, 1 ,'r')\n",
    "print(\"Call's Rho is \", gbsm_rho( \"Call\", S, X, T, sigma, r, b))\n",
    "print(\"Put's Rho is \", gbsm_rho( \"Put\", S, X, T, sigma, r, b))\n",
    "gbsm_carry_rho = cal_derivative_wrt_one(gbsm, 1 ,'b')\n",
    "print(\"Call's Carry Rho is \", gbsm_carry_rho( \"Call\", S, X, T, sigma, r, b))\n",
    "print(\"Put's Carry Rho is \", gbsm_carry_rho( \"Put\", S, X, T, sigma, r, b))"
   ],
   "metadata": {
    "collapsed": false,
    "ExecuteTime": {
     "end_time": "2023-11-10T14:42:57.277931Z",
     "start_time": "2023-11-10T14:42:57.253460Z"
    }
   }
  },
  {
   "cell_type": "code",
   "execution_count": 16,
   "outputs": [],
   "source": [
    "# No dividend binomial tree\n",
    "def bt_no_div(call, underlying, strike, ttm, rf, b, ivol, N):\n",
    "    dt = ttm/N\n",
    "    u = np.exp(ivol*np.sqrt(dt))\n",
    "    d = 1/u\n",
    "    pu = (np.exp(b*dt)-d)/(u-d)\n",
    "    pd = 1.0-pu\n",
    "    df = np.exp(-rf*dt)\n",
    "    z = 1 if call else -1\n",
    "\n",
    "    def nNodeFunc(n):\n",
    "        return (n+1)*(n+2) // 2\n",
    "    def idxFunc(i,j):\n",
    "        return nNodeFunc(j-1)+i\n",
    "    nNodes = nNodeFunc(N)\n",
    "\n",
    "    optionValues = [0.0] * nNodes\n",
    "\n",
    "    for j in range(N,-1,-1):\n",
    "        for i in range(j,-1,-1):\n",
    "            idx = idxFunc(i,j)\n",
    "            price = underlying*u**i*d**(j-i)\n",
    "            optionValues[idx] = max(0,z*(price-strike))\n",
    "\n",
    "            if j < N:\n",
    "                optionValues[idx] = max(optionValues[idx], df*(pu*optionValues[idxFunc(i+1,j+1)] + pd*optionValues[idxFunc(i,j+1)]))\n",
    "\n",
    "    return optionValues[0]"
   ],
   "metadata": {
    "collapsed": false,
    "ExecuteTime": {
     "end_time": "2023-11-10T14:57:53.322184Z",
     "start_time": "2023-11-10T14:57:53.317857Z"
    }
   }
  },
  {
   "cell_type": "code",
   "execution_count": 17,
   "outputs": [],
   "source": [
    "from typing import List\n",
    "\n",
    "def bt_with_div(call: bool, underlying: float, strike: float, ttm: float, rf: float, b:float, divAmts: List[float], divTimes: List[int], ivol: float, N: int):\n",
    "    # Actually b = rf in discrete dividend condition\n",
    "    # if there are no dividends or the first dividend is outside out grid, return the standard bt_american value\n",
    "    if not divAmts or not divTimes or divTimes[0] > N:\n",
    "        return bt_no_div(call, underlying, strike, ttm, rf, b, ivol, N)\n",
    "\n",
    "    dt = ttm / N\n",
    "    u = np.exp(ivol * np.sqrt(dt))\n",
    "    d = 1 / u\n",
    "    pu = (np.exp(b * dt) - d) / (u - d)\n",
    "    pd = 1 - pu\n",
    "    df = np.exp(-rf * dt)\n",
    "    z = 1 if call else -1\n",
    "\n",
    "    def nNodeFunc(n: int) -> int:\n",
    "        return int((n + 1) * (n + 2) / 2)\n",
    "\n",
    "    def idxFunc(i: int, j: int) -> int:\n",
    "        return nNodeFunc(j - 1) + i\n",
    "\n",
    "    nDiv = len(divTimes)\n",
    "    nNodes = nNodeFunc(divTimes[0])\n",
    "\n",
    "    optionValues = [0] * nNodes\n",
    "\n",
    "    for j in range(divTimes[0], -1, -1):\n",
    "        for i in range(j, -1, -1):\n",
    "            idx = idxFunc(i, j)\n",
    "            price = underlying * (u ** i) * (d ** (j - i))\n",
    "\n",
    "            if j < divTimes[0]:\n",
    "                #times before the dividend working backward induction\n",
    "                optionValues[idx] = max(0, z * (price - strike))\n",
    "                optionValues[idx] = max(optionValues[idx], df * (pu * optionValues[idxFunc(i + 1, j + 1)] + pd * optionValues[idxFunc(i, j + 1)]))\n",
    "            else:\n",
    "                #time of the dividend\n",
    "                valNoExercise = bt_with_div(call, price - divAmts[0], strike, ttm - divTimes[0] * dt, rf, b, divAmts[1:], [t - divTimes[0] for t in divTimes[1:]], ivol, N - divTimes[0])\n",
    "                valExercise = max(0, z * (price - strike))\n",
    "                optionValues[idx] = max(valNoExercise, valExercise)\n",
    "\n",
    "    return optionValues[0]"
   ],
   "metadata": {
    "collapsed": false,
    "ExecuteTime": {
     "end_time": "2023-11-10T14:58:36.370545Z",
     "start_time": "2023-11-10T14:58:36.367612Z"
    }
   }
  },
  {
   "cell_type": "code",
   "execution_count": 18,
   "outputs": [],
   "source": [
    "N = 200\n",
    "div = [0.88]\n",
    "div_date = datetime(2022, 4, 11)\n",
    "div_time = [round((div_date - current_date).days / (exp_date - current_date).days * N)]"
   ],
   "metadata": {
    "collapsed": false,
    "ExecuteTime": {
     "end_time": "2023-11-10T15:10:56.462562Z",
     "start_time": "2023-11-10T15:10:56.435389Z"
    }
   }
  },
  {
   "cell_type": "code",
   "execution_count": 19,
   "outputs": [
    {
     "name": "stdout",
     "output_type": "stream",
     "text": [
      "Using binomial tree\n",
      "For the condition without dividend:\n",
      "The value of call option is  0.33600393488438995\n",
      "The value of put option is  14.036960189311927\n",
      "For the condition with dividend:\n",
      "The value of call option is  0.2986182507141458\n",
      "The value of put option is  14.556578296240984\n"
     ]
    }
   ],
   "source": [
    "print(\"Using binomial tree\")\n",
    "print(\"For the condition without dividend:\")\n",
    "print(\"The value of call option is \", bt_no_div(True, S, X, T, r, b, sigma, N))\n",
    "print(\"The value of put option is \", bt_no_div(False, S, X, T, r, b, sigma, N))\n",
    "b = 0.0425\n",
    "print(\"For the condition with dividend:\")\n",
    "print(\"The value of call option is \", bt_with_div(True, S, X, T, r, b, div, div_time, sigma, N))\n",
    "print(\"The value of put option is \", bt_with_div(False, S, X, T, r, b, div, div_time, sigma, N))"
   ],
   "metadata": {
    "collapsed": false,
    "ExecuteTime": {
     "end_time": "2023-11-10T15:13:46.177782Z",
     "start_time": "2023-11-10T15:13:45.524124Z"
    }
   }
  },
  {
   "cell_type": "code",
   "execution_count": 20,
   "outputs": [
    {
     "name": "stdout",
     "output_type": "stream",
     "text": [
      "Using binomial tree, calculate the greeks:\n",
      "Call's Delta is  0.07257286328979373\n",
      "Put's Delta is  -0.9383141177661258\n",
      "Call's Gamma is  -8.881784197001252e-10\n",
      "Put's Gamma is  1.3287149158713873e-05\n",
      "Call's Vega is  6.319443776511474\n",
      "Put's Vega is  5.675482057655223\n",
      "Call's Theta is  -7.467912305700292\n",
      "Put's Theta is  -0.4489716873523619\n",
      "Call's Rho is  -0.02437109966921258\n",
      "Put's Rho is  -1.160866467771804\n",
      "Call's Carry Rho is  0.9626647836451507\n",
      "Put's Carry Rho is  -11.311095439340946\n"
     ]
    }
   ],
   "source": [
    "print(\"Using binomial tree, calculate the greeks:\")\n",
    "bt_delta = cal_derivative_wrt_one(bt_with_div, 1, 'underlying')\n",
    "print(\"Call's Delta is \", bt_delta(True, S, X, T, r, b, div, div_time, sigma, N))\n",
    "print(\"Put's Delta is \", bt_delta(False, S, X, T, r, b, div, div_time, sigma, N))\n",
    "\n",
    "bt_gamma = cal_derivative_wrt_one(bt_with_div, 2 ,'underlying')\n",
    "print(\"Call's Gamma is \", bt_gamma( True, S, X, T, r, b, div, div_time, sigma, N))\n",
    "print(\"Put's Gamma is \", bt_gamma( False, S, X, T, r, b, div, div_time, sigma, N))\n",
    "\n",
    "bt_vega = cal_derivative_wrt_one(bt_with_div, 1 ,'ivol')\n",
    "print(\"Call's Vega is \", bt_vega( True, S, X, T, r, b, div, div_time, sigma, N))\n",
    "print(\"Put's Vega is \", bt_vega( False, S, X, T, r, b, div, div_time, sigma, N))\n",
    "\n",
    "bt_theta = cal_derivative_wrt_one(bt_with_div, 1 ,'ttm')\n",
    "print(\"Call's Theta is \", -bt_theta( True, S, X, T, r, b, div, div_time, sigma, N))\n",
    "print(\"Put's Theta is \", -bt_theta( False, S, X, T, r, b, div, div_time, sigma, N))\n",
    "\n",
    "bt_rho = cal_derivative_wrt_one(bt_with_div, 1 ,'rf')\n",
    "print(\"Call's Rho is \", bt_rho( True, S, X, T, r, b, div, div_time, sigma, N))\n",
    "print(\"Put's Rho is \", bt_rho( False, S, X, T, r, b, div, div_time, sigma, N))\n",
    "\n",
    "bt_carry_rho = cal_derivative_wrt_one(bt_with_div, 1 ,'b')\n",
    "print(\"Call's Carry Rho is \", bt_carry_rho( True, S, X, T, r, b, div, div_time, sigma, N))\n",
    "print(\"Put's Carry Rho is \", bt_carry_rho( False, S, X, T, r, b, div, div_time, sigma, N))"
   ],
   "metadata": {
    "collapsed": false,
    "ExecuteTime": {
     "end_time": "2023-11-10T15:14:29.133294Z",
     "start_time": "2023-11-10T15:14:24.022724Z"
    }
   }
  },
  {
   "cell_type": "code",
   "execution_count": 21,
   "outputs": [
    {
     "name": "stdout",
     "output_type": "stream",
     "text": [
      "Sensitivity to dividend amount: Call: -0.021, Put: 0.941\n"
     ]
    }
   ],
   "source": [
    "# Sensitivity of the put and call to a change in dividend amount\n",
    "delta = 1e-3\n",
    "div_up = [0.88 + delta]\n",
    "div_down = [0.88 - delta]\n",
    "call_up = bt_with_div(True, S, X, T, r, b, div_up, div_time, sigma, N)\n",
    "call_down = bt_with_div(True, S, X, T, r, b, div_down, div_time, sigma, N)\n",
    "call_sens_to_div_amount = (call_up - call_down) / (2*delta)\n",
    "\n",
    "put_up = bt_with_div(False, S, X, T, r, b, div_up, div_time, sigma, N)\n",
    "put_down = bt_with_div(False, S, X, T, r, b, div_down, div_time, sigma, N)\n",
    "put_sens_to_div_amount = (put_up - put_down) / (2*delta)\n",
    "print(f\"Sensitivity to dividend amount: Call: {call_sens_to_div_amount:.3f}, Put: {put_sens_to_div_amount:.3f}\")"
   ],
   "metadata": {
    "collapsed": false,
    "ExecuteTime": {
     "end_time": "2023-11-10T15:20:31.944757Z",
     "start_time": "2023-11-10T15:20:31.105078Z"
    }
   }
  },
  {
   "cell_type": "markdown",
   "source": [
    "# Problem 2"
   ],
   "metadata": {
    "collapsed": false
   }
  },
  {
   "cell_type": "markdown",
   "source": [
    "Using the options portfolios from Problem3 last week (named problem2.csv in this week’s repo) and assuming :\n",
    "\n",
    "* American Options\n",
    "\n",
    "* Current Date 03/03/2023\n",
    "\n",
    "* Current AAPL price is 165\n",
    "\n",
    "* Risk Free Rate of 4.25%\n",
    "\n",
    "* Dividend Payment of 1.00 on 3/15/2023\n",
    "\n",
    "Using DailyPrices.csv. Fit a Normal distribution to AAPL returns – assume 0 mean return. Simulate AAPL returns 10 days ahead and apply those returns to the current AAPL price (above). Calculate Mean, VaR and ES.\n",
    "\n",
    "Calculate VaR and ES using Delta-Normal.\n",
    "\n",
    "Present all VaR and ES values a dollar loss, not percentages.\n",
    "\n",
    "Compare these results to last week’s results."
   ],
   "metadata": {
    "collapsed": false
   }
  },
  {
   "cell_type": "code",
   "execution_count": null,
   "outputs": [],
   "source": [],
   "metadata": {
    "collapsed": false
   }
  },
  {
   "cell_type": "markdown",
   "source": [
    "# Problem 3"
   ],
   "metadata": {
    "collapsed": false
   }
  },
  {
   "cell_type": "markdown",
   "source": [
    "Use the Fama French 3 factor return time series (F-F_Research_Data_Factors_daily.CSV) as well as the Carhart Momentum time series (F-F_Momentum_Factor_daily.CSV) to fit a 4 factor model to the following stocks.\n",
    "\n",
    "AAPL FB UNH MA\n",
    "MSFT NVDA HD PFE\n",
    "AMZN BRK-B PG XOM\n",
    "TSLA JPM V DIS\n",
    "GOOGL JNJ BAC CSCO\n",
    "\n",
    "Fama stores values as percentages, you will need to divide by 100 (or multiply the stock returns by 100) to get like units.\n",
    "\n",
    "Based on the past 10 years of factor returns, find the expected annual return of each stock.\n",
    "\n",
    "Construct an annual covariance matrix for the 10 stocks.\n",
    "\n",
    "Assume the risk free rate is 0.0425. Find the super efficient portfolio.\n"
   ],
   "metadata": {
    "collapsed": false
   }
  },
  {
   "cell_type": "code",
   "execution_count": null,
   "outputs": [],
   "source": [],
   "metadata": {
    "collapsed": false
   }
  },
  {
   "cell_type": "markdown",
   "source": [],
   "metadata": {
    "collapsed": false
   }
  }
 ],
 "metadata": {
  "kernelspec": {
   "display_name": "Python 3",
   "language": "python",
   "name": "python3"
  },
  "language_info": {
   "codemirror_mode": {
    "name": "ipython",
    "version": 2
   },
   "file_extension": ".py",
   "mimetype": "text/x-python",
   "name": "python",
   "nbconvert_exporter": "python",
   "pygments_lexer": "ipython2",
   "version": "2.7.6"
  }
 },
 "nbformat": 4,
 "nbformat_minor": 0
}
