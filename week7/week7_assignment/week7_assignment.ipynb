{
 "cells": [
  {
   "cell_type": "markdown",
   "source": [
    "# Problem 1"
   ],
   "metadata": {
    "collapsed": false
   }
  },
  {
   "cell_type": "markdown",
   "source": [
    "* Current Stock Price 151.03\n",
    "\n",
    "* Strike Price 165\n",
    "\n",
    "* Current Date 03/13/2022\n",
    "\n",
    "* Options Expiration Date 04/15/2022\n",
    "\n",
    "* Risk Free Rate of 4.25%\n",
    "\n",
    "* Continuously Compounding Coupon of 0.53%\n",
    "\n",
    "Implement the closed form Greeks for GBSM. Implement a finite difference derivative calculation.\n",
    "\n",
    "Compare the values between the two methods for both a call and a put.\n",
    "\n",
    "Implement the binomial tree valuation for American options with and without discrete dividends. Assume the stock above:\n",
    "\n",
    "* Pays dividend on 4/11/2022 of $0.88\n",
    "\n",
    "Calculate the value of the call and the put. Calculate the Greeks of each.\n",
    "\n",
    "What is the sensitivity of the put and call to a change in the dividend amount?"
   ],
   "metadata": {
    "collapsed": false
   }
  },
  {
   "cell_type": "code",
   "execution_count": 1,
   "outputs": [],
   "source": [
    "import numpy as np\n",
    "import pandas as pd\n",
    "from datetime import datetime, timedelta\n",
    "from scipy.stats import norm"
   ],
   "metadata": {
    "collapsed": false,
    "ExecuteTime": {
     "end_time": "2023-11-10T16:16:15.020587Z",
     "start_time": "2023-11-10T16:16:13.500317Z"
    }
   }
  },
  {
   "cell_type": "code",
   "execution_count": 2,
   "outputs": [],
   "source": [
    "S = 151.03\n",
    "X = 165\n",
    "r = 0.0425\n",
    "coupon = 0.0053\n",
    "b = r - coupon\n",
    "sigma = 0.2\n",
    "current_date = datetime(2022,3,13)\n",
    "exp_date = datetime(2022,4,15)"
   ],
   "metadata": {
    "collapsed": false,
    "ExecuteTime": {
     "end_time": "2023-11-10T16:16:15.022028Z",
     "start_time": "2023-11-10T16:16:15.017166Z"
    }
   }
  },
  {
   "cell_type": "code",
   "execution_count": 3,
   "outputs": [],
   "source": [
    "def time_to_maturity(current_date, exp_date):\n",
    "    ttm = (exp_date - current_date).days / 365\n",
    "    return ttm\n",
    "\n",
    "def cal_d1_d2(S, X, T, sigma, b):\n",
    "    d1 = (np.log(S/X)+(b + (sigma**2)/2)*T)/(sigma* np.sqrt(T))\n",
    "    d2 = d1 - sigma * np.sqrt(T)\n",
    "    return d1, d2\n",
    "T = time_to_maturity(current_date, exp_date)"
   ],
   "metadata": {
    "collapsed": false,
    "ExecuteTime": {
     "end_time": "2023-11-10T16:16:15.023673Z",
     "start_time": "2023-11-10T16:16:15.021907Z"
    }
   }
  },
  {
   "cell_type": "code",
   "execution_count": 4,
   "outputs": [],
   "source": [
    "def delta_gbsm(option_type, S, X, T, sigma, b, r):\n",
    "    d1, d2 = cal_d1_d2(S, X, T, sigma, b)\n",
    "    if option_type == \"Call\":\n",
    "        delta = np.exp((b-r)*T) * norm.cdf(d1)\n",
    "    else:\n",
    "        delta = np.exp((b-r)*T) * (norm.cdf(d1)-1)\n",
    "    return delta"
   ],
   "metadata": {
    "collapsed": false,
    "ExecuteTime": {
     "end_time": "2023-11-10T16:16:15.028929Z",
     "start_time": "2023-11-10T16:16:15.027342Z"
    }
   }
  },
  {
   "cell_type": "code",
   "execution_count": 5,
   "outputs": [
    {
     "name": "stdout",
     "output_type": "stream",
     "text": [
      "For the closed form greeks for GBSM:\n",
      "Call's Delta is  0.08297130333914773\n",
      "Put's Delta is  -0.9165496333661425\n"
     ]
    }
   ],
   "source": [
    "print('For the closed form greeks for GBSM:')\n",
    "print(\"Call's Delta is \", delta_gbsm('Call', S, X, T, sigma, b, r))\n",
    "print(\"Put's Delta is \", delta_gbsm('Put', S, X, T, sigma, b, r))"
   ],
   "metadata": {
    "collapsed": false,
    "ExecuteTime": {
     "end_time": "2023-11-10T16:16:15.034724Z",
     "start_time": "2023-11-10T16:16:15.032065Z"
    }
   }
  },
  {
   "cell_type": "code",
   "execution_count": 6,
   "outputs": [
    {
     "name": "stdout",
     "output_type": "stream",
     "text": [
      "Call's Gamma is  0.016822916101852648\n",
      "Put's Gamma is  0.016822916101852648\n"
     ]
    }
   ],
   "source": [
    "def gamma_gbsm(S, X, T, sigma, b, r):\n",
    "    d1, d2 = cal_d1_d2(S, X, T, sigma, b)\n",
    "    gamma = (norm.pdf(d1)*np.exp((b-r)*T)) / (S * sigma *np.sqrt(T))\n",
    "    return gamma\n",
    "\n",
    "print(\"Call's Gamma is \", gamma_gbsm( S, X, T, sigma, b, r))\n",
    "print(\"Put's Gamma is \", gamma_gbsm( S, X, T, sigma, b, r))"
   ],
   "metadata": {
    "collapsed": false,
    "ExecuteTime": {
     "end_time": "2023-11-10T16:16:15.038747Z",
     "start_time": "2023-11-10T16:16:15.036626Z"
    }
   }
  },
  {
   "cell_type": "code",
   "execution_count": 7,
   "outputs": [
    {
     "name": "stdout",
     "output_type": "stream",
     "text": [
      "Call's Vega is  6.938710929513443\n",
      "Put's Vega is  6.938710929513443\n"
     ]
    }
   ],
   "source": [
    "def vega_gbsm(S, X, T, sigma, b, r):\n",
    "    d1, d2 = cal_d1_d2(S, X, T, sigma, b)\n",
    "    vega = S * np.exp((b-r)*T) * norm.pdf(d1) * np.sqrt(T)\n",
    "    return vega\n",
    "print(\"Call's Vega is \", vega_gbsm( S, X, T, sigma, b, r))\n",
    "print(\"Put's Vega is \", vega_gbsm( S, X, T, sigma, b, r))"
   ],
   "metadata": {
    "collapsed": false,
    "ExecuteTime": {
     "end_time": "2023-11-10T16:16:15.079629Z",
     "start_time": "2023-11-10T16:16:15.041561Z"
    }
   }
  },
  {
   "cell_type": "code",
   "execution_count": 8,
   "outputs": [
    {
     "name": "stdout",
     "output_type": "stream",
     "text": [
      "Call's Theta is  -8.126522359668838\n",
      "Put's Theta is  -1.9409914783019566\n"
     ]
    }
   ],
   "source": [
    "def theta_gbsm(option_type, S, X, T, sigma, b, r):\n",
    "    d1, d2 = cal_d1_d2(S, X, T, sigma, b)\n",
    "    if option_type == \"Call\":\n",
    "        theta = -(S*np.exp((b-r)*T)*norm.pdf(d1)*sigma)/(2*np.sqrt(T))\\\n",
    "                -(b-r)*S*np.exp((b-r)*T)*norm.cdf(d1)\\\n",
    "                -r*X*np.exp(-r*T)*norm.cdf(d2)\n",
    "    else:\n",
    "        theta = -(S*np.exp((b-r)*T)*norm.pdf(d1)*sigma)/(2*np.sqrt(T))\\\n",
    "                +(b-r)*S*np.exp((b-r)*T)*norm.cdf(-d1)\\\n",
    "                +r*X*np.exp(-r*T)*norm.cdf(-d2)\n",
    "    return theta\n",
    "print(\"Call's Theta is \", theta_gbsm( \"Call\", S, X, T, sigma, b, r))\n",
    "print(\"Put's Theta is \", theta_gbsm( \"Put\", S, X, T, sigma, b, r))"
   ],
   "metadata": {
    "collapsed": false,
    "ExecuteTime": {
     "end_time": "2023-11-10T16:16:15.080245Z",
     "start_time": "2023-11-10T16:16:15.049074Z"
    }
   }
  },
  {
   "cell_type": "code",
   "execution_count": 9,
   "outputs": [
    {
     "name": "stdout",
     "output_type": "stream",
     "text": [
      "Call's Rho is  1.1025939156368187\n",
      "Put's Rho is  -13.758003122735788\n"
     ]
    }
   ],
   "source": [
    "def rho_gbsm(option_type, S, X, T, sigma, b, r):\n",
    "    d1, d2 = cal_d1_d2(S, X, T, sigma, b)\n",
    "    if option_type == \"Call\":\n",
    "        rho = T*X*np.exp(-r*T)*norm.cdf(d2)\n",
    "    else:\n",
    "        rho = -T*X*np.exp(-r*T)*norm.cdf(-d2)\n",
    "    return rho\n",
    "print(\"Call's Rho is \", rho_gbsm( \"Call\", S, X, T, sigma, b, r))\n",
    "print(\"Put's Rho is \", rho_gbsm( \"Put\", S, X, T, sigma, b, r))"
   ],
   "metadata": {
    "collapsed": false,
    "ExecuteTime": {
     "end_time": "2023-11-10T16:16:15.080961Z",
     "start_time": "2023-11-10T16:16:15.055157Z"
    }
   }
  },
  {
   "cell_type": "code",
   "execution_count": 10,
   "outputs": [
    {
     "name": "stdout",
     "output_type": "stream",
     "text": [
      "Call's Carry Rho is  1.132953825011723\n",
      "Put's Carry Rho is  -12.515271800549371\n"
     ]
    }
   ],
   "source": [
    "def carry_rho_gbsm(option_type, S, X, T, sigma, b, r):\n",
    "    d1, d2 = cal_d1_d2(S, X, T, sigma, b)\n",
    "    if option_type == \"Call\":\n",
    "        carry_rho = T*S*np.exp((b-r)*T)*norm.cdf(d1)\n",
    "    else:\n",
    "        carry_rho = -T*S*np.exp((b-r)*T)*norm.cdf(-d1)\n",
    "    return carry_rho\n",
    "print(\"Call's Carry Rho is \", carry_rho_gbsm( \"Call\", S, X, T, sigma, b, r))\n",
    "print(\"Put's Carry Rho is \", carry_rho_gbsm( \"Put\", S, X, T, sigma, b, r))\n",
    "# closed form calculation of the Greeks can only be applied for GBSM, if we use binomial trees to price options, we can only use finite difference calculation"
   ],
   "metadata": {
    "collapsed": false,
    "ExecuteTime": {
     "end_time": "2023-11-10T16:16:15.094620Z",
     "start_time": "2023-11-10T16:16:15.067817Z"
    }
   }
  },
  {
   "cell_type": "code",
   "execution_count": 11,
   "outputs": [],
   "source": [
    "import inspect\n",
    "\n",
    "# Implement a finite difference derivative calculation\n",
    "def first_order_derivative(function, x, delta):\n",
    "    result = (function(x+delta) - function(x-delta)) / (2*delta)\n",
    "    return result\n",
    "\n",
    "def second_order_devirvative(function, x, delta):\n",
    "    result = (function(x+delta) + function(x-delta) - 2*function(x)) / (delta**2)\n",
    "    return result"
   ],
   "metadata": {
    "collapsed": false,
    "ExecuteTime": {
     "end_time": "2023-11-10T16:16:15.095047Z",
     "start_time": "2023-11-10T16:16:15.074609Z"
    }
   }
  },
  {
   "cell_type": "code",
   "execution_count": 12,
   "outputs": [],
   "source": [
    "def cal_derivative_wrt_one(function, order, object_arg, delta = 1e-3):\n",
    "    all_args = list(inspect.signature(function).parameters.keys())\n",
    "    orders_dic = {1:first_order_derivative, 2:second_order_devirvative}\n",
    "\n",
    "    def cal_derivative(*args, **kwargs):\n",
    "        args_dic = dict(list(zip(all_args, args)) + list(kwargs.items()))\n",
    "        value_arg = args_dic.pop(object_arg)\n",
    "\n",
    "        def trans_into_one_arg(x):\n",
    "            all_args = {object_arg:x, **args_dic}\n",
    "            return function(**all_args)\n",
    "        return orders_dic[order](trans_into_one_arg, value_arg, delta)\n",
    "    return cal_derivative"
   ],
   "metadata": {
    "collapsed": false,
    "ExecuteTime": {
     "end_time": "2023-11-10T16:16:15.095165Z",
     "start_time": "2023-11-10T16:16:15.081776Z"
    }
   }
  },
  {
   "cell_type": "code",
   "execution_count": 13,
   "outputs": [],
   "source": [
    "def gbsm(option_type, S, X, T, sigma, r, b):\n",
    "    d1 = (np.log(S/X)+(b + (sigma**2)/2)*T)/(sigma* np.sqrt(T))\n",
    "    d2 = d1 - sigma * np.sqrt(T)\n",
    "\n",
    "    if option_type == \"Call\":\n",
    "        call_value = S * np.exp((b-r)*T)*norm.cdf(d1) - X * np.exp(-r*T)*norm.cdf(d2)\n",
    "        return call_value\n",
    "    else:\n",
    "        put_value = X * np.exp(-r*T)*norm.cdf(-d2) - S * np.exp((b-r)*T)*norm.cdf(-d1)\n",
    "        return put_value"
   ],
   "metadata": {
    "collapsed": false,
    "ExecuteTime": {
     "end_time": "2023-11-10T16:16:15.103279Z",
     "start_time": "2023-11-10T16:16:15.093077Z"
    }
   }
  },
  {
   "cell_type": "code",
   "execution_count": 14,
   "outputs": [
    {
     "name": "stdout",
     "output_type": "stream",
     "text": [
      "For finite difference:\n",
      "Call's Delta is  0.08297130374668171\n",
      "Put's Delta is  -0.9165496329472944\n",
      "Call's Gamma is  0.016822911064195978\n",
      "Put's Gamma is  0.016822951920403284\n",
      "Call's Vega is  6.938653056250743\n",
      "Put's Vega is  6.93865305626673\n",
      "Call's Theta is  -8.126308803761084\n",
      "Put's Theta is  -1.9407779203106656\n",
      "Call's Rho is  -0.030359909416688424\n",
      "Put's Rho is  -1.2427313238703164\n",
      "Call's Carry Rho is  1.1329550097096686\n",
      "Put's Carry Rho is  -12.515270634423814\n"
     ]
    }
   ],
   "source": [
    "print(\"For finite difference:\")\n",
    "gbsm_delta = cal_derivative_wrt_one(gbsm, 1, 'S')\n",
    "# 1 means the derivative we are taking is 1, the first-order derivative measures the rate of change of the function with respect to one of its variables\n",
    "# \"S\" means the derivative we are taking is against \"S\", the underlying stock price, because delta measures how much the price of an option is expected to move for a $1 change in the price of the underlying asset\n",
    "print(\"Call's Delta is \", gbsm_delta( \"Call\", S, X, T, sigma, r, b))\n",
    "print(\"Put's Delta is \", gbsm_delta( \"Put\", S, X, T, sigma, r, b))\n",
    "gbsm_gamma = cal_derivative_wrt_one(gbsm, 2 ,'S')\n",
    "# 2 means the derivative we are taking is 2, the second-order derivative measures the rate of change of the rate of change (i.e., the curvature or the acceleration) of the function with respect to one of its variables\n",
    "# \"S\" means the derivative we are taking is against \"S\", the underlying stock price, because Gamma assesses how much Delta will change for a $1 change in the stock price.\n",
    "print(\"Call's Gamma is \", gbsm_gamma( \"Call\", S, X, T, sigma, r, b))\n",
    "print(\"Put's Gamma is \", gbsm_gamma( \"Put\", S, X, T, sigma, r, b))\n",
    "gbsm_vega = cal_derivative_wrt_one(gbsm, 1 ,'sigma')\n",
    "# \"sigma\" means the derivative we are taking is against \"sigma\", the volatility of the underlying asset, because Vega measures the sensitivity of the option price to changes in the volatility of the underlying asset\n",
    "print(\"Call's Vega is \", gbsm_vega( \"Call\", S, X, T, sigma, r, b))\n",
    "print(\"Put's Vega is \", gbsm_vega( \"Put\", S, X, T, sigma, r, b))\n",
    "gbsm_theta = cal_derivative_wrt_one(gbsm, 1 ,'T')\n",
    "# \"T\" means the derivative we are taking is against \"T\", the time, because Theta quantifies the rate at which an option's value declines as the expiration date approaches.\n",
    "print(\"Call's Theta is \", -gbsm_theta( \"Call\", S, X, T, sigma, r, b))\n",
    "print(\"Put's Theta is \", -gbsm_theta( \"Put\", S, X, T, sigma, r, b))\n",
    "gbsm_rho = cal_derivative_wrt_one(gbsm, 1 ,'r')\n",
    "# \"-\": while the raw computation yields a positive value (the rate at which the option value decreases per time unit), you negate it to express Theta in its conventional form, which shows the loss in option value over time from the holder's perspective.\n",
    "# \"r\" means the derivative we are taking is against \"r\", the risk-free interest rate, because Rho assesses the sensitivity of the option price to changes in the risk-free interest rate.\n",
    "print(\"Call's Rho is \", gbsm_rho( \"Call\", S, X, T, sigma, r, b))\n",
    "print(\"Put's Rho is \", gbsm_rho( \"Put\", S, X, T, sigma, r, b))\n",
    "gbsm_carry_rho = cal_derivative_wrt_one(gbsm, 1 ,'b')\n",
    "# \"b\" means the derivative we are taking is against \"b\", the cost of carry rate, because b captures the impact of both interest rates and dividend yields (if any) on the option's value.\n",
    "print(\"Call's Carry Rho is \", gbsm_carry_rho( \"Call\", S, X, T, sigma, r, b))\n",
    "print(\"Put's Carry Rho is \", gbsm_carry_rho( \"Put\", S, X, T, sigma, r, b))"
   ],
   "metadata": {
    "collapsed": false,
    "ExecuteTime": {
     "end_time": "2023-11-10T16:16:15.167802Z",
     "start_time": "2023-11-10T16:16:15.102587Z"
    }
   }
  },
  {
   "cell_type": "code",
   "execution_count": 15,
   "outputs": [],
   "source": [
    "# No dividend binomial tree\n",
    "def bt_no_div(call, underlying, strike, ttm, rf, b, ivol, N):\n",
    "    # the type of option (call),\n",
    "    # the current price of the underlying asset (underlying),\n",
    "    # the strike price of the option (strike),\n",
    "    # time to maturity (ttm),\n",
    "    # risk-free interest rate (rf),\n",
    "    # cost-of-carry rate (b),\n",
    "    # implied volatility (ivol),\n",
    "    # the number of time steps (N)\n",
    "    dt = ttm/N\n",
    "    u = np.exp(ivol*np.sqrt(dt))\n",
    "    d = 1/u\n",
    "    pu = (np.exp(b*dt)-d)/(u-d)\n",
    "    pd = 1.0-pu\n",
    "    df = np.exp(-rf*dt)\n",
    "    z = 1 if call else -1\n",
    "\n",
    "    def nNodeFunc(n):\n",
    "        return (n+1)*(n+2) // 2\n",
    "    def idxFunc(i,j):\n",
    "        return nNodeFunc(j-1)+i\n",
    "    nNodes = nNodeFunc(N)\n",
    "\n",
    "    optionValues = [0.0] * nNodes\n",
    "\n",
    "    for j in range(N,-1,-1):\n",
    "        for i in range(j,-1,-1):\n",
    "            idx = idxFunc(i,j)\n",
    "            price = underlying*u**i*d**(j-i)\n",
    "            optionValues[idx] = max(0,z*(price-strike))\n",
    "\n",
    "            if j < N:\n",
    "                optionValues[idx] = max(optionValues[idx], df*(pu*optionValues[idxFunc(i+1,j+1)] + pd*optionValues[idxFunc(i,j+1)]))\n",
    "\n",
    "    return optionValues[0]"
   ],
   "metadata": {
    "collapsed": false,
    "ExecuteTime": {
     "end_time": "2023-11-10T16:16:15.168365Z",
     "start_time": "2023-11-10T16:16:15.115736Z"
    }
   }
  },
  {
   "cell_type": "code",
   "execution_count": 16,
   "outputs": [],
   "source": [
    "from typing import List\n",
    "\n",
    "def bt_with_div(call: bool, underlying: float, strike: float, ttm: float, rf: float, b:float, divAmts: List[float], divTimes: List[int], ivol: float, N: int):\n",
    "    # Actually b = rf in discrete dividend condition, because the dividend component of the cost-of-carry is already accounted for in the adjustments to the underlying asset's price.\n",
    "    # if there are no dividends or the first dividend is outside out grid, then calculation would be the same as bt_no_div()\n",
    "\n",
    "    # call: The type of option, where True indicates a call option and False indicates a put option.\n",
    "    # underlying: The current price of the underlying asset (such as a stock) for which the option is written.\n",
    "    # strike: The strike price of the option, which is the fixed price at which the holder can buy (for a call) or sell (for a put) the underlying asset.\n",
    "    # ttm: Time to maturity of the option, expressed in years. It represents how much time is left until the option expires.\n",
    "    # rf: The risk-free interest rate, typically representing the theoretical return of an investment with no risk of financial loss.\n",
    "    # b: The cost-of-carry rate, which in the context of this function, is assumed to be equal to the risk-free interest rate (rf). This simplification is due to the discrete treatment of dividends.\n",
    "    # divAmts: A list of dividend amounts, with each element in the list representing the amount of a single dividend payment.\n",
    "    # divTimes: A list of times at which dividends are paid, expressed as the number of time steps (from the total N steps) until each dividend payment.\n",
    "    # ivol: Implied volatility of the underlying asset, reflecting the market's expectation of the asset's future volatility over the life of the option.\n",
    "    # N: The number of time steps used in the binomial tree model, affecting the granularity and accuracy of the option price calculation.\n",
    "\n",
    "    if not divAmts or not divTimes or divTimes[0] > N:\n",
    "        return bt_no_div(call, underlying, strike, ttm, rf, b, ivol, N)\n",
    "\n",
    "    dt = ttm / N\n",
    "    u = np.exp(ivol * np.sqrt(dt))\n",
    "    d = 1 / u\n",
    "    pu = (np.exp(b * dt) - d) / (u - d)\n",
    "    pd = 1 - pu\n",
    "    df = np.exp(-rf * dt)\n",
    "    z = 1 if call else -1\n",
    "\n",
    "    def nNodeFunc(n: int) -> int:\n",
    "        return int((n + 1) * (n + 2) / 2)\n",
    "\n",
    "    def idxFunc(i: int, j: int) -> int:\n",
    "        return nNodeFunc(j - 1) + i\n",
    "\n",
    "    nDiv = len(divTimes)\n",
    "    nNodes = nNodeFunc(divTimes[0])\n",
    "\n",
    "    optionValues = [0] * nNodes\n",
    "\n",
    "    for j in range(divTimes[0], -1, -1):\n",
    "        for i in range(j, -1, -1):\n",
    "            idx = idxFunc(i, j)\n",
    "            price = underlying * (u ** i) * (d ** (j - i))\n",
    "\n",
    "            if j < divTimes[0]:\n",
    "                #times before the dividend working backward induction\n",
    "                optionValues[idx] = max(0, z * (price - strike))\n",
    "                optionValues[idx] = max(optionValues[idx], df * (pu * optionValues[idxFunc(i + 1, j + 1)] + pd * optionValues[idxFunc(i, j + 1)]))\n",
    "            else:\n",
    "                #time of the dividend\n",
    "                valNoExercise = bt_with_div(call, price - divAmts[0], strike, ttm - divTimes[0] * dt, rf, b, divAmts[1:], [t - divTimes[0] for t in divTimes[1:]], ivol, N - divTimes[0])\n",
    "                valExercise = max(0, z * (price - strike))\n",
    "                optionValues[idx] = max(valNoExercise, valExercise)\n",
    "\n",
    "    return optionValues[0]"
   ],
   "metadata": {
    "collapsed": false,
    "ExecuteTime": {
     "end_time": "2023-11-10T16:16:15.168545Z",
     "start_time": "2023-11-10T16:16:15.125124Z"
    }
   }
  },
  {
   "cell_type": "code",
   "execution_count": 17,
   "outputs": [],
   "source": [
    "N = 200\n",
    "div = [0.88]\n",
    "div_date = datetime(2022, 4, 11)\n",
    "div_time = [round((div_date - current_date).days / (exp_date - current_date).days * N)]"
   ],
   "metadata": {
    "collapsed": false,
    "ExecuteTime": {
     "end_time": "2023-11-10T16:16:15.169436Z",
     "start_time": "2023-11-10T16:16:15.131076Z"
    }
   }
  },
  {
   "cell_type": "code",
   "execution_count": 18,
   "outputs": [
    {
     "name": "stdout",
     "output_type": "stream",
     "text": [
      "Using binomial tree\n",
      "For the condition without dividend:\n",
      "The value of call option is  0.33600393488438995\n",
      "The value of put option is  14.036960189311927\n",
      "For the condition with dividend:\n",
      "The value of call option is  0.2986182507141458\n",
      "The value of put option is  14.556578296240984\n"
     ]
    }
   ],
   "source": [
    "print(\"Using binomial tree\")\n",
    "print(\"For the condition without dividend:\")\n",
    "print(\"The value of call option is \", bt_no_div(True, S, X, T, r, b, sigma, N))\n",
    "print(\"The value of put option is \", bt_no_div(False, S, X, T, r, b, sigma, N))\n",
    "b = 0.0425\n",
    "print(\"For the condition with dividend:\")\n",
    "print(\"The value of call option is \", bt_with_div(True, S, X, T, r, b, div, div_time, sigma, N))\n",
    "print(\"The value of put option is \", bt_with_div(False, S, X, T, r, b, div, div_time, sigma, N))"
   ],
   "metadata": {
    "collapsed": false,
    "ExecuteTime": {
     "end_time": "2023-11-10T16:16:15.597585Z",
     "start_time": "2023-11-10T16:16:15.196918Z"
    }
   }
  },
  {
   "cell_type": "code",
   "execution_count": 19,
   "outputs": [
    {
     "name": "stdout",
     "output_type": "stream",
     "text": [
      "Using binomial tree, calculate the greeks:\n",
      "Call's Delta is  0.07257286328979373\n",
      "Put's Delta is  -0.9383141177661258\n",
      "Call's Gamma is  -8.881784197001252e-10\n",
      "Put's Gamma is  1.3287149158713873e-05\n",
      "Call's Vega is  6.319443776511474\n",
      "Put's Vega is  5.675482057655223\n",
      "Call's Theta is  -7.467912305700292\n",
      "Put's Theta is  -0.4489716873523619\n",
      "Call's Rho is  -0.02437109966921258\n",
      "Put's Rho is  -1.160866467771804\n",
      "Call's Carry Rho is  0.9626647836451507\n",
      "Put's Carry Rho is  -11.311095439340946\n"
     ]
    }
   ],
   "source": [
    "print(\"Using binomial tree, calculate the greeks:\")\n",
    "bt_delta = cal_derivative_wrt_one(bt_with_div, 1, 'underlying')\n",
    "# 1 means the derivative we are taking is 1, the first-order derivative measures the rate of change of the function with respect to one of its variables\n",
    "# \"underlying\" means the derivative we are taking is against \"underlying\", the underlying stock price, because delta measures how much the price of an option is expected to move for a $1 change in the price of the underlying asset: note the actual variable that we will put into cal_derivative_wrt_one varies with variable we want to derive against in the target function, so in gbsm() it is \"S\", in bt_with_div it is \"underlying\"\n",
    "print(\"Call's Delta is \", bt_delta(True, S, X, T, r, b, div, div_time, sigma, N))\n",
    "print(\"Put's Delta is \", bt_delta(False, S, X, T, r, b, div, div_time, sigma, N))\n",
    "\n",
    "bt_gamma = cal_derivative_wrt_one(bt_with_div, 2 ,'underlying')\n",
    "print(\"Call's Gamma is \", bt_gamma( True, S, X, T, r, b, div, div_time, sigma, N))\n",
    "print(\"Put's Gamma is \", bt_gamma( False, S, X, T, r, b, div, div_time, sigma, N))\n",
    "\n",
    "bt_vega = cal_derivative_wrt_one(bt_with_div, 1 ,'ivol')\n",
    "print(\"Call's Vega is \", bt_vega( True, S, X, T, r, b, div, div_time, sigma, N))\n",
    "print(\"Put's Vega is \", bt_vega( False, S, X, T, r, b, div, div_time, sigma, N))\n",
    "\n",
    "bt_theta = cal_derivative_wrt_one(bt_with_div, 1 ,'ttm')\n",
    "print(\"Call's Theta is \", -bt_theta( True, S, X, T, r, b, div, div_time, sigma, N))\n",
    "print(\"Put's Theta is \", -bt_theta( False, S, X, T, r, b, div, div_time, sigma, N))\n",
    "\n",
    "bt_rho = cal_derivative_wrt_one(bt_with_div, 1 ,'rf')\n",
    "print(\"Call's Rho is \", bt_rho( True, S, X, T, r, b, div, div_time, sigma, N))\n",
    "print(\"Put's Rho is \", bt_rho( False, S, X, T, r, b, div, div_time, sigma, N))\n",
    "\n",
    "bt_carry_rho = cal_derivative_wrt_one(bt_with_div, 1 ,'b')\n",
    "print(\"Call's Carry Rho is \", bt_carry_rho( True, S, X, T, r, b, div, div_time, sigma, N))\n",
    "print(\"Put's Carry Rho is \", bt_carry_rho( False, S, X, T, r, b, div, div_time, sigma, N))"
   ],
   "metadata": {
    "collapsed": false,
    "ExecuteTime": {
     "end_time": "2023-11-10T16:16:20.982860Z",
     "start_time": "2023-11-10T16:16:15.602480Z"
    }
   }
  },
  {
   "cell_type": "code",
   "execution_count": 20,
   "outputs": [
    {
     "name": "stdout",
     "output_type": "stream",
     "text": [
      "Sensitivity to dividend amount: Call: -0.021, Put: 0.941\n"
     ]
    }
   ],
   "source": [
    "# Sensitivity of the put and call to a change in dividend amount\n",
    "delta = 1e-3\n",
    "div_up = [0.88 + delta]\n",
    "div_down = [0.88 - delta]\n",
    "call_up = bt_with_div(True, S, X, T, r, b, div_up, div_time, sigma, N)\n",
    "call_down = bt_with_div(True, S, X, T, r, b, div_down, div_time, sigma, N)\n",
    "call_sens_to_div_amount = (call_up - call_down) / (2*delta)\n",
    "\n",
    "put_up = bt_with_div(False, S, X, T, r, b, div_up, div_time, sigma, N)\n",
    "put_down = bt_with_div(False, S, X, T, r, b, div_down, div_time, sigma, N)\n",
    "put_sens_to_div_amount = (put_up - put_down) / (2*delta)\n",
    "print(f\"Sensitivity to dividend amount: Call: {call_sens_to_div_amount:.3f}, Put: {put_sens_to_div_amount:.3f}\")"
   ],
   "metadata": {
    "collapsed": false,
    "ExecuteTime": {
     "end_time": "2023-11-10T16:16:21.663852Z",
     "start_time": "2023-11-10T16:16:21.037142Z"
    }
   }
  },
  {
   "cell_type": "markdown",
   "source": [
    "# Problem 2"
   ],
   "metadata": {
    "collapsed": false
   }
  },
  {
   "cell_type": "markdown",
   "source": [
    "Using the options portfolios from Problem3 last week (named problem2.csv in this week’s repo) and assuming :\n",
    "\n",
    "* American Options\n",
    "\n",
    "* Current Date 03/03/2023\n",
    "\n",
    "* Current AAPL price is 165\n",
    "\n",
    "* Risk Free Rate of 4.25%\n",
    "\n",
    "* Dividend Payment of 1.00 on 3/15/2023\n",
    "\n",
    "Using DailyPrices.csv. Fit a Normal distribution to AAPL returns – assume 0 mean return. Simulate AAPL returns 10 days ahead and apply those returns to the current AAPL price (above). Calculate Mean, VaR and ES.\n",
    "\n",
    "Calculate VaR and ES using Delta-Normal.\n",
    "\n",
    "Present all VaR and ES values a dollar loss, not percentages.\n",
    "\n",
    "Compare these results to last week’s results."
   ],
   "metadata": {
    "collapsed": false
   }
  },
  {
   "cell_type": "code",
   "execution_count": 21,
   "outputs": [],
   "source": [
    "from scipy.optimize import fsolve\n",
    "\n",
    "N = 30\n",
    "portfolios = pd.read_csv(\"problem2.csv\", parse_dates=[\"ExpirationDate\"]) # parse these as dates\n",
    "\n",
    "current_date = datetime(2023,3,3)\n",
    "S_aapl = 151.03\n",
    "\n",
    "def find_iv(call, underlying, strike, ttm, rf, b, divAmts, divTimes, N, price, guess=0.5):\n",
    "    def f(ivol):\n",
    "        return bt_with_div(call, underlying, strike, ttm, rf, b, divAmts, divTimes, ivol, N) - price\n",
    "    return fsolve(f, guess)[0]"
   ],
   "metadata": {
    "collapsed": false,
    "ExecuteTime": {
     "end_time": "2023-11-10T16:16:21.722680Z",
     "start_time": "2023-11-10T16:16:21.669635Z"
    }
   }
  },
  {
   "cell_type": "code",
   "execution_count": 22,
   "outputs": [],
   "source": [
    "ivs = []\n",
    "for i in range(len(portfolios.index)):\n",
    "    if portfolios[\"Type\"][i] == 'Option':\n",
    "        if portfolios[\"OptionType\"][i] == \"Call\":\n",
    "            call = True\n",
    "        elif portfolios[\"OptionType\"][i] ==\"Put\":\n",
    "            call = False\n",
    "        X = portfolios[\"Strike\"][i]\n",
    "        T = time_to_maturity(current_date, portfolios[\"ExpirationDate\"][i])\n",
    "        N = 100\n",
    "        div = [1]\n",
    "        div_date = datetime(2023, 3, 15)\n",
    "        div_time = [int((div_date - current_date).days / (portfolios[\"ExpirationDate\"][i] - current_date).days * N)]\n",
    "        price = portfolios[\"CurrentPrice\"][i]\n",
    "        sigma = find_iv(call, S_aapl, X, T, r, b, div, div_time, N, price)\n",
    "        ivs.append(sigma)\n",
    "    else:\n",
    "        ivs.append(0)\n",
    "portfolios['IV'] = ivs"
   ],
   "metadata": {
    "collapsed": false,
    "ExecuteTime": {
     "end_time": "2023-11-10T16:17:41.330514Z",
     "start_time": "2023-11-10T16:16:21.762840Z"
    }
   }
  },
  {
   "cell_type": "code",
   "execution_count": 23,
   "outputs": [],
   "source": [
    "def cal_portfolio_value(portfolios, underlying_price, current_date):\n",
    "    portfolio_values = pd.DataFrame(index=portfolios.index)\n",
    "    portfolio_values['Portfolio'] = portfolios['Portfolio']\n",
    "\n",
    "    one_values = []\n",
    "    for i in range(len(portfolios.index)):\n",
    "        if portfolios['Type'][i] == \"Stock\":\n",
    "            one_p = underlying_price\n",
    "        else:\n",
    "            if portfolios[\"OptionType\"][i] == \"Call\":\n",
    "                call = True\n",
    "            elif portfolios[\"OptionType\"][i] ==\"Put\":\n",
    "                call = False\n",
    "            S = underlying_price\n",
    "            X = portfolios[\"Strike\"][i]\n",
    "            T = time_to_maturity(current_date, portfolios[\"ExpirationDate\"][i])\n",
    "            iv = portfolios['IV'][i]\n",
    "            div = [1]\n",
    "            div_date = datetime(2023, 3, 15)\n",
    "            div_time = [int((div_date - current_date).days / (portfolios[\"ExpirationDate\"][i] - current_date).days * N)]\n",
    "            one_p = bt_with_div(call, S, X, T, r, b, div, div_time, iv, N)\n",
    "        one_values.append(one_p)\n",
    "    portfolio_values['Value'] = portfolios[\"Holding\"] * np.array(one_values)\n",
    "    return portfolio_values.groupby('Portfolio').sum()\n",
    "\n",
    "portfolio_values_diff = cal_portfolio_value(portfolios, S_aapl, current_date)"
   ],
   "metadata": {
    "collapsed": false,
    "ExecuteTime": {
     "end_time": "2023-11-10T16:17:43.329094Z",
     "start_time": "2023-11-10T16:17:41.329444Z"
    }
   }
  },
  {
   "cell_type": "code",
   "execution_count": 24,
   "outputs": [
    {
     "name": "stderr",
     "output_type": "stream",
     "text": [
      "/Users/yanghaochen/opt/anaconda3/lib/python3.9/site-packages/lib_hcy_week5/myfunctions.py:243: PerformanceWarning: DataFrame is highly fragmented.  This is usually the result of calling `frame.insert` many times, which has poor performance.  Consider joining all columns at once using pd.concat(axis=1) instead. To get a de-fragmented frame, use `newframe = frame.copy()`\n",
      "  out[vars[i]] = p2[:,i]\n"
     ]
    }
   ],
   "source": [
    "from lib_hcy_week5 import myfunctions as mf\n",
    "import scipy\n",
    "\n",
    "prices = pd.read_csv('DailyPrices.csv')\n",
    "all_returns = mf.return_calculate(prices, method=\"LOG\")\n",
    "AAPL_returns = all_returns['AAPL']\n",
    "AAPL_ret = AAPL_returns - AAPL_returns.mean()"
   ],
   "metadata": {
    "collapsed": false,
    "ExecuteTime": {
     "end_time": "2023-11-10T16:17:43.578800Z",
     "start_time": "2023-11-10T16:17:43.331192Z"
    }
   }
  },
  {
   "cell_type": "code",
   "execution_count": 25,
   "outputs": [],
   "source": [
    "np.random.seed(123)\n",
    "mu, std = norm.fit(AAPL_ret)\n",
    "sim_returns = scipy.stats.norm(mu, std).rvs((10, 100))\n",
    "sim_prices = S_aapl * np.exp(sim_returns.sum(axis=0)) # sum by each column, get 100 different simulated 10-day-ahead price\n",
    "\n",
    "portfolio_values_sim = cal_portfolio_value(portfolios, S_aapl, current_date)"
   ],
   "metadata": {
    "collapsed": false,
    "ExecuteTime": {
     "end_time": "2023-11-10T16:17:45.578817Z",
     "start_time": "2023-11-10T16:17:43.583411Z"
    }
   }
  },
  {
   "cell_type": "code",
   "execution_count": 26,
   "outputs": [
    {
     "name": "stderr",
     "output_type": "stream",
     "text": [
      "/var/folders/zd/m53hqz696cnd23z0k2c1g9zc0000gn/T/ipykernel_25192/2071873280.py:3: PerformanceWarning: DataFrame is highly fragmented.  This is usually the result of calling `frame.insert` many times, which has poor performance.  Consider joining all columns at once using pd.concat(axis=1) instead. To get a de-fragmented frame, use `newframe = frame.copy()`\n",
      "  portfolio_values_sim[str(i)] = temp_one_pv['Value']\n"
     ]
    }
   ],
   "source": [
    "for i in sim_prices:\n",
    "    temp_one_pv = cal_portfolio_value(portfolios, i, current_date)\n",
    "    portfolio_values_sim[str(i)] = temp_one_pv['Value']"
   ],
   "metadata": {
    "collapsed": false,
    "ExecuteTime": {
     "end_time": "2023-11-10T16:21:13.237618Z",
     "start_time": "2023-11-10T16:17:45.635396Z"
    }
   }
  },
  {
   "cell_type": "code",
   "execution_count": 27,
   "outputs": [
    {
     "name": "stdout",
     "output_type": "stream",
     "text": [
      "              168.61117442122656  131.4808955639731  167.23508102830814  \\\n",
      "Portfolio                                                                 \n",
      "Call                   12.880666          -6.050472           11.677396   \n",
      "CallSpread              3.940920          -3.906412            3.741479   \n",
      "CoveredCall             6.475374         -15.731407            6.202968   \n",
      "ProtectedPut           14.877766          -7.671075           13.575867   \n",
      "Put                    -4.256611          14.599312           -4.132419   \n",
      "PutSpread              -2.583390           5.517591           -2.500519   \n",
      "Stock                  17.581174         -19.549104           16.205081   \n",
      "Straddle                8.624055           8.548840            7.544977   \n",
      "SynLong                17.137277         -20.649784           15.809815   \n",
      "\n",
      "              157.71778910127182  150.3900773508654  177.96666455091648  \\\n",
      "Portfolio                                                                 \n",
      "Call                    4.172211          -0.324801           21.565166   \n",
      "CallSpread              1.764534          -0.147426            4.936558   \n",
      "CoveredCall             3.345824          -0.368707            7.492013   \n",
      "ProtectedPut            5.068839          -0.419478           23.992954   \n",
      "Put                    -2.426605           0.319082           -4.712750   \n",
      "PutSpread              -1.392620           0.183672           -2.907430   \n",
      "Stock                   6.687789          -0.639923           26.936665   \n",
      "Straddle                1.745607          -0.005719           16.852415   \n",
      "SynLong                 6.598816          -0.643883           26.277916   \n",
      "\n",
      "              145.04959093338456  126.20459968579395  152.78546071110313  \\\n",
      "Portfolio                                                                  \n",
      "Call                   -2.789716           -6.492439            1.021276   \n",
      "CallSpread             -1.538609           -4.298699            0.514874   \n",
      "CoveredCall            -3.990026          -20.847687            1.011421   \n",
      "ProtectedPut           -3.548482           -8.097666            1.241065   \n",
      "Put                     3.357146           19.758449           -0.747632   \n",
      "PutSpread               1.698606            6.394703           -0.394485   \n",
      "Stock                  -5.980409          -24.825400            1.755461   \n",
      "Straddle                0.567430           13.266010            0.273644   \n",
      "SynLong                -6.146862          -26.250887            1.768908   \n",
      "\n",
      "              159.5197639354176  ...  147.58797291378605  160.3849977691434  \\\n",
      "Portfolio                        ...                                          \n",
      "Call                   5.485865  ...           -1.714411           6.117809   \n",
      "CallSpread             2.202635  ...           -0.897705           2.398938   \n",
      "CoveredCall            4.060233  ...           -2.176853           4.355684   \n",
      "ProtectedPut           6.586380  ...           -2.164523           7.330596   \n",
      "Put                   -2.895108  ...            1.802001          -3.078549   \n",
      "PutSpread             -1.689568  ...            0.952680          -1.803845   \n",
      "Stock                  8.489764  ...           -3.442027           9.354998   \n",
      "Straddle               2.590756  ...            0.087590           3.039261   \n",
      "SynLong                8.380973  ...           -3.516412           9.196358   \n",
      "\n",
      "              147.43934952112647  154.08873089319437  131.59792130817232  \\\n",
      "Portfolio                                                                  \n",
      "Call                   -1.777375            1.780348           -6.036865   \n",
      "CallSpread             -0.928812            0.820635           -3.894430   \n",
      "CoveredCall            -2.273829            1.678763          -15.620856   \n",
      "ProtectedPut           -2.250347            2.187801           -7.655590   \n",
      "Put                     1.888919           -1.266976           14.487899   \n",
      "PutSpread               0.998676           -0.707402            5.492754   \n",
      "Stock                  -3.590650            3.058731          -19.432079   \n",
      "Straddle                0.111544            0.513372            8.451034   \n",
      "SynLong                -3.666294            3.047324          -20.524763   \n",
      "\n",
      "              151.144633320892  158.15764610779146  135.11629381099542  \\\n",
      "Portfolio                                                                \n",
      "Call                  0.066126            4.492870           -5.533621   \n",
      "CallSpread            0.034352            1.895167           -3.477875   \n",
      "CoveredCall           0.066049            3.529469          -12.331808   \n",
      "ProtectedPut          0.075208            5.439010           -7.068680   \n",
      "Put                  -0.050383           -2.547010           11.209092   \n",
      "PutSpread            -0.026173           -1.462909            4.659110   \n",
      "Stock                 0.114633            7.127646          -15.913706   \n",
      "Straddle              0.015742            1.945860            5.675471   \n",
      "SynLong               0.116509            7.039880          -16.742713   \n",
      "\n",
      "              161.5462037188717  146.64102843431496  \n",
      "Portfolio                                            \n",
      "Call                   7.005717           -2.115572  \n",
      "CallSpread             2.658931           -1.120129  \n",
      "CoveredCall            4.751628           -2.839247  \n",
      "ProtectedPut           8.358847           -2.710108  \n",
      "Put                   -3.323244            2.357574  \n",
      "PutSpread             -1.955929            1.245216  \n",
      "Stock                 10.516204           -4.388972  \n",
      "Straddle               3.682473            0.242001  \n",
      "SynLong               10.328961           -4.473146  \n",
      "\n",
      "[9 rows x 100 columns]\n"
     ]
    }
   ],
   "source": [
    "portfolio_values_sim.drop('Value', axis=1, inplace=True)\n",
    "portfolios[\"CurrentValue\"] = portfolios[\"CurrentPrice\"] * portfolios[\"Holding\"]\n",
    "portfolio_values_curr = portfolios.groupby('Portfolio')['CurrentValue'].sum()\n",
    "sim_value_changes = (portfolio_values_sim.T - portfolio_values_curr).T\n",
    "print(sim_value_changes)"
   ],
   "metadata": {
    "collapsed": false,
    "ExecuteTime": {
     "end_time": "2023-11-10T16:21:13.395841Z",
     "start_time": "2023-11-10T16:21:13.225827Z"
    }
   }
  },
  {
   "cell_type": "code",
   "execution_count": 28,
   "outputs": [],
   "source": [
    "def cal_var(sim_data, alpha = 0.05):\n",
    "    sim_data_sorted = np.sort(sim_data)\n",
    "    var = sim_data_sorted[int(alpha * len(sim_data))] * (-1)\n",
    "    return var\n",
    "\n",
    "def cal_es(sim_data, alpha = 0.05):\n",
    "    sim_data_sorted = np.sort(sim_data)\n",
    "    var = sim_data_sorted[int(alpha * len(sim_data))] * (-1)\n",
    "    return -np.mean(sim_data_sorted[sim_data_sorted <= -var])"
   ],
   "metadata": {
    "collapsed": false,
    "ExecuteTime": {
     "end_time": "2023-11-10T16:21:13.396047Z",
     "start_time": "2023-11-10T16:21:13.281919Z"
    }
   }
  },
  {
   "cell_type": "code",
   "execution_count": 29,
   "outputs": [
    {
     "name": "stdout",
     "output_type": "stream",
     "text": [
      "                  Mean        VaR         ES\n",
      "Portfolio                                   \n",
      "Call          1.073965   6.000911   6.230463\n",
      "CallSpread   -0.148355   3.862773   4.067639\n",
      "CoveredCall  -2.121938  15.328753  18.253996\n",
      "ProtectedPut  1.048025   7.613934   7.833054\n",
      "Put           2.263459   4.256611   4.547216\n",
      "PutSpread     0.754630   2.583390   2.789961\n",
      "Stock        -0.882675  19.122870  22.132856\n",
      "Straddle      3.337425   0.003846   0.004879\n",
      "SynLong      -1.189494  20.195068  23.372346\n"
     ]
    }
   ],
   "source": [
    "# Calculate the Mean, VaR and ES, and print the results\n",
    "result = pd.DataFrame(index=sim_value_changes.index)\n",
    "result['Mean'] = sim_value_changes.mean(axis=1) # calculate mean by each row\n",
    "result['VaR'] = sim_value_changes.apply(lambda x:cal_var(x), axis=1)\n",
    "result['ES'] = sim_value_changes.apply(lambda x:cal_es(x), axis=1)\n",
    "print(result)"
   ],
   "metadata": {
    "collapsed": false,
    "ExecuteTime": {
     "end_time": "2023-11-10T16:21:13.396222Z",
     "start_time": "2023-11-10T16:21:13.295632Z"
    }
   }
  },
  {
   "cell_type": "code",
   "execution_count": 30,
   "outputs": [],
   "source": [
    "#Delta Normal\n",
    "\n",
    "current_date = datetime(2023, 3, 3)\n",
    "div_date = datetime(2023, 3, 15)\n",
    "r = 0.0425\n",
    "div = [1]\n",
    "\n",
    "cal_amr_delta_num = cal_derivative_wrt_one(bt_with_div, 1, 'underlying') # function to calculate delta with binomial trees and with discrete dividend\n",
    "\n",
    "deltas = []\n",
    "for i in range(len(portfolios.index)):\n",
    "  if portfolios[\"Type\"][i] == \"Stock\":\n",
    "    deltas.append(1)\n",
    "  else:\n",
    "    if portfolios[\"OptionType\"][i] == \"Call\":\n",
    "        call = True\n",
    "    elif portfolios[\"OptionType\"][i] ==\"Put\":\n",
    "        call = False\n",
    "    ivol = portfolios[\"IV\"][i]\n",
    "    X = portfolios[\"Strike\"][i]\n",
    "    T = ((portfolios[\"ExpirationDate\"][i] - current_date).days - 10) / 365\n",
    "    div_time = [int((div_date - current_date).days / (portfolios[\"ExpirationDate\"][i] - current_date).days * N)]\n",
    "    delta = cal_amr_delta_num(call, S_aapl, X, T, r, b, div, div_time, ivol, N)\n",
    "    deltas.append(delta) # get a list of deltas corresponding to all asset (rows) in portfolios.csv"
   ],
   "metadata": {
    "collapsed": false,
    "ExecuteTime": {
     "end_time": "2023-11-10T16:21:17.450574Z",
     "start_time": "2023-11-10T16:21:13.380735Z"
    }
   }
  },
  {
   "cell_type": "code",
   "execution_count": 31,
   "outputs": [
    {
     "name": "stdout",
     "output_type": "stream",
     "text": [
      "                  Mean       VaR        ES\n",
      "Portfolio                                 \n",
      "Call          1.567368 -0.020529 -0.005258\n",
      "CallSpread    0.104107  1.087634  2.002503\n",
      "CoveredCall  -1.609392  5.839371  7.286841\n",
      "ProtectedPut  1.681277  0.018343  0.021242\n",
      "Put           1.859991 -0.023125 -0.005794\n",
      "PutSpread     0.539901 -0.006245  0.070871\n",
      "Stock         0.000000 -0.000000 -0.000000\n",
      "Straddle      3.427359 -0.046552 -0.011534\n",
      "SynLong      -0.292622  0.927251  1.042719\n"
     ]
    }
   ],
   "source": [
    "# Store the deltas in portfolios\n",
    "portfolios[\"deltas\"] = deltas\n",
    "\n",
    "portfolio_deltas = pd.DataFrame(index=portfolios.index)\n",
    "portfolio_deltas['Portfolio'] = portfolios['Portfolio']\n",
    "\n",
    "portfolio_deltas['Delta'] = portfolios[\"Holding\"] * portfolios[\"deltas\"]\n",
    "portfolio_delta = portfolio_deltas.groupby('Portfolio').sum()\n",
    "# portfolio_delta is a new dataframe created, in which there is asset names, and asset delta compared to stock\n",
    "\n",
    "prices_df = pd.DataFrame(np.tile(sim_prices, (len(portfolio_delta), 1)),\n",
    "                         index=portfolio_delta.index,\n",
    "                         columns=[str(i) for i in sim_prices])\n",
    "# create a dataframe, in which row index == portfolio_delta, asset names; column index == simulated prices of AAPL; each value in the block == the value in the first block of that column, which are all stock price, making it easier for later delta modification\n",
    "\n",
    "delta_prices = portfolio_delta['Delta'].values[:, np.newaxis] * prices_df\n",
    "# element wise multiplication, use each delta to scale each row\n",
    "\n",
    "hedge_value = portfolio_values_sim.sub(delta_prices, fill_value=0)\n",
    "# sub is done for each block of the same position\n",
    "current_stock = portfolio_delta * S_aapl\n",
    "current_stock = current_stock.rename(columns={'Delta': 'CurrentValue'})\n",
    "\n",
    "current_pfl = pd.DataFrame(portfolio_values_curr)\n",
    "\n",
    "current_hedge = pd.DataFrame(current_pfl).sub(current_stock)\n",
    "\n",
    "hedge_value_changes = (hedge_value.T - current_hedge['CurrentValue']).T\n",
    "# transpose is used to allow same current value be subtracted from the same column of hedge_value.T, which is each portfolio\n",
    "\n",
    "result = pd.DataFrame(index=hedge_value_changes.index)\n",
    "result['Mean'] = hedge_value_changes.mean(axis=1)\n",
    "result['VaR'] = hedge_value_changes.apply(lambda x:cal_var(x), axis=1)\n",
    "result['ES'] = hedge_value_changes.apply(lambda x:cal_es(x), axis=1)\n",
    "print(result)"
   ],
   "metadata": {
    "collapsed": false,
    "ExecuteTime": {
     "end_time": "2023-11-10T16:21:17.480049Z",
     "start_time": "2023-11-10T16:21:17.471432Z"
    }
   }
  },
  {
   "cell_type": "markdown",
   "source": [
    "VaR and ES from Normal Distribution Simulation:\n",
    "This method calculates VaR and ES based on the simulated future prices of the underlying asset (AAPL) and the resultant portfolio values.\n",
    "It captures the non-linear behavior of the options in the portfolio and the full range of potential market scenarios as reflected in the simulated prices.\n",
    "This approach provides a more comprehensive view of the risk, considering the actual behavior of the options under various price scenarios.\n",
    "\n",
    "VaR and ES from Delta-Normal Method:\n",
    "After the initial simulation of future prices, this method adjusts the simulated portfolio values based on the deltas of the options. Delta, a measure of the option's price sensitivity to the underlying asset's price changes, is used for linear approximation.\n",
    "The adjusted portfolio values are then used to calculate VaR and ES. This method assumes a linear relationship between the price changes of the underlying asset and the option prices.\n",
    "The Delta-Normal approach simplifies the calculation and provides a view of risk under the assumption of linear price sensitivity and normal distribution of returns."
   ],
   "metadata": {
    "collapsed": false
   }
  },
  {
   "cell_type": "markdown",
   "source": [
    "# Problem 3"
   ],
   "metadata": {
    "collapsed": false,
    "ExecuteTime": {
     "end_time": "2023-11-10T16:06:34.837477Z",
     "start_time": "2023-11-10T16:06:34.836641Z"
    }
   },
   "outputs": [],
   "execution_count": 28
  },
  {
   "cell_type": "markdown",
   "source": [
    "Use the Fama French 3 factor return time series (F-F_Research_Data_Factors_daily.CSV) as well as the Carhart Momentum time series (F-F_Momentum_Factor_daily.CSV) to fit a 4 factor model to the following stocks.\n",
    "\n",
    "AAPL FB UNH MA\n",
    "MSFT NVDA HD PFE\n",
    "AMZN BRK-B PG XOM\n",
    "TSLA JPM V DIS\n",
    "GOOGL JNJ BAC CSCO\n",
    "\n",
    "Fama stores values as percentages, you will need to divide by 100 (or multiply the stock returns by 100) to get like units.\n",
    "\n",
    "Based on the past 10 years of factor returns, find the expected annual return of each stock.\n",
    "\n",
    "Construct an annual covariance matrix for the 10 stocks.\n",
    "\n",
    "Assume the risk free rate is 0.0425. Find the super efficient portfolio.\n"
   ],
   "metadata": {
    "collapsed": false,
    "ExecuteTime": {
     "end_time": "2023-11-10T16:06:49.342294Z",
     "start_time": "2023-11-10T16:06:49.334171Z"
    }
   },
   "outputs": [
    {
     "name": "stdout",
     "output_type": "stream",
     "text": [
      "                  Mean        VaR         ES\n",
      "Portfolio                                   \n",
      "Call          1.073965   6.000911   6.230463\n",
      "CallSpread   -0.148355   3.862773   4.067639\n",
      "CoveredCall  -2.121938  15.328753  18.253996\n",
      "ProtectedPut  1.048025   7.613934   7.833054\n",
      "Put           2.263459   4.256611   4.547216\n",
      "PutSpread     0.754630   2.583390   2.789961\n",
      "Stock        -0.882675  19.122870  22.132856\n",
      "Straddle      3.337425   0.003846   0.004879\n",
      "SynLong      -1.189494  20.195068  23.372346\n"
     ]
    }
   ],
   "execution_count": 29
  },
  {
   "cell_type": "code",
   "execution_count": 32,
   "outputs": [
    {
     "name": "stderr",
     "output_type": "stream",
     "text": [
      "/Users/yanghaochen/opt/anaconda3/lib/python3.9/site-packages/lib_hcy_week5/myfunctions.py:243: PerformanceWarning: DataFrame is highly fragmented.  This is usually the result of calling `frame.insert` many times, which has poor performance.  Consider joining all columns at once using pd.concat(axis=1) instead. To get a de-fragmented frame, use `newframe = frame.copy()`\n",
      "  out[vars[i]] = p2[:,i]\n"
     ]
    }
   ],
   "source": [
    "import statsmodels.api as sm\n",
    "\n",
    "ff = pd.read_csv('F-F_Research_Data_Factors_daily.csv', parse_dates=['Date']).set_index('Date')\n",
    "mom = pd.read_csv('F-F_Momentum_Factor_daily.csv', parse_dates=['Date']).set_index('Date').rename(columns={'Mom   ':  \"Mom\"})\n",
    "factor = (ff.join(mom, how='right') / 100).loc['2013-1-31':]\n",
    "\n",
    "all_prices = pd.read_csv('DailyPrices.csv', parse_dates=['Date'])\n",
    "all_returns = pd.DataFrame(mf.return_calculate(all_prices)).set_index('Date')"
   ],
   "metadata": {
    "collapsed": false,
    "ExecuteTime": {
     "end_time": "2023-11-10T21:05:21.242184Z",
     "start_time": "2023-11-10T21:05:20.032611Z"
    }
   }
  },
  {
   "cell_type": "code",
   "execution_count": 33,
   "outputs": [],
   "source": [
    "stocks = ['AAPL', 'META', 'UNH', 'MA',\n",
    "          'MSFT' ,'NVDA', 'HD', 'PFE',\n",
    "          'AMZN' ,'BRK-B', 'PG', 'XOM',\n",
    "          'TSLA' ,'JPM' ,'V', 'DIS',\n",
    "          'GOOGL', 'JNJ', 'BAC', 'CSCO']\n",
    "\n",
    "dataset = all_returns[stocks].join(factor)\n",
    "reg_set = dataset.dropna()"
   ],
   "metadata": {
    "collapsed": false,
    "ExecuteTime": {
     "end_time": "2023-11-10T21:05:52.269476Z",
     "start_time": "2023-11-10T21:05:52.259914Z"
    }
   }
  },
  {
   "cell_type": "code",
   "execution_count": 34,
   "outputs": [
    {
     "data": {
      "text/plain": "                AAPL      META       UNH        MA      MSFT      NVDA  \\\nDate                                                                     \n2022-02-15  0.023152  0.015158  0.008073  0.019724  0.018542  0.091812   \n2022-02-16 -0.001389 -0.020181  0.003806  0.003643 -0.001167  0.000604   \n2022-02-17 -0.021269 -0.040778 -0.020227 -0.024103 -0.029282 -0.075591   \n2022-02-18 -0.009356 -0.007462 -0.005379 -0.010035 -0.009631 -0.035296   \n2022-02-22 -0.017812 -0.019790 -0.011329 -0.004487 -0.000729 -0.010659   \n\n                  HD       PFE      AMZN     BRK-B  ...       DIS     GOOGL  \\\nDate                                                ...                       \n2022-02-15  0.004836 -0.000201  0.008658  0.006109  ...  0.025655  0.007987   \n2022-02-16 -0.008974 -0.002209  0.010159 -0.001739  ...  0.010535  0.008268   \n2022-02-17 -0.006141 -0.015700 -0.021809 -0.006653  ... -0.021746 -0.037746   \n2022-02-18 -0.003075 -0.007566 -0.013262  0.003987  ... -0.010396 -0.016116   \n2022-02-22 -0.088506 -0.020606 -0.015753 -0.002033  ... -0.021604 -0.004521   \n\n                 JNJ       BAC      CSCO  Mkt-RF     SMB     HML   RF     Mom  \nDate                                                                           \n2022-02-15  0.010326  0.007803  0.020496  0.0187  0.0133 -0.0142  0.0 -0.0091  \n2022-02-16 -0.000598 -0.002302 -0.000369 -0.0002 -0.0009  0.0031  0.0  0.0064  \n2022-02-17 -0.006100 -0.033767  0.028018 -0.0228 -0.0028  0.0110  0.0  0.0103  \n2022-02-18 -0.010719 -0.002388  0.025820 -0.0087 -0.0009  0.0093  0.0  0.0104  \n2022-02-22 -0.013590 -0.008703 -0.015906 -0.0118 -0.0048  0.0011  0.0  0.0043  \n\n[5 rows x 25 columns]",
      "text/html": "<div>\n<style scoped>\n    .dataframe tbody tr th:only-of-type {\n        vertical-align: middle;\n    }\n\n    .dataframe tbody tr th {\n        vertical-align: top;\n    }\n\n    .dataframe thead th {\n        text-align: right;\n    }\n</style>\n<table border=\"1\" class=\"dataframe\">\n  <thead>\n    <tr style=\"text-align: right;\">\n      <th></th>\n      <th>AAPL</th>\n      <th>META</th>\n      <th>UNH</th>\n      <th>MA</th>\n      <th>MSFT</th>\n      <th>NVDA</th>\n      <th>HD</th>\n      <th>PFE</th>\n      <th>AMZN</th>\n      <th>BRK-B</th>\n      <th>...</th>\n      <th>DIS</th>\n      <th>GOOGL</th>\n      <th>JNJ</th>\n      <th>BAC</th>\n      <th>CSCO</th>\n      <th>Mkt-RF</th>\n      <th>SMB</th>\n      <th>HML</th>\n      <th>RF</th>\n      <th>Mom</th>\n    </tr>\n    <tr>\n      <th>Date</th>\n      <th></th>\n      <th></th>\n      <th></th>\n      <th></th>\n      <th></th>\n      <th></th>\n      <th></th>\n      <th></th>\n      <th></th>\n      <th></th>\n      <th></th>\n      <th></th>\n      <th></th>\n      <th></th>\n      <th></th>\n      <th></th>\n      <th></th>\n      <th></th>\n      <th></th>\n      <th></th>\n      <th></th>\n    </tr>\n  </thead>\n  <tbody>\n    <tr>\n      <th>2022-02-15</th>\n      <td>0.023152</td>\n      <td>0.015158</td>\n      <td>0.008073</td>\n      <td>0.019724</td>\n      <td>0.018542</td>\n      <td>0.091812</td>\n      <td>0.004836</td>\n      <td>-0.000201</td>\n      <td>0.008658</td>\n      <td>0.006109</td>\n      <td>...</td>\n      <td>0.025655</td>\n      <td>0.007987</td>\n      <td>0.010326</td>\n      <td>0.007803</td>\n      <td>0.020496</td>\n      <td>0.0187</td>\n      <td>0.0133</td>\n      <td>-0.0142</td>\n      <td>0.0</td>\n      <td>-0.0091</td>\n    </tr>\n    <tr>\n      <th>2022-02-16</th>\n      <td>-0.001389</td>\n      <td>-0.020181</td>\n      <td>0.003806</td>\n      <td>0.003643</td>\n      <td>-0.001167</td>\n      <td>0.000604</td>\n      <td>-0.008974</td>\n      <td>-0.002209</td>\n      <td>0.010159</td>\n      <td>-0.001739</td>\n      <td>...</td>\n      <td>0.010535</td>\n      <td>0.008268</td>\n      <td>-0.000598</td>\n      <td>-0.002302</td>\n      <td>-0.000369</td>\n      <td>-0.0002</td>\n      <td>-0.0009</td>\n      <td>0.0031</td>\n      <td>0.0</td>\n      <td>0.0064</td>\n    </tr>\n    <tr>\n      <th>2022-02-17</th>\n      <td>-0.021269</td>\n      <td>-0.040778</td>\n      <td>-0.020227</td>\n      <td>-0.024103</td>\n      <td>-0.029282</td>\n      <td>-0.075591</td>\n      <td>-0.006141</td>\n      <td>-0.015700</td>\n      <td>-0.021809</td>\n      <td>-0.006653</td>\n      <td>...</td>\n      <td>-0.021746</td>\n      <td>-0.037746</td>\n      <td>-0.006100</td>\n      <td>-0.033767</td>\n      <td>0.028018</td>\n      <td>-0.0228</td>\n      <td>-0.0028</td>\n      <td>0.0110</td>\n      <td>0.0</td>\n      <td>0.0103</td>\n    </tr>\n    <tr>\n      <th>2022-02-18</th>\n      <td>-0.009356</td>\n      <td>-0.007462</td>\n      <td>-0.005379</td>\n      <td>-0.010035</td>\n      <td>-0.009631</td>\n      <td>-0.035296</td>\n      <td>-0.003075</td>\n      <td>-0.007566</td>\n      <td>-0.013262</td>\n      <td>0.003987</td>\n      <td>...</td>\n      <td>-0.010396</td>\n      <td>-0.016116</td>\n      <td>-0.010719</td>\n      <td>-0.002388</td>\n      <td>0.025820</td>\n      <td>-0.0087</td>\n      <td>-0.0009</td>\n      <td>0.0093</td>\n      <td>0.0</td>\n      <td>0.0104</td>\n    </tr>\n    <tr>\n      <th>2022-02-22</th>\n      <td>-0.017812</td>\n      <td>-0.019790</td>\n      <td>-0.011329</td>\n      <td>-0.004487</td>\n      <td>-0.000729</td>\n      <td>-0.010659</td>\n      <td>-0.088506</td>\n      <td>-0.020606</td>\n      <td>-0.015753</td>\n      <td>-0.002033</td>\n      <td>...</td>\n      <td>-0.021604</td>\n      <td>-0.004521</td>\n      <td>-0.013590</td>\n      <td>-0.008703</td>\n      <td>-0.015906</td>\n      <td>-0.0118</td>\n      <td>-0.0048</td>\n      <td>0.0011</td>\n      <td>0.0</td>\n      <td>0.0043</td>\n    </tr>\n  </tbody>\n</table>\n<p>5 rows × 25 columns</p>\n</div>"
     },
     "execution_count": 34,
     "metadata": {},
     "output_type": "execute_result"
    }
   ],
   "source": [
    "reg_set.head()"
   ],
   "metadata": {
    "collapsed": false,
    "ExecuteTime": {
     "end_time": "2023-11-10T21:06:58.170788Z",
     "start_time": "2023-11-10T21:06:58.083622Z"
    }
   }
  },
  {
   "cell_type": "code",
   "execution_count": 35,
   "outputs": [],
   "source": [
    "factors = ['Mkt-RF', 'SMB', 'HML', 'Mom']\n",
    "X = reg_set[factors]\n",
    "X = sm.add_constant(X)\n",
    "\n",
    "y = reg_set[stocks].sub(reg_set['RF'], axis=0)\n",
    "betas = pd.DataFrame(index=stocks, columns=factors)\n",
    "alphas = pd.DataFrame(index=stocks, columns=['Alpha'])"
   ],
   "metadata": {
    "collapsed": false,
    "ExecuteTime": {
     "end_time": "2023-11-10T21:10:42.161243Z",
     "start_time": "2023-11-10T21:10:42.082634Z"
    }
   }
  },
  {
   "cell_type": "code",
   "execution_count": 36,
   "outputs": [],
   "source": [
    "for stock in stocks:\n",
    "    ols_model = sm.OLS(y[stock], X).fit()\n",
    "    betas.loc[stock] = ols_model.params[factors]\n",
    "    alphas.loc[stock] = ols_model.params['const']\n",
    "\n",
    "beta_return = pd.DataFrame(np.dot(factor[factors],betas.T), index=factor.index, columns=betas.index)\n",
    "# The result of this matrix multiplication is a DataFrame where each row represents a date and each column represents a stock. The values in this DataFrame are the expected returns for each stock on each date, calculated based on the factor model.\n",
    "\n",
    "beta_rf_return = pd.merge(beta_return,factor['RF'], left_index=True, right_index=True) # merge rows which beta_return and factor both have\n",
    "alpha_beta_returns = beta_rf_return.add(beta_rf_return['RF'],axis=0).drop('RF',axis=1).add(alphas.T.loc['Alpha'], axis=1)\n",
    "# Adding the Risk-Free Rate (RF) to the Returns of each column, Dropping the RF Column, Adding Alpha Values\n",
    "# basically it is recalculating the returns for each stock at each time period using the factor regression formula and results - predicted stock returns"
   ],
   "metadata": {
    "collapsed": false,
    "ExecuteTime": {
     "end_time": "2023-11-10T21:59:34.191746Z",
     "start_time": "2023-11-10T21:59:34.013484Z"
    }
   }
  },
  {
   "cell_type": "code",
   "execution_count": 37,
   "outputs": [
    {
     "data": {
      "text/plain": "                AAPL      META       UNH        MA      MSFT      NVDA  \\\nDate                                                                     \n2013-01-31 -0.005799 -0.001919  -0.00606 -0.001668 -0.007596  0.000147   \n2013-02-01  0.010949  0.008183  0.008843  0.010664  0.009485  0.016538   \n2013-02-04 -0.012957 -0.012582 -0.008545 -0.012741 -0.011472 -0.021178   \n2013-02-05  0.012941  0.011363  0.009306  0.011717  0.012093  0.018344   \n2013-02-06  -0.00067  0.002336 -0.002198  0.001372 -0.001509  0.003269   \n\n                  HD       PFE      AMZN     BRK-B  ...       XOM      TSLA  \\\nDate                                                ...                       \n2013-01-31  0.000475 -0.004713 -0.004641 -0.001071  ...  0.004296 -0.002163   \n2013-02-01  0.007911  0.007117  0.009454  0.009402  ...  0.014264  0.010136   \n2013-02-04 -0.009935 -0.007461 -0.013425  -0.01113  ... -0.015252 -0.014001   \n2013-02-05  0.008572  0.007987  0.012934   0.01029  ...  0.012685  0.012547   \n2013-02-06  0.001841 -0.001071  0.001189   0.00187  ...  0.004167  0.001259   \n\n                 JPM         V       DIS     GOOGL       JNJ       BAC  \\\nDate                                                                     \n2013-01-31  -0.00081 -0.002792  0.002782 -0.005099 -0.004655 -0.000418   \n2013-02-01  0.010236  0.008958  0.009072  0.008505  0.003911  0.011551   \n2013-02-04 -0.012649 -0.010725 -0.012576  -0.01136 -0.003933 -0.014264   \n2013-02-05  0.011609   0.01024  0.010298  0.011289  0.004806  0.012959   \n2013-02-06  0.002791   0.00062  0.004209  0.000176 -0.001553  0.003347   \n\n                CSCO   RF  \nDate                       \n2013-01-31 -0.003013  0.0  \n2013-02-01  0.010143  0.0  \n2013-02-04 -0.011031  0.0  \n2013-02-05  0.010625  0.0  \n2013-02-06 -0.000062  0.0  \n\n[5 rows x 21 columns]",
      "text/html": "<div>\n<style scoped>\n    .dataframe tbody tr th:only-of-type {\n        vertical-align: middle;\n    }\n\n    .dataframe tbody tr th {\n        vertical-align: top;\n    }\n\n    .dataframe thead th {\n        text-align: right;\n    }\n</style>\n<table border=\"1\" class=\"dataframe\">\n  <thead>\n    <tr style=\"text-align: right;\">\n      <th></th>\n      <th>AAPL</th>\n      <th>META</th>\n      <th>UNH</th>\n      <th>MA</th>\n      <th>MSFT</th>\n      <th>NVDA</th>\n      <th>HD</th>\n      <th>PFE</th>\n      <th>AMZN</th>\n      <th>BRK-B</th>\n      <th>...</th>\n      <th>XOM</th>\n      <th>TSLA</th>\n      <th>JPM</th>\n      <th>V</th>\n      <th>DIS</th>\n      <th>GOOGL</th>\n      <th>JNJ</th>\n      <th>BAC</th>\n      <th>CSCO</th>\n      <th>RF</th>\n    </tr>\n    <tr>\n      <th>Date</th>\n      <th></th>\n      <th></th>\n      <th></th>\n      <th></th>\n      <th></th>\n      <th></th>\n      <th></th>\n      <th></th>\n      <th></th>\n      <th></th>\n      <th></th>\n      <th></th>\n      <th></th>\n      <th></th>\n      <th></th>\n      <th></th>\n      <th></th>\n      <th></th>\n      <th></th>\n      <th></th>\n      <th></th>\n    </tr>\n  </thead>\n  <tbody>\n    <tr>\n      <th>2013-01-31</th>\n      <td>-0.005799</td>\n      <td>-0.001919</td>\n      <td>-0.00606</td>\n      <td>-0.001668</td>\n      <td>-0.007596</td>\n      <td>0.000147</td>\n      <td>0.000475</td>\n      <td>-0.004713</td>\n      <td>-0.004641</td>\n      <td>-0.001071</td>\n      <td>...</td>\n      <td>0.004296</td>\n      <td>-0.002163</td>\n      <td>-0.00081</td>\n      <td>-0.002792</td>\n      <td>0.002782</td>\n      <td>-0.005099</td>\n      <td>-0.004655</td>\n      <td>-0.000418</td>\n      <td>-0.003013</td>\n      <td>0.0</td>\n    </tr>\n    <tr>\n      <th>2013-02-01</th>\n      <td>0.010949</td>\n      <td>0.008183</td>\n      <td>0.008843</td>\n      <td>0.010664</td>\n      <td>0.009485</td>\n      <td>0.016538</td>\n      <td>0.007911</td>\n      <td>0.007117</td>\n      <td>0.009454</td>\n      <td>0.009402</td>\n      <td>...</td>\n      <td>0.014264</td>\n      <td>0.010136</td>\n      <td>0.010236</td>\n      <td>0.008958</td>\n      <td>0.009072</td>\n      <td>0.008505</td>\n      <td>0.003911</td>\n      <td>0.011551</td>\n      <td>0.010143</td>\n      <td>0.0</td>\n    </tr>\n    <tr>\n      <th>2013-02-04</th>\n      <td>-0.012957</td>\n      <td>-0.012582</td>\n      <td>-0.008545</td>\n      <td>-0.012741</td>\n      <td>-0.011472</td>\n      <td>-0.021178</td>\n      <td>-0.009935</td>\n      <td>-0.007461</td>\n      <td>-0.013425</td>\n      <td>-0.01113</td>\n      <td>...</td>\n      <td>-0.015252</td>\n      <td>-0.014001</td>\n      <td>-0.012649</td>\n      <td>-0.010725</td>\n      <td>-0.012576</td>\n      <td>-0.01136</td>\n      <td>-0.003933</td>\n      <td>-0.014264</td>\n      <td>-0.011031</td>\n      <td>0.0</td>\n    </tr>\n    <tr>\n      <th>2013-02-05</th>\n      <td>0.012941</td>\n      <td>0.011363</td>\n      <td>0.009306</td>\n      <td>0.011717</td>\n      <td>0.012093</td>\n      <td>0.018344</td>\n      <td>0.008572</td>\n      <td>0.007987</td>\n      <td>0.012934</td>\n      <td>0.01029</td>\n      <td>...</td>\n      <td>0.012685</td>\n      <td>0.012547</td>\n      <td>0.011609</td>\n      <td>0.01024</td>\n      <td>0.010298</td>\n      <td>0.011289</td>\n      <td>0.004806</td>\n      <td>0.012959</td>\n      <td>0.010625</td>\n      <td>0.0</td>\n    </tr>\n    <tr>\n      <th>2013-02-06</th>\n      <td>-0.00067</td>\n      <td>0.002336</td>\n      <td>-0.002198</td>\n      <td>0.001372</td>\n      <td>-0.001509</td>\n      <td>0.003269</td>\n      <td>0.001841</td>\n      <td>-0.001071</td>\n      <td>0.001189</td>\n      <td>0.00187</td>\n      <td>...</td>\n      <td>0.004167</td>\n      <td>0.001259</td>\n      <td>0.002791</td>\n      <td>0.00062</td>\n      <td>0.004209</td>\n      <td>0.000176</td>\n      <td>-0.001553</td>\n      <td>0.003347</td>\n      <td>-0.000062</td>\n      <td>0.0</td>\n    </tr>\n  </tbody>\n</table>\n<p>5 rows × 21 columns</p>\n</div>"
     },
     "execution_count": 37,
     "metadata": {},
     "output_type": "execute_result"
    }
   ],
   "source": [
    "beta_rf_return.head()"
   ],
   "metadata": {
    "collapsed": false,
    "ExecuteTime": {
     "end_time": "2023-11-10T21:59:45.386425Z",
     "start_time": "2023-11-10T21:59:45.384729Z"
    }
   }
  },
  {
   "cell_type": "code",
   "execution_count": 38,
   "outputs": [
    {
     "data": {
      "text/plain": "                AAPL      META       UNH        MA      MSFT      NVDA  \\\nDate                                                                     \n2013-01-31 -0.005739 -0.002302 -0.005472 -0.001276  -0.00751  0.000551   \n2013-02-01   0.01101    0.0078  0.009431  0.011056  0.009572  0.016943   \n2013-02-04 -0.012896 -0.012966 -0.007957 -0.012348 -0.011385 -0.020774   \n2013-02-05  0.013001   0.01098  0.009894  0.012109   0.01218  0.018749   \n2013-02-06 -0.000609  0.001953  -0.00161  0.001765 -0.001422  0.003673   \n\n                  HD       PFE      AMZN     BRK-B        PG       XOM  \\\nDate                                                                     \n2013-01-31  0.000566 -0.004766 -0.005325 -0.000934 -0.005049  0.005973   \n2013-02-01  0.008002  0.007064   0.00877  0.009539  0.006131  0.015941   \n2013-02-04 -0.009844 -0.007514 -0.014108 -0.010994 -0.006257 -0.013575   \n2013-02-05  0.008663  0.007933   0.01225  0.010426  0.006937  0.014362   \n2013-02-06  0.001932 -0.001124  0.000506  0.002006 -0.001648  0.005844   \n\n                TSLA       JPM         V       DIS     GOOGL       JNJ  \\\nDate                                                                     \n2013-01-31 -0.002853 -0.000783  -0.00228  0.001803 -0.005652   -0.0044   \n2013-02-01  0.009445  0.010263   0.00947  0.008093  0.007953  0.004166   \n2013-02-04 -0.014691 -0.012622 -0.010212 -0.013555 -0.011913 -0.003678   \n2013-02-05  0.011856  0.011636  0.010752  0.009319  0.010737  0.005061   \n2013-02-06  0.000568  0.002818  0.001132   0.00323 -0.000376 -0.001299   \n\n                 BAC      CSCO  \nDate                            \n2013-01-31 -0.001245 -0.002897  \n2013-02-01  0.010723   0.01026  \n2013-02-04 -0.015092 -0.010914  \n2013-02-05  0.012132  0.010742  \n2013-02-06  0.002519  0.000055  ",
      "text/html": "<div>\n<style scoped>\n    .dataframe tbody tr th:only-of-type {\n        vertical-align: middle;\n    }\n\n    .dataframe tbody tr th {\n        vertical-align: top;\n    }\n\n    .dataframe thead th {\n        text-align: right;\n    }\n</style>\n<table border=\"1\" class=\"dataframe\">\n  <thead>\n    <tr style=\"text-align: right;\">\n      <th></th>\n      <th>AAPL</th>\n      <th>META</th>\n      <th>UNH</th>\n      <th>MA</th>\n      <th>MSFT</th>\n      <th>NVDA</th>\n      <th>HD</th>\n      <th>PFE</th>\n      <th>AMZN</th>\n      <th>BRK-B</th>\n      <th>PG</th>\n      <th>XOM</th>\n      <th>TSLA</th>\n      <th>JPM</th>\n      <th>V</th>\n      <th>DIS</th>\n      <th>GOOGL</th>\n      <th>JNJ</th>\n      <th>BAC</th>\n      <th>CSCO</th>\n    </tr>\n    <tr>\n      <th>Date</th>\n      <th></th>\n      <th></th>\n      <th></th>\n      <th></th>\n      <th></th>\n      <th></th>\n      <th></th>\n      <th></th>\n      <th></th>\n      <th></th>\n      <th></th>\n      <th></th>\n      <th></th>\n      <th></th>\n      <th></th>\n      <th></th>\n      <th></th>\n      <th></th>\n      <th></th>\n      <th></th>\n    </tr>\n  </thead>\n  <tbody>\n    <tr>\n      <th>2013-01-31</th>\n      <td>-0.005739</td>\n      <td>-0.002302</td>\n      <td>-0.005472</td>\n      <td>-0.001276</td>\n      <td>-0.00751</td>\n      <td>0.000551</td>\n      <td>0.000566</td>\n      <td>-0.004766</td>\n      <td>-0.005325</td>\n      <td>-0.000934</td>\n      <td>-0.005049</td>\n      <td>0.005973</td>\n      <td>-0.002853</td>\n      <td>-0.000783</td>\n      <td>-0.00228</td>\n      <td>0.001803</td>\n      <td>-0.005652</td>\n      <td>-0.0044</td>\n      <td>-0.001245</td>\n      <td>-0.002897</td>\n    </tr>\n    <tr>\n      <th>2013-02-01</th>\n      <td>0.01101</td>\n      <td>0.0078</td>\n      <td>0.009431</td>\n      <td>0.011056</td>\n      <td>0.009572</td>\n      <td>0.016943</td>\n      <td>0.008002</td>\n      <td>0.007064</td>\n      <td>0.00877</td>\n      <td>0.009539</td>\n      <td>0.006131</td>\n      <td>0.015941</td>\n      <td>0.009445</td>\n      <td>0.010263</td>\n      <td>0.00947</td>\n      <td>0.008093</td>\n      <td>0.007953</td>\n      <td>0.004166</td>\n      <td>0.010723</td>\n      <td>0.01026</td>\n    </tr>\n    <tr>\n      <th>2013-02-04</th>\n      <td>-0.012896</td>\n      <td>-0.012966</td>\n      <td>-0.007957</td>\n      <td>-0.012348</td>\n      <td>-0.011385</td>\n      <td>-0.020774</td>\n      <td>-0.009844</td>\n      <td>-0.007514</td>\n      <td>-0.014108</td>\n      <td>-0.010994</td>\n      <td>-0.006257</td>\n      <td>-0.013575</td>\n      <td>-0.014691</td>\n      <td>-0.012622</td>\n      <td>-0.010212</td>\n      <td>-0.013555</td>\n      <td>-0.011913</td>\n      <td>-0.003678</td>\n      <td>-0.015092</td>\n      <td>-0.010914</td>\n    </tr>\n    <tr>\n      <th>2013-02-05</th>\n      <td>0.013001</td>\n      <td>0.01098</td>\n      <td>0.009894</td>\n      <td>0.012109</td>\n      <td>0.01218</td>\n      <td>0.018749</td>\n      <td>0.008663</td>\n      <td>0.007933</td>\n      <td>0.01225</td>\n      <td>0.010426</td>\n      <td>0.006937</td>\n      <td>0.014362</td>\n      <td>0.011856</td>\n      <td>0.011636</td>\n      <td>0.010752</td>\n      <td>0.009319</td>\n      <td>0.010737</td>\n      <td>0.005061</td>\n      <td>0.012132</td>\n      <td>0.010742</td>\n    </tr>\n    <tr>\n      <th>2013-02-06</th>\n      <td>-0.000609</td>\n      <td>0.001953</td>\n      <td>-0.00161</td>\n      <td>0.001765</td>\n      <td>-0.001422</td>\n      <td>0.003673</td>\n      <td>0.001932</td>\n      <td>-0.001124</td>\n      <td>0.000506</td>\n      <td>0.002006</td>\n      <td>-0.001648</td>\n      <td>0.005844</td>\n      <td>0.000568</td>\n      <td>0.002818</td>\n      <td>0.001132</td>\n      <td>0.00323</td>\n      <td>-0.000376</td>\n      <td>-0.001299</td>\n      <td>0.002519</td>\n      <td>0.000055</td>\n    </tr>\n  </tbody>\n</table>\n</div>"
     },
     "execution_count": 38,
     "metadata": {},
     "output_type": "execute_result"
    }
   ],
   "source": [
    "alpha_beta_returns.head()"
   ],
   "metadata": {
    "collapsed": false,
    "ExecuteTime": {
     "end_time": "2023-11-10T22:00:50.851465Z",
     "start_time": "2023-11-10T22:00:50.849950Z"
    }
   }
  },
  {
   "cell_type": "code",
   "execution_count": 39,
   "outputs": [
    {
     "data": {
      "text/plain": "                AAPL      META       UNH        MA      MSFT      NVDA  \\\nDate                                                                     \n2013-01-31 -0.005799 -0.001919  -0.00606 -0.001668 -0.007596  0.000147   \n2013-02-01  0.010949  0.008183  0.008843  0.010664  0.009485  0.016538   \n2013-02-04 -0.012957 -0.012582 -0.008545 -0.012741 -0.011472 -0.021178   \n2013-02-05  0.012941  0.011363  0.009306  0.011717  0.012093  0.018344   \n2013-02-06  -0.00067  0.002336 -0.002198  0.001372 -0.001509  0.003269   \n\n                  HD       PFE      AMZN     BRK-B        PG       XOM  \\\nDate                                                                     \n2013-01-31  0.000475 -0.004713 -0.004641 -0.001071 -0.005039  0.004296   \n2013-02-01  0.007911  0.007117  0.009454  0.009402   0.00614  0.014264   \n2013-02-04 -0.009935 -0.007461 -0.013425  -0.01113 -0.006247 -0.015252   \n2013-02-05  0.008572  0.007987  0.012934   0.01029  0.006946  0.012685   \n2013-02-06  0.001841 -0.001071  0.001189   0.00187 -0.001639  0.004167   \n\n                TSLA       JPM         V       DIS     GOOGL       JNJ  \\\nDate                                                                     \n2013-01-31 -0.002163  -0.00081 -0.002792  0.002782 -0.005099 -0.004655   \n2013-02-01  0.010136  0.010236  0.008958  0.009072  0.008505  0.003911   \n2013-02-04 -0.014001 -0.012649 -0.010725 -0.012576  -0.01136 -0.003933   \n2013-02-05  0.012547  0.011609   0.01024  0.010298  0.011289  0.004806   \n2013-02-06  0.001259  0.002791   0.00062  0.004209  0.000176 -0.001553   \n\n                 BAC      CSCO  \nDate                            \n2013-01-31 -0.000418 -0.003013  \n2013-02-01  0.011551  0.010143  \n2013-02-04 -0.014264 -0.011031  \n2013-02-05  0.012959  0.010625  \n2013-02-06  0.003347 -0.000062  ",
      "text/html": "<div>\n<style scoped>\n    .dataframe tbody tr th:only-of-type {\n        vertical-align: middle;\n    }\n\n    .dataframe tbody tr th {\n        vertical-align: top;\n    }\n\n    .dataframe thead th {\n        text-align: right;\n    }\n</style>\n<table border=\"1\" class=\"dataframe\">\n  <thead>\n    <tr style=\"text-align: right;\">\n      <th></th>\n      <th>AAPL</th>\n      <th>META</th>\n      <th>UNH</th>\n      <th>MA</th>\n      <th>MSFT</th>\n      <th>NVDA</th>\n      <th>HD</th>\n      <th>PFE</th>\n      <th>AMZN</th>\n      <th>BRK-B</th>\n      <th>PG</th>\n      <th>XOM</th>\n      <th>TSLA</th>\n      <th>JPM</th>\n      <th>V</th>\n      <th>DIS</th>\n      <th>GOOGL</th>\n      <th>JNJ</th>\n      <th>BAC</th>\n      <th>CSCO</th>\n    </tr>\n    <tr>\n      <th>Date</th>\n      <th></th>\n      <th></th>\n      <th></th>\n      <th></th>\n      <th></th>\n      <th></th>\n      <th></th>\n      <th></th>\n      <th></th>\n      <th></th>\n      <th></th>\n      <th></th>\n      <th></th>\n      <th></th>\n      <th></th>\n      <th></th>\n      <th></th>\n      <th></th>\n      <th></th>\n      <th></th>\n    </tr>\n  </thead>\n  <tbody>\n    <tr>\n      <th>2013-01-31</th>\n      <td>-0.005799</td>\n      <td>-0.001919</td>\n      <td>-0.00606</td>\n      <td>-0.001668</td>\n      <td>-0.007596</td>\n      <td>0.000147</td>\n      <td>0.000475</td>\n      <td>-0.004713</td>\n      <td>-0.004641</td>\n      <td>-0.001071</td>\n      <td>-0.005039</td>\n      <td>0.004296</td>\n      <td>-0.002163</td>\n      <td>-0.00081</td>\n      <td>-0.002792</td>\n      <td>0.002782</td>\n      <td>-0.005099</td>\n      <td>-0.004655</td>\n      <td>-0.000418</td>\n      <td>-0.003013</td>\n    </tr>\n    <tr>\n      <th>2013-02-01</th>\n      <td>0.010949</td>\n      <td>0.008183</td>\n      <td>0.008843</td>\n      <td>0.010664</td>\n      <td>0.009485</td>\n      <td>0.016538</td>\n      <td>0.007911</td>\n      <td>0.007117</td>\n      <td>0.009454</td>\n      <td>0.009402</td>\n      <td>0.00614</td>\n      <td>0.014264</td>\n      <td>0.010136</td>\n      <td>0.010236</td>\n      <td>0.008958</td>\n      <td>0.009072</td>\n      <td>0.008505</td>\n      <td>0.003911</td>\n      <td>0.011551</td>\n      <td>0.010143</td>\n    </tr>\n    <tr>\n      <th>2013-02-04</th>\n      <td>-0.012957</td>\n      <td>-0.012582</td>\n      <td>-0.008545</td>\n      <td>-0.012741</td>\n      <td>-0.011472</td>\n      <td>-0.021178</td>\n      <td>-0.009935</td>\n      <td>-0.007461</td>\n      <td>-0.013425</td>\n      <td>-0.01113</td>\n      <td>-0.006247</td>\n      <td>-0.015252</td>\n      <td>-0.014001</td>\n      <td>-0.012649</td>\n      <td>-0.010725</td>\n      <td>-0.012576</td>\n      <td>-0.01136</td>\n      <td>-0.003933</td>\n      <td>-0.014264</td>\n      <td>-0.011031</td>\n    </tr>\n    <tr>\n      <th>2013-02-05</th>\n      <td>0.012941</td>\n      <td>0.011363</td>\n      <td>0.009306</td>\n      <td>0.011717</td>\n      <td>0.012093</td>\n      <td>0.018344</td>\n      <td>0.008572</td>\n      <td>0.007987</td>\n      <td>0.012934</td>\n      <td>0.01029</td>\n      <td>0.006946</td>\n      <td>0.012685</td>\n      <td>0.012547</td>\n      <td>0.011609</td>\n      <td>0.01024</td>\n      <td>0.010298</td>\n      <td>0.011289</td>\n      <td>0.004806</td>\n      <td>0.012959</td>\n      <td>0.010625</td>\n    </tr>\n    <tr>\n      <th>2013-02-06</th>\n      <td>-0.00067</td>\n      <td>0.002336</td>\n      <td>-0.002198</td>\n      <td>0.001372</td>\n      <td>-0.001509</td>\n      <td>0.003269</td>\n      <td>0.001841</td>\n      <td>-0.001071</td>\n      <td>0.001189</td>\n      <td>0.00187</td>\n      <td>-0.001639</td>\n      <td>0.004167</td>\n      <td>0.001259</td>\n      <td>0.002791</td>\n      <td>0.00062</td>\n      <td>0.004209</td>\n      <td>0.000176</td>\n      <td>-0.001553</td>\n      <td>0.003347</td>\n      <td>-0.000062</td>\n    </tr>\n  </tbody>\n</table>\n</div>"
     },
     "execution_count": 39,
     "metadata": {},
     "output_type": "execute_result"
    }
   ],
   "source": [
    "beta_return.head()"
   ],
   "metadata": {
    "collapsed": false,
    "ExecuteTime": {
     "end_time": "2023-11-10T22:03:58.280337Z",
     "start_time": "2023-11-10T22:03:58.260362Z"
    }
   }
  },
  {
   "cell_type": "code",
   "execution_count": 40,
   "outputs": [
    {
     "name": "stdout",
     "output_type": "stream",
     "text": [
      "    Stock Annual Return\n",
      "0    AAPL      0.157144\n",
      "1    META      0.017941\n",
      "2     UNH        0.2538\n",
      "3      MA      0.222901\n",
      "4    MSFT      0.155944\n",
      "5    NVDA      0.279721\n",
      "6      HD      0.120591\n",
      "7     PFE      0.076962\n",
      "8    AMZN     -0.042945\n",
      "9   BRK-B      0.129923\n",
      "10     PG       0.08154\n",
      "11    XOM      0.521821\n",
      "12   TSLA     -0.033253\n",
      "13    JPM      0.098273\n",
      "14      V      0.241054\n",
      "15    DIS     -0.155372\n",
      "16  GOOGL     -0.017075\n",
      "17    JNJ      0.124206\n",
      "18    BAC     -0.112301\n",
      "19   CSCO      0.147807\n"
     ]
    }
   ],
   "source": [
    "expected_annual_return = ((alpha_beta_returns+1).cumprod().tail(1) ** (1/alpha_beta_returns.shape[0]) - 1) * 252\n",
    "# .cumprod(): This calculates the cumulative product of the adjusted returns. The cumulative product is used to simulate the compounding effect of the returns over time.\n",
    "# .tail(1): This selects the last row of the cumulative product, which is the very last compounding return\n",
    "expected_annual_return = expected_annual_return.reset_index()\n",
    "# If the DataFrame's index is currently set to dates or any other specific identifier, reset_index() will move this index to a regular column and create a new, default integer index\n",
    "expected_annual_return = expected_annual_return.melt(id_vars=['Date'], var_name='Stock', value_name='Annual Return')\n",
    "# The melt function is used to transform the DataFrame from a wide format to a long format.\n",
    "# id_vars=['Date']: This specifies that the 'Date' column (or columns specified in id_vars) should remain as is, and not be part of the reshaping\n",
    "# var_name='Stock': This sets the name of the new column that will contain what were previously the column headers (stock names, in this case) in the wide format.\n",
    "# value_name='Annual Return': This sets the name for the new column that will contain the values corresponding to each stock.\n",
    "# 至于为什么要melt把wide变成long，这可以方便处理nested data，具体如最下方展示\n",
    "expected_annual_return.drop('Date', axis=1, inplace=True)\n",
    "print(expected_annual_return)"
   ],
   "metadata": {
    "collapsed": false,
    "ExecuteTime": {
     "end_time": "2023-11-10T22:12:56.877298Z",
     "start_time": "2023-11-10T22:12:56.797980Z"
    }
   }
  },
  {
   "cell_type": "code",
   "execution_count": 41,
   "outputs": [
    {
     "name": "stdout",
     "output_type": "stream",
     "text": [
      "           AAPL      META       UNH        MA      MSFT      NVDA        HD  \\\n",
      "AAPL   0.126877  0.139557  0.037447  0.081272  0.102937  0.171265  0.066193   \n",
      "META   0.139557  0.400843  0.017102  0.102465  0.142255  0.240599  0.098845   \n",
      "UNH    0.037447  0.017102  0.060922  0.031117  0.036318  0.046531  0.026045   \n",
      "MA     0.081272  0.102465  0.031117  0.095762  0.079856  0.137369  0.056792   \n",
      "MSFT   0.102937  0.142255  0.036318  0.079856  0.127839  0.175956  0.070916   \n",
      "NVDA   0.171265  0.240599  0.046531  0.137369  0.175956  0.403814  0.112055   \n",
      "HD     0.066193  0.098845  0.026045  0.056792  0.070916  0.112055  0.097074   \n",
      "PFE    0.032745  0.045091  0.032068  0.033440  0.035082  0.046362  0.033271   \n",
      "AMZN   0.122117  0.194794  0.034737  0.096194  0.133856  0.221364  0.096833   \n",
      "BRK-B  0.055520  0.061619  0.028173  0.047520  0.052676  0.084290  0.042310   \n",
      "PG     0.036945  0.033637  0.027861  0.031163  0.033859  0.041944  0.034414   \n",
      "XOM    0.037700  0.020759  0.026843  0.030837  0.031304  0.054455  0.015936   \n",
      "TSLA   0.154880  0.173121  0.039128  0.097521  0.131911  0.291392  0.077754   \n",
      "JPM    0.058646  0.073973  0.033321  0.058309  0.056714  0.098399  0.043555   \n",
      "V      0.071406  0.085022  0.029590  0.082400  0.068230  0.118145  0.050164   \n",
      "DIS    0.087399  0.127047  0.022467  0.076987  0.088227  0.157837  0.063936   \n",
      "GOOGL  0.111906  0.182074  0.029806  0.079016  0.120259  0.188012  0.069626   \n",
      "JNJ    0.022740  0.021329  0.022981  0.017382  0.020323  0.021758  0.022364   \n",
      "BAC    0.066245  0.088791  0.034744  0.063399  0.065226  0.113397  0.046487   \n",
      "CSCO   0.066123  0.076719  0.028847  0.051734  0.060804  0.098663  0.048412   \n",
      "\n",
      "            PFE      AMZN     BRK-B        PG       XOM      TSLA       JPM  \\\n",
      "AAPL   0.032745  0.122117  0.055520  0.036945  0.037700  0.154880  0.058646   \n",
      "META   0.045091  0.194794  0.061619  0.033637  0.020759  0.173121  0.073973   \n",
      "UNH    0.032068  0.034737  0.028173  0.027861  0.026843  0.039128  0.033321   \n",
      "MA     0.033440  0.096194  0.047520  0.031163  0.030837  0.097521  0.058309   \n",
      "MSFT   0.035082  0.133856  0.052676  0.033859  0.031304  0.131911  0.056714   \n",
      "NVDA   0.046362  0.221364  0.084290  0.041944  0.054455  0.291392  0.098399   \n",
      "HD     0.033271  0.096833  0.042310  0.034414  0.015936  0.077754  0.043555   \n",
      "PFE    0.070517  0.037274  0.031202  0.027470  0.019979  0.022283  0.031862   \n",
      "AMZN   0.037274  0.242775  0.065772  0.030153  0.037446  0.187717  0.070819   \n",
      "BRK-B  0.031202  0.065772  0.050175  0.024839  0.034026  0.061541  0.047076   \n",
      "PG     0.027470  0.030153  0.024839  0.048310  0.004796  0.023778  0.029385   \n",
      "XOM    0.019979  0.037446  0.034026  0.004796  0.119944  0.042662  0.029357   \n",
      "TSLA   0.022283  0.187717  0.061541  0.023778  0.042662  0.458106  0.067997   \n",
      "JPM    0.031862  0.070819  0.047076  0.029385  0.029357  0.067997  0.082927   \n",
      "V      0.030650  0.083373  0.042080  0.029446  0.024217  0.091218  0.053078   \n",
      "DIS    0.024522  0.124253  0.051383  0.027695  0.035123  0.128815  0.061750   \n",
      "GOOGL  0.029355  0.149924  0.056281  0.028211  0.031455  0.144235  0.059549   \n",
      "JNJ    0.027603  0.022616  0.019263  0.023560  0.006635  0.012673  0.018916   \n",
      "BAC    0.030812  0.085241  0.050820  0.028452  0.032866  0.084412  0.082951   \n",
      "CSCO   0.029531  0.071419  0.040421  0.034522  0.023428  0.067350  0.047044   \n",
      "\n",
      "              V       DIS     GOOGL       JNJ       BAC      CSCO  \n",
      "AAPL   0.071406  0.087399  0.111906  0.022740  0.066245  0.066123  \n",
      "META   0.085022  0.127047  0.182074  0.021329  0.088791  0.076719  \n",
      "UNH    0.029590  0.022467  0.029806  0.022981  0.034744  0.028847  \n",
      "MA     0.082400  0.076987  0.079016  0.017382  0.063399  0.051734  \n",
      "MSFT   0.068230  0.088227  0.120259  0.020323  0.065226  0.060804  \n",
      "NVDA   0.118145  0.157837  0.188012  0.021758  0.113397  0.098663  \n",
      "HD     0.050164  0.063936  0.069626  0.022364  0.046487  0.048412  \n",
      "PFE    0.030650  0.024522  0.029355  0.027603  0.030812  0.029531  \n",
      "AMZN   0.083373  0.124253  0.149924  0.022616  0.085241  0.071419  \n",
      "BRK-B  0.042080  0.051383  0.056281  0.019263  0.050820  0.040421  \n",
      "PG     0.029446  0.027695  0.028211  0.023560  0.028452  0.034522  \n",
      "XOM    0.024217  0.035123  0.031455  0.006635  0.032866  0.023428  \n",
      "TSLA   0.091218  0.128815  0.144235  0.012673  0.084412  0.067350  \n",
      "JPM    0.053078  0.061750  0.059549  0.018916  0.082951  0.047044  \n",
      "V      0.083197  0.067048  0.067013  0.016760  0.058721  0.045075  \n",
      "DIS    0.067048  0.137136  0.095903  0.015222  0.072669  0.052911  \n",
      "GOOGL  0.067013  0.095903  0.160929  0.019701  0.070268  0.065058  \n",
      "JNJ    0.016760  0.015222  0.019701  0.031445  0.018017  0.021906  \n",
      "BAC    0.058721  0.072669  0.070268  0.018017  0.100950  0.048890  \n",
      "CSCO   0.045075  0.052911  0.065058  0.021906  0.048890  0.085205  \n"
     ]
    }
   ],
   "source": [
    "cov_mtx = all_returns[stocks].cov()*252\n",
    "print(cov_mtx)"
   ],
   "metadata": {
    "collapsed": false,
    "ExecuteTime": {
     "end_time": "2023-11-10T22:39:08.244147Z",
     "start_time": "2023-11-10T22:39:08.085841Z"
    }
   }
  },
  {
   "cell_type": "code",
   "execution_count": 42,
   "outputs": [],
   "source": [
    "def super_efficient_portfolio(returns, rf_rate, cov_matrix): # all has to be annualized\n",
    "    annual_returns = returns['Annual Return'].values.T\n",
    "    num_stocks = len(returns)\n",
    "\n",
    "    def neg_sharpe_ratio(weights):\n",
    "        pfl_return = np.sum(annual_returns * weights)\n",
    "        pfl_std_dev = np.sqrt(np.dot(weights.T, np.dot(cov_matrix, weights)))\n",
    "        sharpe_ratio = (pfl_return - rf_rate) / pfl_std_dev\n",
    "        return -sharpe_ratio\n",
    "\n",
    "    constraints = [{'type': 'eq', 'fun': lambda w: np.sum(w) - 1},\n",
    "                   {'type': 'ineq', 'fun': lambda w: w}]\n",
    "\n",
    "    bounds = [(0, 1) for _ in range(num_stocks)]\n",
    "\n",
    "    init_weights = np.ones(num_stocks) / num_stocks\n",
    "    opt_result = scipy.optimize.minimize(neg_sharpe_ratio, init_weights, method='SLSQP', bounds=bounds, constraints=constraints)\n",
    "\n",
    "    # Return optimal weights and Sharpe ratio of resulting portfolio\n",
    "    super_weights = opt_result.x\n",
    "    super_sharpe_ratio = - neg_sharpe_ratio(super_weights)\n",
    "\n",
    "    return super_weights*100, super_sharpe_ratio"
   ],
   "metadata": {
    "collapsed": false,
    "ExecuteTime": {
     "end_time": "2023-11-10T22:50:10.283230Z",
     "start_time": "2023-11-10T22:50:10.282106Z"
    }
   }
  },
  {
   "cell_type": "code",
   "execution_count": 43,
   "outputs": [
    {
     "name": "stdout",
     "output_type": "stream",
     "text": [
      "    Stock  Weight\n",
      "0    AAPL    0.00\n",
      "1    META    0.00\n",
      "2     UNH   22.57\n",
      "3      MA    0.00\n",
      "4    MSFT    0.00\n",
      "5    NVDA    0.00\n",
      "6      HD    0.00\n",
      "7     PFE    0.00\n",
      "8    AMZN    0.00\n",
      "9   BRK-B    0.00\n",
      "10     PG    0.00\n",
      "11    XOM   57.44\n",
      "12   TSLA    0.00\n",
      "13    JPM    0.00\n",
      "14      V   12.93\n",
      "15    DIS    0.00\n",
      "16  GOOGL    0.00\n",
      "17    JNJ    7.05\n",
      "18    BAC    0.00\n",
      "19   CSCO    0.00\n",
      "Sharpe Ratio of super efficient portfolio is 1.47\n"
     ]
    }
   ],
   "source": [
    "weights, sharpe_ratio = super_efficient_portfolio(expected_annual_return, 0.0425, cov_mtx)\n",
    "\n",
    "weights_df = pd.DataFrame(columns=['Stock', 'Weight'])\n",
    "weights_df['Stock'] = stocks\n",
    "weights_df['Weight'] = weights.round(2)\n",
    "print(weights_df)\n",
    "print(f\"Sharpe Ratio of super efficient portfolio is {sharpe_ratio:.2f}\")"
   ],
   "metadata": {
    "collapsed": false,
    "ExecuteTime": {
     "end_time": "2023-11-10T22:50:43.800600Z",
     "start_time": "2023-11-10T22:50:43.737223Z"
    }
   }
  },
  {
   "cell_type": "code",
   "execution_count": 44,
   "outputs": [
    {
     "data": {
      "text/plain": "        Mkt-RF       SMB       HML       Mom\nAAPL  1.215619 -0.520657 -0.458912  0.122752\nMETA   1.15182 -0.458172 -0.283978 -0.715352\nUNH   0.805859 -0.396701 -0.287857  0.591512\nMA    1.078447 -0.143987  0.064123 -0.021296\nMSFT  1.142627 -0.793738 -0.596419  0.051736",
      "text/html": "<div>\n<style scoped>\n    .dataframe tbody tr th:only-of-type {\n        vertical-align: middle;\n    }\n\n    .dataframe tbody tr th {\n        vertical-align: top;\n    }\n\n    .dataframe thead th {\n        text-align: right;\n    }\n</style>\n<table border=\"1\" class=\"dataframe\">\n  <thead>\n    <tr style=\"text-align: right;\">\n      <th></th>\n      <th>Mkt-RF</th>\n      <th>SMB</th>\n      <th>HML</th>\n      <th>Mom</th>\n    </tr>\n  </thead>\n  <tbody>\n    <tr>\n      <th>AAPL</th>\n      <td>1.215619</td>\n      <td>-0.520657</td>\n      <td>-0.458912</td>\n      <td>0.122752</td>\n    </tr>\n    <tr>\n      <th>META</th>\n      <td>1.15182</td>\n      <td>-0.458172</td>\n      <td>-0.283978</td>\n      <td>-0.715352</td>\n    </tr>\n    <tr>\n      <th>UNH</th>\n      <td>0.805859</td>\n      <td>-0.396701</td>\n      <td>-0.287857</td>\n      <td>0.591512</td>\n    </tr>\n    <tr>\n      <th>MA</th>\n      <td>1.078447</td>\n      <td>-0.143987</td>\n      <td>0.064123</td>\n      <td>-0.021296</td>\n    </tr>\n    <tr>\n      <th>MSFT</th>\n      <td>1.142627</td>\n      <td>-0.793738</td>\n      <td>-0.596419</td>\n      <td>0.051736</td>\n    </tr>\n  </tbody>\n</table>\n</div>"
     },
     "execution_count": 44,
     "metadata": {},
     "output_type": "execute_result"
    }
   ],
   "source": [
    "betas.head()"
   ],
   "metadata": {
    "collapsed": false,
    "ExecuteTime": {
     "end_time": "2023-11-11T15:50:57.316157Z",
     "start_time": "2023-11-11T15:50:57.315293Z"
    }
   }
  },
  {
   "cell_type": "code",
   "execution_count": 52,
   "outputs": [
    {
     "data": {
      "text/plain": "                AAPL      META     UNH        MA      MSFT      NVDA  \\\nDate                                                                   \n2023-01-31  0.157144  0.017941  0.2538  0.222901  0.155944  0.279721   \n\n                  HD       PFE      AMZN     BRK-B       PG       XOM  \\\nDate                                                                    \n2023-01-31  0.120591  0.076962 -0.042945  0.129923  0.08154  0.521821   \n\n                TSLA       JPM         V       DIS     GOOGL       JNJ  \\\nDate                                                                     \n2023-01-31 -0.033253  0.098273  0.241054 -0.155372 -0.017075  0.124206   \n\n                 BAC      CSCO  \nDate                            \n2023-01-31 -0.112301  0.147807  ",
      "text/html": "<div>\n<style scoped>\n    .dataframe tbody tr th:only-of-type {\n        vertical-align: middle;\n    }\n\n    .dataframe tbody tr th {\n        vertical-align: top;\n    }\n\n    .dataframe thead th {\n        text-align: right;\n    }\n</style>\n<table border=\"1\" class=\"dataframe\">\n  <thead>\n    <tr style=\"text-align: right;\">\n      <th></th>\n      <th>AAPL</th>\n      <th>META</th>\n      <th>UNH</th>\n      <th>MA</th>\n      <th>MSFT</th>\n      <th>NVDA</th>\n      <th>HD</th>\n      <th>PFE</th>\n      <th>AMZN</th>\n      <th>BRK-B</th>\n      <th>PG</th>\n      <th>XOM</th>\n      <th>TSLA</th>\n      <th>JPM</th>\n      <th>V</th>\n      <th>DIS</th>\n      <th>GOOGL</th>\n      <th>JNJ</th>\n      <th>BAC</th>\n      <th>CSCO</th>\n    </tr>\n    <tr>\n      <th>Date</th>\n      <th></th>\n      <th></th>\n      <th></th>\n      <th></th>\n      <th></th>\n      <th></th>\n      <th></th>\n      <th></th>\n      <th></th>\n      <th></th>\n      <th></th>\n      <th></th>\n      <th></th>\n      <th></th>\n      <th></th>\n      <th></th>\n      <th></th>\n      <th></th>\n      <th></th>\n      <th></th>\n    </tr>\n  </thead>\n  <tbody>\n    <tr>\n      <th>2023-01-31</th>\n      <td>0.157144</td>\n      <td>0.017941</td>\n      <td>0.2538</td>\n      <td>0.222901</td>\n      <td>0.155944</td>\n      <td>0.279721</td>\n      <td>0.120591</td>\n      <td>0.076962</td>\n      <td>-0.042945</td>\n      <td>0.129923</td>\n      <td>0.08154</td>\n      <td>0.521821</td>\n      <td>-0.033253</td>\n      <td>0.098273</td>\n      <td>0.241054</td>\n      <td>-0.155372</td>\n      <td>-0.017075</td>\n      <td>0.124206</td>\n      <td>-0.112301</td>\n      <td>0.147807</td>\n    </tr>\n  </tbody>\n</table>\n</div>"
     },
     "execution_count": 52,
     "metadata": {},
     "output_type": "execute_result"
    }
   ],
   "source": [
    "test1 = ((alpha_beta_returns+1).cumprod().tail(1) ** (1/alpha_beta_returns.shape[0]) - 1) * 252\n",
    "test1.head()"
   ],
   "metadata": {
    "collapsed": false,
    "ExecuteTime": {
     "end_time": "2023-11-11T16:49:01.932094Z",
     "start_time": "2023-11-11T16:49:01.891380Z"
    }
   }
  },
  {
   "cell_type": "code",
   "execution_count": 54,
   "outputs": [
    {
     "data": {
      "text/plain": "  Stock Annual Return\n1  AAPL      0.157144\n2  META      0.017941\n3   UNH        0.2538\n4    MA      0.222901\n5  MSFT      0.155944",
      "text/html": "<div>\n<style scoped>\n    .dataframe tbody tr th:only-of-type {\n        vertical-align: middle;\n    }\n\n    .dataframe tbody tr th {\n        vertical-align: top;\n    }\n\n    .dataframe thead th {\n        text-align: right;\n    }\n</style>\n<table border=\"1\" class=\"dataframe\">\n  <thead>\n    <tr style=\"text-align: right;\">\n      <th></th>\n      <th>Stock</th>\n      <th>Annual Return</th>\n    </tr>\n  </thead>\n  <tbody>\n    <tr>\n      <th>1</th>\n      <td>AAPL</td>\n      <td>0.157144</td>\n    </tr>\n    <tr>\n      <th>2</th>\n      <td>META</td>\n      <td>0.017941</td>\n    </tr>\n    <tr>\n      <th>3</th>\n      <td>UNH</td>\n      <td>0.2538</td>\n    </tr>\n    <tr>\n      <th>4</th>\n      <td>MA</td>\n      <td>0.222901</td>\n    </tr>\n    <tr>\n      <th>5</th>\n      <td>MSFT</td>\n      <td>0.155944</td>\n    </tr>\n  </tbody>\n</table>\n</div>"
     },
     "execution_count": 54,
     "metadata": {},
     "output_type": "execute_result"
    }
   ],
   "source": [
    "test = test1.reset_index()\n",
    "test = test.melt(var_name='Stock', value_name='Annual Return')\n",
    "test.drop(index=0, inplace=True)\n",
    "test.head()"
   ],
   "metadata": {
    "collapsed": false,
    "ExecuteTime": {
     "end_time": "2023-11-11T16:50:39.754559Z",
     "start_time": "2023-11-11T16:50:39.725866Z"
    }
   }
  },
  {
   "cell_type": "markdown",
   "source": [
    "super_efficient_portfolio()\n",
    "\n",
    "Inputs:\n",
    "returns: A DataFrame containing the expected annual returns of each stock.\n",
    "rf_rate: The risk-free rate, used in the calculation of the Sharpe Ratio.\n",
    "cov_matrix: The covariance matrix of the stock returns, used to calculate portfolio risk.\n",
    "\n",
    "Annual Returns Preparation:\n",
    "annual_returns = returns['Annual Return'].values.T: Extracts the annual returns from the DataFrame and transposes them into a format suitable for calculations.\n",
    "\n",
    "Number of Stocks:\n",
    "num_stocks = len(returns): Determines the number of stocks in the portfolio.\n",
    "\n",
    "Negative Sharpe Ratio Function:\n",
    "neg_sharpe_ratio(weights): A function that calculates the negative Sharpe Ratio of a portfolio with given weights. This is used because optimization functions typically minimize a value, and we want to maximize the Sharpe Ratio.\n",
    "Inside this function:\n",
    "pfl_return = np.sum(annual_returns * weights): Calculates the expected portfolio return based on the weights and individual stock returns.\n",
    "pfl_std_dev = np.sqrt(np.dot(weights.T, np.dot(cov_matrix, weights))): Calculates the standard deviation (risk) of the portfolio, which is a measure of volatility.\n",
    "The Sharpe Ratio is then calculated and returned as a negative value for minimization.\n",
    "\n",
    "Constraints and Bounds:\n",
    "constraints: Defines the constraints for the optimization:\n",
    "The sum of weights must equal 1 ({'type': 'eq', 'fun': lambda w: np.sum(w) - 1}).\n",
    "Each weight must be non-negative ({'type': 'ineq', 'fun': lambda w: w}).\n",
    "bounds: Sets the bounds for each weight to be between 0 and 1 (inclusive).\n",
    "\n",
    "Optimization Process:\n",
    "init_weights = np.ones(num_stocks) / num_stocks: Initializes the weights to be equal for all stocks.\n",
    "opt_result = scipy.optimize.minimize(...): Uses the minimize function from scipy.optimize to find the set of weights that minimize the negative Sharpe Ratio (thereby maximizing the actual Sharpe Ratio).\n",
    "\n",
    "Output:\n",
    "super_weights = opt_result.x: Extracts the optimal weights from the optimization result.\n",
    "super_sharpe_ratio = - neg_sharpe_ratio(super_weights): Calculates the Sharpe Ratio of the optimal portfolio.\n",
    "The function returns the optimal weights multiplied by 100 (to convert to percentages) and the Sharpe Ratio of the portfolio."
   ],
   "metadata": {
    "collapsed": false
   }
  },
  {
   "cell_type": "markdown",
   "source": [
    "Data Import and Preparation:\n",
    "The Fama French 3 factor and Carhart Momentum factor datasets are imported from CSV files and merged. The values are divided by 100 to convert them from percentages to decimal format.\n",
    "Daily stock prices are also imported, and returns are calculated using a function VaR.return_calculate.\n",
    "A list of specific stocks of interest is defined.\n",
    "The returns data for these stocks is merged with the factor data to create a combined dataset.\n",
    "\n",
    "Dataset Preparation for Regression:\n",
    "The combined dataset is cleaned of any missing values (NaNs).\n",
    "The factors (Mkt-RF, SMB, HML, Mom) and stock returns are isolated for regression analysis.\n",
    "The risk-free rate is subtracted from the stock returns.\n",
    "\n",
    "Regression Analysis:\n",
    "A loop runs a regression analysis for each stock using the OLS (Ordinary Least Squares) method.\n",
    "It calculates the beta values for each stock with respect to the factors and stores them.\n",
    "It also calculates the alpha (constant term) for each stock.\n",
    "\n",
    "Calculation of Expected Returns:\n",
    "The beta values are used to calculate the expected returns based on the factor model.\n",
    "These expected returns are adjusted for the risk-free rate and then added to the alpha values.\n",
    "The annual expected returns are then calculated.\n",
    "\n",
    "Annual Covariance Matrix:\n",
    "The annual covariance matrix of the stock returns is calculated, a crucial step for portfolio optimization.\n",
    "\n",
    "Portfolio Optimization - Finding the 'Super Efficient Portfolio':\n",
    "A function super_efficient_portfolio is defined for this purpose.\n",
    "It uses the Sharpe Ratio as the optimization criterion, aiming to maximize this ratio.\n",
    "The function uses scipy's minimize function with constraints that ensure the sum of weights is 1 and all weights are non-negative.\n",
    "The optimal weights for each stock in the portfolio that maximize the Sharpe Ratio are computed.\n",
    "\n",
    "Output:\n",
    "The weights of the stocks in the 'super efficient' portfolio and the Sharpe Ratio of this portfolio are printed out."
   ],
   "metadata": {
    "collapsed": false
   }
  },
  {
   "cell_type": "markdown",
   "source": [],
   "metadata": {
    "collapsed": false,
    "ExecuteTime": {
     "end_time": "2023-11-10T16:12:20.974040Z",
     "start_time": "2023-11-10T16:12:16.902813Z"
    }
   },
   "outputs": [
    {
     "name": "stdout",
     "output_type": "stream",
     "text": [
      "                 Delta\n",
      "Portfolio             \n",
      "Call          0.558986\n",
      "CallSpread    0.286019\n",
      "CoveredCall   0.580674\n",
      "ProtectedPut  0.717423\n",
      "Put          -0.457097\n",
      "PutSpread    -0.243272\n",
      "Stock         1.000000\n",
      "Straddle      0.101889\n",
      "SynLong       1.016084\n"
     ]
    }
   ],
   "execution_count": 31
  }
 ],
 "metadata": {
  "kernelspec": {
   "display_name": "Python 3",
   "language": "python",
   "name": "python3"
  },
  "language_info": {
   "codemirror_mode": {
    "name": "ipython",
    "version": 2
   },
   "file_extension": ".py",
   "mimetype": "text/x-python",
   "name": "python",
   "nbconvert_exporter": "python",
   "pygments_lexer": "ipython2",
   "version": "2.7.6"
  }
 },
 "nbformat": 4,
 "nbformat_minor": 0
}
