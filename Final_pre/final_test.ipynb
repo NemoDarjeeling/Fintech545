{
 "cells": [
  {
   "cell_type": "code",
   "execution_count": 1,
   "metadata": {
    "collapsed": true,
    "ExecuteTime": {
     "end_time": "2023-12-16T21:07:18.527647Z",
     "start_time": "2023-12-16T21:07:13.540786Z"
    }
   },
   "outputs": [],
   "source": [
    "import pandas as pd\n",
    "import numpy as np\n",
    "from scipy.stats import norm, t\n",
    "import riskmgmlib as rml"
   ]
  },
  {
   "cell_type": "code",
   "execution_count": 2,
   "outputs": [],
   "source": [
    "cov_matrix = pd.read_csv('problem3_cov.csv')\n",
    "cov_matrix = list(cov_matrix.values)\n",
    "er = pd.read_csv('problem3_ER.csv')\n",
    "rf = er.RF.values[0]"
   ],
   "metadata": {
    "collapsed": false,
    "ExecuteTime": {
     "end_time": "2023-12-16T21:07:36.230132Z",
     "start_time": "2023-12-16T21:07:36.104018Z"
    }
   }
  },
  {
   "cell_type": "code",
   "execution_count": 4,
   "outputs": [
    {
     "name": "stdout",
     "output_type": "stream",
     "text": [
      "[array([0.0319209 , 0.02913003, 0.03203832]), array([0.02913003, 0.03432744, 0.03322408]), array([0.03203832, 0.03322408, 0.04152399])]\n"
     ]
    }
   ],
   "source": [
    "print(cov_matrix)"
   ],
   "metadata": {
    "collapsed": false,
    "ExecuteTime": {
     "end_time": "2023-12-16T21:08:02.700580Z",
     "start_time": "2023-12-16T21:08:02.693988Z"
    }
   }
  },
  {
   "cell_type": "code",
   "execution_count": 5,
   "outputs": [
    {
     "name": "stdout",
     "output_type": "stream",
     "text": [
      "      RF  Expected_Value_1  Expected_Value_2  Expected_Value_3\n",
      "0  0.045          0.136372          0.139753          0.149213\n"
     ]
    }
   ],
   "source": [
    "print(er)"
   ],
   "metadata": {
    "collapsed": false,
    "ExecuteTime": {
     "end_time": "2023-12-16T21:08:18.175518Z",
     "start_time": "2023-12-16T21:08:18.170254Z"
    }
   }
  }
 ],
 "metadata": {
  "kernelspec": {
   "display_name": "Python 3",
   "language": "python",
   "name": "python3"
  },
  "language_info": {
   "codemirror_mode": {
    "name": "ipython",
    "version": 2
   },
   "file_extension": ".py",
   "mimetype": "text/x-python",
   "name": "python",
   "nbconvert_exporter": "python",
   "pygments_lexer": "ipython2",
   "version": "2.7.6"
  }
 },
 "nbformat": 4,
 "nbformat_minor": 0
}
