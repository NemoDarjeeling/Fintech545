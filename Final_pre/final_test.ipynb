{
 "cells": [
  {
   "cell_type": "code",
   "execution_count": 1,
   "metadata": {
    "collapsed": true,
    "ExecuteTime": {
     "end_time": "2023-12-17T16:13:17.264512Z",
     "start_time": "2023-12-17T16:13:16.274748Z"
    }
   },
   "outputs": [],
   "source": [
    "import pandas as pd\n",
    "import numpy as np\n",
    "from scipy.stats import norm, t\n",
    "import riskmgmlib as rml"
   ]
  },
  {
   "cell_type": "code",
   "execution_count": 3,
   "outputs": [],
   "source": [
    "data1 = pd.read_csv('problem1.csv')\n",
    "data1 = data1.dropna()\n",
    "\n",
    "logreturn = rml.return_calculate(data1, \"LOG\")"
   ],
   "metadata": {
    "collapsed": false,
    "ExecuteTime": {
     "end_time": "2023-12-17T16:16:19.129612Z",
     "start_time": "2023-12-17T16:16:19.104552Z"
    }
   }
  },
  {
   "cell_type": "code",
   "execution_count": 4,
   "outputs": [
    {
     "name": "stdout",
     "output_type": "stream",
     "text": [
      "          Date    Price1    Price2    Price3\n",
      "1   2023-04-13  0.018993  0.003195 -0.000451\n",
      "2   2023-04-14  0.002168  0.007144  0.002393\n",
      "3   2023-04-15 -0.006809 -0.002536 -0.000854\n",
      "4   2023-04-16 -0.003761 -0.004983 -0.002282\n",
      "6   2023-04-18  0.003216  0.007683  0.002379\n",
      "7   2023-04-19 -0.001601 -0.005461 -0.001421\n",
      "8   2023-04-20  0.002864  0.000578  0.001313\n",
      "9   2023-04-21 -0.001993  0.003972 -0.000706\n",
      "11  2023-04-23  0.003708 -0.008517 -0.000243\n",
      "12  2023-04-24  0.003410  0.005293 -0.000427\n",
      "13  2023-04-25  0.006229  0.003376  0.000830\n",
      "14  2023-04-26 -0.006950 -0.005061 -0.000667\n",
      "15  2023-04-27  0.009240  0.004083  0.001317\n",
      "16  2023-04-28  0.008836 -0.002461 -0.000957\n",
      "19  2023-05-01 -0.018271  0.000179  0.000123\n"
     ]
    }
   ],
   "source": [
    "print(logreturn)"
   ],
   "metadata": {
    "collapsed": false,
    "ExecuteTime": {
     "end_time": "2023-12-17T16:16:29.132909Z",
     "start_time": "2023-12-17T16:16:29.127642Z"
    }
   }
  }
 ],
 "metadata": {
  "kernelspec": {
   "display_name": "Python 3",
   "language": "python",
   "name": "python3"
  },
  "language_info": {
   "codemirror_mode": {
    "name": "ipython",
    "version": 2
   },
   "file_extension": ".py",
   "mimetype": "text/x-python",
   "name": "python",
   "nbconvert_exporter": "python",
   "pygments_lexer": "ipython2",
   "version": "2.7.6"
  }
 },
 "nbformat": 4,
 "nbformat_minor": 0
}
