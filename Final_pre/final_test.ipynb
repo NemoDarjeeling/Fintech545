{
 "cells": [
  {
   "cell_type": "code",
   "execution_count": 1,
   "metadata": {
    "collapsed": true,
    "ExecuteTime": {
     "end_time": "2023-12-16T21:07:18.527647Z",
     "start_time": "2023-12-16T21:07:13.540786Z"
    }
   },
   "outputs": [],
   "source": [
    "import pandas as pd\n",
    "import numpy as np\n",
    "from scipy.stats import norm, t\n",
    "import riskmgmlib as rml"
   ]
  },
  {
   "cell_type": "code",
   "execution_count": 2,
   "outputs": [],
   "source": [
    "cov_matrix = pd.read_csv('problem3_cov.csv')\n",
    "cov_matrix = list(cov_matrix.values)\n",
    "er = pd.read_csv('problem3_ER.csv')\n",
    "rf = er.RF.values[0]"
   ],
   "metadata": {
    "collapsed": false,
    "ExecuteTime": {
     "end_time": "2023-12-16T21:07:36.230132Z",
     "start_time": "2023-12-16T21:07:36.104018Z"
    }
   }
  },
  {
   "cell_type": "code",
   "execution_count": 4,
   "outputs": [
    {
     "name": "stdout",
     "output_type": "stream",
     "text": [
      "[array([0.0319209 , 0.02913003, 0.03203832]), array([0.02913003, 0.03432744, 0.03322408]), array([0.03203832, 0.03322408, 0.04152399])]\n"
     ]
    }
   ],
   "source": [
    "print(cov_matrix)"
   ],
   "metadata": {
    "collapsed": false,
    "ExecuteTime": {
     "end_time": "2023-12-16T21:08:02.700580Z",
     "start_time": "2023-12-16T21:08:02.693988Z"
    }
   }
  },
  {
   "cell_type": "code",
   "execution_count": 5,
   "outputs": [
    {
     "name": "stdout",
     "output_type": "stream",
     "text": [
      "      RF  Expected_Value_1  Expected_Value_2  Expected_Value_3\n",
      "0  0.045          0.136372          0.139753          0.149213\n"
     ]
    }
   ],
   "source": [
    "print(er)"
   ],
   "metadata": {
    "collapsed": false,
    "ExecuteTime": {
     "end_time": "2023-12-16T21:08:18.175518Z",
     "start_time": "2023-12-16T21:08:18.170254Z"
    }
   }
  },
  {
   "cell_type": "code",
   "execution_count": 6,
   "outputs": [],
   "source": [
    "data4_returns = pd.read_csv('problem4_returns.csv', index_col=3)\n",
    "data4_weights = pd.read_csv('problem4_startWeight.csv')"
   ],
   "metadata": {
    "collapsed": false,
    "ExecuteTime": {
     "end_time": "2023-12-16T21:36:28.241606Z",
     "start_time": "2023-12-16T21:36:28.184743Z"
    }
   }
  },
  {
   "cell_type": "code",
   "execution_count": 7,
   "outputs": [
    {
     "data": {
      "text/plain": "              Asset1    Asset2    Asset3\nDate                                    \n2023-04-12  0.008024 -0.044177 -0.041222\n2023-04-13 -0.017037  0.043223 -0.105578\n2023-04-14  0.037744  0.017898 -0.007105\n2023-04-15  0.044493 -0.033881  0.002944\n2023-04-16 -0.052557  0.027637 -0.032206",
      "text/html": "<div>\n<style scoped>\n    .dataframe tbody tr th:only-of-type {\n        vertical-align: middle;\n    }\n\n    .dataframe tbody tr th {\n        vertical-align: top;\n    }\n\n    .dataframe thead th {\n        text-align: right;\n    }\n</style>\n<table border=\"1\" class=\"dataframe\">\n  <thead>\n    <tr style=\"text-align: right;\">\n      <th></th>\n      <th>Asset1</th>\n      <th>Asset2</th>\n      <th>Asset3</th>\n    </tr>\n    <tr>\n      <th>Date</th>\n      <th></th>\n      <th></th>\n      <th></th>\n    </tr>\n  </thead>\n  <tbody>\n    <tr>\n      <th>2023-04-12</th>\n      <td>0.008024</td>\n      <td>-0.044177</td>\n      <td>-0.041222</td>\n    </tr>\n    <tr>\n      <th>2023-04-13</th>\n      <td>-0.017037</td>\n      <td>0.043223</td>\n      <td>-0.105578</td>\n    </tr>\n    <tr>\n      <th>2023-04-14</th>\n      <td>0.037744</td>\n      <td>0.017898</td>\n      <td>-0.007105</td>\n    </tr>\n    <tr>\n      <th>2023-04-15</th>\n      <td>0.044493</td>\n      <td>-0.033881</td>\n      <td>0.002944</td>\n    </tr>\n    <tr>\n      <th>2023-04-16</th>\n      <td>-0.052557</td>\n      <td>0.027637</td>\n      <td>-0.032206</td>\n    </tr>\n  </tbody>\n</table>\n</div>"
     },
     "execution_count": 7,
     "metadata": {},
     "output_type": "execute_result"
    }
   ],
   "source": [
    "data4_returns.head()"
   ],
   "metadata": {
    "collapsed": false,
    "ExecuteTime": {
     "end_time": "2023-12-16T21:36:37.626527Z",
     "start_time": "2023-12-16T21:36:37.604725Z"
    }
   }
  },
  {
   "cell_type": "code",
   "execution_count": 8,
   "outputs": [
    {
     "data": {
      "text/plain": "    weight1   weight2   weight3\n0  0.432265  0.155492  0.412242",
      "text/html": "<div>\n<style scoped>\n    .dataframe tbody tr th:only-of-type {\n        vertical-align: middle;\n    }\n\n    .dataframe tbody tr th {\n        vertical-align: top;\n    }\n\n    .dataframe thead th {\n        text-align: right;\n    }\n</style>\n<table border=\"1\" class=\"dataframe\">\n  <thead>\n    <tr style=\"text-align: right;\">\n      <th></th>\n      <th>weight1</th>\n      <th>weight2</th>\n      <th>weight3</th>\n    </tr>\n  </thead>\n  <tbody>\n    <tr>\n      <th>0</th>\n      <td>0.432265</td>\n      <td>0.155492</td>\n      <td>0.412242</td>\n    </tr>\n  </tbody>\n</table>\n</div>"
     },
     "execution_count": 8,
     "metadata": {},
     "output_type": "execute_result"
    }
   ],
   "source": [
    "data4_weights.head()"
   ],
   "metadata": {
    "collapsed": false,
    "ExecuteTime": {
     "end_time": "2023-12-16T21:36:54.785009Z",
     "start_time": "2023-12-16T21:36:54.782780Z"
    }
   }
  },
  {
   "cell_type": "code",
   "execution_count": 9,
   "outputs": [
    {
     "name": "stderr",
     "output_type": "stream",
     "text": [
      "/Users/yanghaochen/Desktop/fintech545/Final_pre/riskmgmlib.py:413: FutureWarning: The frame.append method is deprecated and will be removed from pandas in a future version. Use pandas.concat instead.\n",
      "  Attribution = Attribution.append(pd.DataFrame({\n"
     ]
    }
   ],
   "source": [
    "data4_weights = list(data4_weights.values[0])\n",
    "stocks = ['Asset1', 'Asset2', 'Asset3']\n",
    "attribution, weight = rml.ex_post_contribution(data4_weights, stocks, data4_returns)"
   ],
   "metadata": {
    "collapsed": false,
    "ExecuteTime": {
     "end_time": "2023-12-16T21:38:50.885675Z",
     "start_time": "2023-12-16T21:38:50.814795Z"
    }
   }
  },
  {
   "cell_type": "code",
   "execution_count": 10,
   "outputs": [
    {
     "name": "stdout",
     "output_type": "stream",
     "text": [
      "[[0.43226518 0.15549249 0.41224233]\n",
      " [0.44480495 0.15171745 0.4034776 ]\n",
      " [0.45716808 0.16549373 0.37733819]\n",
      " [0.46624717 0.16555259 0.36820024]\n",
      " [0.47921907 0.15739076 0.36339018]\n",
      " [0.46930371 0.16718065 0.36351564]\n",
      " [0.46969817 0.16270907 0.36759276]\n",
      " [0.42953883 0.17382824 0.39663293]\n",
      " [0.4201786  0.16851823 0.41130318]\n",
      " [0.40786885 0.16518321 0.42694794]\n",
      " [0.43319934 0.16759738 0.39920328]\n",
      " [0.41514963 0.15558505 0.42926532]\n",
      " [0.44915144 0.15009118 0.40075737]\n",
      " [0.45214956 0.15247169 0.39537876]\n",
      " [0.44972802 0.16321312 0.38705886]\n",
      " [0.43479535 0.15645844 0.40874621]\n",
      " [0.42310482 0.17341374 0.40348145]\n",
      " [0.4336153  0.17309293 0.39329177]\n",
      " [0.45661383 0.17155924 0.37182694]\n",
      " [0.43953408 0.16967044 0.39079548]]\n",
      "\n",
      "     Asset1    Asset2    Asset3  Portfolio               Value\n",
      "0 -0.024677  0.157992 -0.089881  -0.023153        Total Return\n",
      "1 -0.012221  0.024968 -0.035901  -0.023153  Return Attribution\n",
      "2  0.012564  0.000161  0.021275   0.033999     Vol Attribution\n"
     ]
    }
   ],
   "source": [
    "print(weight)\n",
    "print(\"\")\n",
    "#b,c\n",
    "print(attribution)"
   ],
   "metadata": {
    "collapsed": false,
    "ExecuteTime": {
     "end_time": "2023-12-16T21:39:01.741969Z",
     "start_time": "2023-12-16T21:39:01.740053Z"
    }
   }
  },
  {
   "cell_type": "code",
   "execution_count": 11,
   "outputs": [],
   "source": [
    "data5 = pd.read_csv('problem5.csv', index_col=4)\n",
    "returns = data5.pct_change().dropna()"
   ],
   "metadata": {
    "collapsed": false,
    "ExecuteTime": {
     "end_time": "2023-12-17T01:25:31.397704Z",
     "start_time": "2023-12-17T01:25:31.290971Z"
    }
   }
  },
  {
   "cell_type": "code",
   "execution_count": 12,
   "outputs": [
    {
     "data": {
      "text/plain": "              Price1    Price2    Price3    Price4\nDate                                              \n2023-03-03 -0.000110 -0.000467  0.000611 -0.000414\n2023-03-04  0.000092 -0.000005 -0.000620 -0.000242\n2023-03-05 -0.000369  0.000589  0.000354  0.000513\n2023-03-06  0.000384  0.000047 -0.000299  0.000061\n2023-03-07 -0.000591 -0.000686  0.000403 -0.000869\n2023-03-08  0.000086  0.000395 -0.000617 -0.000393\n2023-03-09  0.000282 -0.000311  0.000410  0.000524\n2023-03-10 -0.000127 -0.000296 -0.000011 -0.000054\n2023-03-11  0.000146  0.000641  0.000205  0.000272\n2023-03-12  0.000609  0.000215  0.000194 -0.000166",
      "text/html": "<div>\n<style scoped>\n    .dataframe tbody tr th:only-of-type {\n        vertical-align: middle;\n    }\n\n    .dataframe tbody tr th {\n        vertical-align: top;\n    }\n\n    .dataframe thead th {\n        text-align: right;\n    }\n</style>\n<table border=\"1\" class=\"dataframe\">\n  <thead>\n    <tr style=\"text-align: right;\">\n      <th></th>\n      <th>Price1</th>\n      <th>Price2</th>\n      <th>Price3</th>\n      <th>Price4</th>\n    </tr>\n    <tr>\n      <th>Date</th>\n      <th></th>\n      <th></th>\n      <th></th>\n      <th></th>\n    </tr>\n  </thead>\n  <tbody>\n    <tr>\n      <th>2023-03-03</th>\n      <td>-0.000110</td>\n      <td>-0.000467</td>\n      <td>0.000611</td>\n      <td>-0.000414</td>\n    </tr>\n    <tr>\n      <th>2023-03-04</th>\n      <td>0.000092</td>\n      <td>-0.000005</td>\n      <td>-0.000620</td>\n      <td>-0.000242</td>\n    </tr>\n    <tr>\n      <th>2023-03-05</th>\n      <td>-0.000369</td>\n      <td>0.000589</td>\n      <td>0.000354</td>\n      <td>0.000513</td>\n    </tr>\n    <tr>\n      <th>2023-03-06</th>\n      <td>0.000384</td>\n      <td>0.000047</td>\n      <td>-0.000299</td>\n      <td>0.000061</td>\n    </tr>\n    <tr>\n      <th>2023-03-07</th>\n      <td>-0.000591</td>\n      <td>-0.000686</td>\n      <td>0.000403</td>\n      <td>-0.000869</td>\n    </tr>\n    <tr>\n      <th>2023-03-08</th>\n      <td>0.000086</td>\n      <td>0.000395</td>\n      <td>-0.000617</td>\n      <td>-0.000393</td>\n    </tr>\n    <tr>\n      <th>2023-03-09</th>\n      <td>0.000282</td>\n      <td>-0.000311</td>\n      <td>0.000410</td>\n      <td>0.000524</td>\n    </tr>\n    <tr>\n      <th>2023-03-10</th>\n      <td>-0.000127</td>\n      <td>-0.000296</td>\n      <td>-0.000011</td>\n      <td>-0.000054</td>\n    </tr>\n    <tr>\n      <th>2023-03-11</th>\n      <td>0.000146</td>\n      <td>0.000641</td>\n      <td>0.000205</td>\n      <td>0.000272</td>\n    </tr>\n    <tr>\n      <th>2023-03-12</th>\n      <td>0.000609</td>\n      <td>0.000215</td>\n      <td>0.000194</td>\n      <td>-0.000166</td>\n    </tr>\n  </tbody>\n</table>\n</div>"
     },
     "execution_count": 12,
     "metadata": {},
     "output_type": "execute_result"
    }
   ],
   "source": [
    "returns.head(10)"
   ],
   "metadata": {
    "collapsed": false,
    "ExecuteTime": {
     "end_time": "2023-12-17T01:25:40.004771Z",
     "start_time": "2023-12-17T01:25:40.002398Z"
    }
   }
  }
 ],
 "metadata": {
  "kernelspec": {
   "display_name": "Python 3",
   "language": "python",
   "name": "python3"
  },
  "language_info": {
   "codemirror_mode": {
    "name": "ipython",
    "version": 2
   },
   "file_extension": ".py",
   "mimetype": "text/x-python",
   "name": "python",
   "nbconvert_exporter": "python",
   "pygments_lexer": "ipython2",
   "version": "2.7.6"
  }
 },
 "nbformat": 4,
 "nbformat_minor": 0
}
