{
 "cells": [
  {
   "cell_type": "code",
   "execution_count": 1,
   "metadata": {},
   "outputs": [],
   "source": [
    "import pandas as pd\n",
    "import numpy as np\n",
    "from scipy.stats import norm, t\n",
    "import riskmgmlib as rml"
   ]
  },
  {
   "attachments": {},
   "cell_type": "markdown",
   "metadata": {},
   "source": [
    "I used Xiaokuan Zhao\n",
    "\n",
    "My netid is xz358\n",
    "\n",
    "This is my hashed name:  bdc6aa95f87584754400b13561033edef6b044cf"
   ]
  },
  {
   "cell_type": "code",
   "execution_count": 54,
   "metadata": {},
   "outputs": [
    {
     "name": "stdout",
     "output_type": "stream",
     "text": [
      "              Price1    Price2    Price3\n",
      "Date                                    \n",
      "2023-04-13  0.018993  0.003195 -0.000451\n",
      "2023-04-14  0.002168  0.007144  0.002393\n",
      "2023-04-15 -0.006809 -0.002536 -0.000854\n",
      "2023-04-16 -0.003761 -0.004983 -0.002282\n",
      "2023-04-19 -0.001601 -0.005461 -0.001421\n",
      "2023-04-20  0.002864  0.000578  0.001313\n",
      "2023-04-21 -0.001993  0.003972 -0.000706\n",
      "2023-04-24  0.003410  0.005293 -0.000427\n",
      "2023-04-25  0.006229  0.003376  0.000830\n",
      "2023-04-26 -0.006950 -0.005061 -0.000667\n",
      "2023-04-27  0.009240  0.004083  0.001317\n",
      "2023-04-28  0.008836 -0.002461 -0.000957\n",
      "\n",
      "Covariance Matrix: \n",
      " [[0.09000000000000001, 0.11616778283337, 0.01289133815358598], [0.11616778283337, 0.09000000000000001, 0.015150806409572592], [0.01289133815358598, 0.015150806409572592, 0.09]]\n",
      "\n",
      "Is this Matrix PSD?  False\n",
      "\n",
      "Fixed Matrix: \n",
      " [[0.09       0.08998502 0.01228759]\n",
      " [0.08998502 0.09       0.01391191]\n",
      " [0.01228759 0.01391191 0.09      ]]\n"
     ]
    }
   ],
   "source": [
    "# Problem1\n",
    "# Using the data in “problem1.csv”\n",
    "# a. Calculate Log Returns (2pts)\n",
    "# b. Calculate Pairwise Covariance (4pt)\n",
    "# c. Is this Matrix PSD? If not, fix it with the “near_psd” method (2pt)\n",
    "# d. Discuss when you might see data like this in the real world. (2pt)\n",
    "\n",
    "data1 = pd.read_csv('problem1.csv',index_col=3)\n",
    "\n",
    "#a\n",
    "logreturndata1 = np.log(data1/data1.shift(1)).dropna()\n",
    "print(logreturndata1)\n",
    "print(\"\")\n",
    "\n",
    "#b\n",
    "\n",
    "data1_12 = data1[(~data1['Price1'].isna()) & (~data1['Price2'].isna())]\n",
    "var1 = np.var(~data1['Price1'].isna())\n",
    "cov12 = np.cov(data1_12['Price1'], data1_12['Price2'])[0][1]\n",
    "\n",
    "data1_13 = data1[(~data1['Price1'].isna()) & (~data1['Price3'].isna())]\n",
    "var3 = np.var(~data1['Price3'].isna())\n",
    "cov13 = np.cov(data1_13['Price1'], data1_13['Price3'])[0][1]\n",
    "\n",
    "data1_23 = data1[(~data1['Price2'].isna()) & (~data1['Price3'].isna())]\n",
    "var2 = np.var(~data1['Price2'].isna())\n",
    "cov_23 = np.cov(data1_23['Price2'], data1_23['Price3'])[0][1]\n",
    "\n",
    "cov_matrix = [[var1,cov12,cov13],[cov12,var2,cov_23],[cov13,cov_23,var3]]\n",
    "print('Covariance Matrix: \\n',cov_matrix)\n",
    "print(\"\")\n",
    "#c\n",
    "is_psd = rml.is_psd(cov_matrix)\n",
    "print('Is this Matrix PSD? ',is_psd)\n",
    "print(\"\")\n",
    "fixed_matrix = rml.near_psd(cov_matrix)\n",
    "print('Fixed Matrix: \\n',fixed_matrix)\n",
    "\n",
    "#d\n",
    "# Data like this can be seen in the real world when the data is collected from different exchanges since\n",
    "# different exchanges have different different holidays. So the data is not complete.\n",
    "\n"
   ]
  },
  {
   "cell_type": "code",
   "execution_count": 10,
   "metadata": {},
   "outputs": [
    {
     "name": "stdout",
     "output_type": "stream",
     "text": [
      "The call price is:  6.801866322511721\n",
      "\n",
      "The delta of the call is:  0.5084801613020203\n",
      "\n",
      "The gamma of the call is:  0.023104378660025782\n",
      "\n",
      "The vega of the call option is:  28.309901459443246\n",
      "\n",
      "Rho of the call option is:  -3.6872810452777642\n",
      "\n",
      "VaR at 5% is:  60.461567591870654\n",
      "\n",
      "ES at 5% is:  79.06241228618667\n",
      "\n",
      "This is similar to a covered call\n"
     ]
    }
   ],
   "source": [
    "# “problem2.csv” contains data about a call option. Time to maturity is given in days. Assume 255\n",
    "# days in a year.\n",
    "# a. Calculate the call price (1pt)\n",
    "# b. Calculate Delta (1pt)\n",
    "# c. Calculate Gamma (1pt)\n",
    "# d. Calculate Vega (1pt)\n",
    "# e. Calculate Rho (1pt)\n",
    "# Assume you are long 1 share of underlying and are short 1 call option. Using Monte Carlo\n",
    "# assuming a Normal distribution of arithmetic returns where the implied volatility is the annual\n",
    "# volatility and 0 mean\n",
    "# f. Calculate VaR at 5% (2pt)\n",
    "# g. Calculate ES at 5% (2pt)\n",
    "# h. This portfolio’s payoff structure most closely resembles what? (1pt)\n",
    "\n",
    "data2 = pd.read_csv('problem2.csv')\n",
    "S = data2.Underlying.values[0]\n",
    "X = data2.Strike.values[0]\n",
    "sigma = data2.IV.values[0]\n",
    "T = data2.TTM.values[0]/255\n",
    "r = data2.RF.values[0]\n",
    "div = data2.DivRate.values[0]\n",
    "b = r - div\n",
    "\n",
    "#a\n",
    "price = rml.gbsm('C',S, X, r, b, sigma, T)\n",
    "print('The call price is: ',price)\n",
    "print(\"\")\n",
    "#b\n",
    "delta_call = np.exp((b-r)*T)*norm.cdf(rml.d1(S, X, b, sigma, T))\n",
    "print('The delta of the call is: ',delta_call)\n",
    "print(\"\")\n",
    "#c\n",
    "gamma = np.exp((b-r)*T)*norm.pdf(rml.d1(S, X, b, sigma, T))/(S*sigma*np.sqrt(T))\n",
    "print('The gamma of the call is: ',gamma)\n",
    "print(\"\")\n",
    "#d\n",
    "vega = S*np.exp((b-r)*T)*norm.pdf(rml.d1(S, X, b, sigma, T))*np.sqrt(T)\n",
    "print('The vega of the call option is: ', vega)\n",
    "print(\"\")\n",
    "#e\n",
    "rho_call = -T*S*np.exp(b*T - r*T)*norm.cdf(rml.d1(S, X, b, sigma, T)) + X*T*np.exp(-r*T)*norm.cdf(rml.d2(S, X, b, sigma, T))\n",
    "print('Rho of the call option is: ', rho_call)\n",
    "print(\"\")\n",
    "#f\n",
    "T = (data2.TTM.values[0]-1)/255\n",
    "# monte carlo simulation from S, assuming a Normal distribution of arithmetic returns where the implied volatility is 0.23 and 0 mean\n",
    "underlying_price = S * (1+norm.rvs(loc=0, scale=sigma, size=10000))\n",
    "pnl = underlying_price - S - [underlying_price for underlying_price in rml.gbsm('C', underlying_price, X, r, b, sigma ,T)] + price\n",
    "var = rml.calculate_var(pnl, np.mean(pnl))\n",
    "print('VaR at 5% is: ', var)\n",
    "print(\"\")\n",
    "#g\n",
    "es = rml.calculate_es(pnl, np.mean(pnl))\n",
    "print('ES at 5% is: ', es)\n",
    "print(\"\")\n",
    "#h\n",
    "print('This is similar to a covered call')"
   ]
  },
  {
   "cell_type": "code",
   "execution_count": 18,
   "metadata": {},
   "outputs": [
    {
     "name": "stdout",
     "output_type": "stream",
     "text": [
      "[0.37140965 0.34794704 0.2806433 ]\n",
      "\n",
      "[0.352  0.3394 0.3086]\n"
     ]
    }
   ],
   "source": [
    "# Problem 3\n",
    "# Data in “problem3_cov.csv” is the covariance for 3 assets. “problem3_ER.csv” is the expected\n",
    "# return for each asset as well as the risk free rate.\n",
    "# a. Calculate the Maximum Sharpe Ratio Portfolio (4pt)\n",
    "# b. Calculate the Risk Parity Portfolio (4pt)\n",
    "# c. Compare the differences between the portfolio and explain why. (2pt)\n",
    "\n",
    "cov_matrix = pd.read_csv('problem3_cov.csv')\n",
    "cov_matrix = list(cov_matrix.values)\n",
    "er = pd.read_csv('problem3_ER.csv')\n",
    "rf = er.RF.values[0]\n",
    "er.drop('RF',axis=1,inplace=True)\n",
    "er = list(er.values[0])\n",
    "volatility = np.sqrt([cov_matrix[0][0], cov_matrix[1][1], cov_matrix[2][2]])\n",
    "corr = rml.corr(cov_matrix)\n",
    "\n",
    "#a\n",
    "wos, ratiio = rml.optimize_sharpe_ratio(er, volatility, corr)\n",
    "print(wos)\n",
    "print(\"\")\n",
    "#b\n",
    "wrp = rml.risk_parity_weight(corr,volatility)\n",
    "print(wrp)"
   ]
  },
  {
   "cell_type": "code",
   "execution_count": 5,
   "metadata": {},
   "outputs": [
    {
     "name": "stdout",
     "output_type": "stream",
     "text": [
      "ER Optimal: 0.14115218197083818\n",
      "SD Optimal: 0.18035036046673555\n",
      "SR Optimal: 0.5331410578942137\n",
      " \n",
      "ER RP: 0.14148229019665012\n",
      "SD RP: 0.18095388639326654\n",
      "SR RP: 0.5331871678454336\n"
     ]
    }
   ],
   "source": [
    "print(f\"ER Optimal: {wos.dot(er)}\")\n",
    "print(f\"SD Optimal: {np.sqrt(wos.T.dot(cov_matrix).dot(wos))}\")\n",
    "print(f\"SR Optimal: {(wos.T.dot(er) - rf) / np.sqrt(wos.T.dot(cov_matrix).dot(wos))}\")\n",
    "print(\" \")\n",
    "print(f\"ER RP: {wrp.dot(er)}\")\n",
    "print(f\"SD RP: {np.sqrt(wrp.T.dot(cov_matrix).dot(wrp))}\")\n",
    "print(f\"SR RP: {(wrp.T.dot(er) - rf) / np.sqrt(wrp.T.dot(cov_matrix).dot(wrp))}\")"
   ]
  },
  {
   "cell_type": "code",
   "execution_count": 6,
   "metadata": {},
   "outputs": [
    {
     "name": "stdout",
     "output_type": "stream",
     "text": [
      "[[1.   0.88 0.88]\n",
      " [0.88 1.   0.88]\n",
      " [0.88 0.88 1.  ]]\n"
     ]
    }
   ],
   "source": [
    "print(corr)"
   ]
  },
  {
   "attachments": {},
   "cell_type": "markdown",
   "metadata": {},
   "source": [
    "As we can see, the maximum sharpe ratio portfolio is [0.37, 0.35, 0.28], and the risk parity portfolio is [0.35, 0.34, 0.31]. There is difference but the difference is small. Also, their ER, SD and SR is similar too. This is because the correlation matrixes are equal, so the risk parity portfolio is the max sharpe ratio portfolio. The little difference is perhaps because of digital accuracy."
   ]
  },
  {
   "cell_type": "code",
   "execution_count": 3,
   "metadata": {},
   "outputs": [
    {
     "name": "stdout",
     "output_type": "stream",
     "text": [
      "[[0.43226518 0.15549249 0.41224233]\n",
      " [0.44480495 0.15171745 0.4034776 ]\n",
      " [0.45716808 0.16549373 0.37733819]\n",
      " [0.46624717 0.16555259 0.36820024]\n",
      " [0.47921907 0.15739076 0.36339018]\n",
      " [0.46930371 0.16718065 0.36351564]\n",
      " [0.46969817 0.16270907 0.36759276]\n",
      " [0.42953883 0.17382824 0.39663293]\n",
      " [0.4201786  0.16851823 0.41130318]\n",
      " [0.40786885 0.16518321 0.42694794]\n",
      " [0.43319934 0.16759738 0.39920328]\n",
      " [0.41514963 0.15558505 0.42926532]\n",
      " [0.44915144 0.15009118 0.40075737]\n",
      " [0.45214956 0.15247169 0.39537876]\n",
      " [0.44972802 0.16321312 0.38705886]\n",
      " [0.43479535 0.15645844 0.40874621]\n",
      " [0.42310482 0.17341374 0.40348145]\n",
      " [0.4336153  0.17309293 0.39329177]\n",
      " [0.45661383 0.17155924 0.37182694]\n",
      " [0.43953408 0.16967044 0.39079548]]\n",
      "\n",
      "     Asset1    Asset2    Asset3  Portfolio               Value\n",
      "0 -0.024677  0.157992 -0.089881  -0.023153        Total Return\n",
      "1 -0.012221  0.024968 -0.035901  -0.023153  Return Attribution\n",
      "2  0.012564  0.000161  0.021275   0.033999     Vol Attribution\n"
     ]
    }
   ],
   "source": [
    "# 4. Data in “problem4_returns.csv” is a series of returns for 3 assets. “problem4_startWeight.csv” is\n",
    "# the starting weights of a portfolio of these assets as of the first day in the return series.\n",
    "# a. Calculate the new weights for the start of each time period (2pt)\n",
    "# b. Calculate the ex-post return attribution of the portfolio on each asset (4pt)\n",
    "# c. Calculate the ex-post risk attribution of the portfolio on each asset (2pt)\n",
    "\n",
    "data4_returns = pd.read_csv('problem4_returns.csv', index_col=3)\n",
    "data4_weights = pd.read_csv('problem4_startWeight.csv')\n",
    "data4_weights = list(data4_weights.values[0])\n",
    "\n",
    "\n",
    "stocks = ['Asset1', 'Asset2', 'Asset3']\n",
    "attribution, weight = rml.ex_post_contribution(data4_weights, stocks, data4_returns)\n",
    "\n",
    "#a\n",
    "print(weight)\n",
    "print(\"\")\n",
    "#b,c\n",
    "print(attribution)\n"
   ]
  },
  {
   "cell_type": "code",
   "execution_count": 22,
   "metadata": {},
   "outputs": [],
   "source": [
    "# Problem5\n",
    "# Input prices in “problem5.csv” are for a portfolio. You hold 1 share of each asset. Using\n",
    "# arithmetic returns, fit a generalized T distribution to each asset return series. Using a Gaussian\n",
    "# Copula:\n",
    "# a. Calculate VaR (5%) for each asset (3pt)\n",
    "# b. Calculate VaR (5%) for a portfolio of Asset 1 &2 and a portfolio of Asset 3&4 (4pt)\n",
    "# c. Calculate VaR (5%) for a portfolio of all 4 assets. (3pt)\n",
    "data5 = pd.read_csv('problem5.csv', index_col=4)\n",
    "returns = data5.pct_change().dropna()"
   ]
  },
  {
   "cell_type": "code",
   "execution_count": 23,
   "metadata": {},
   "outputs": [],
   "source": [
    "def cal_t_pVals(port, returns_port, price):\n",
    "    return_cdf=[]\n",
    "    par=[]\n",
    "    for col in returns_port.columns:\n",
    "        df, loc, scale = t.fit(returns_port[col].values)\n",
    "        par.append([df,loc,scale])\n",
    "        return_cdf.append(t.cdf(returns_port[col].values, df=df, loc=loc, scale=scale).tolist())\n",
    "    return_cdf=pd.DataFrame(return_cdf).T\n",
    "    spearman_cor=return_cdf.corr(method='spearman')\n",
    "    sample=pd.DataFrame(rml.PCA_with_percent(spearman_cor)).T\n",
    "    sample_cdf=[]\n",
    "    for col in sample.columns:\n",
    "        sample_cdf.append(norm.cdf(sample[col].values, loc=0, scale=1).tolist())\n",
    "    simu_return=[]\n",
    "    for i in range(len(sample_cdf)):\n",
    "        simu_return.append(t.ppf(sample_cdf[i], df=par[i][0], loc=par[i][1], scale=par[i][2]))\n",
    "    simu_return=np.array(simu_return)\n",
    "\n",
    "    sim_price=(1 + simu_return.T)*price\n",
    "    pVals = sim_price.dot(port['Holding'])\n",
    "    pVals.sort()\n",
    "    return pVals"
   ]
  },
  {
   "cell_type": "code",
   "execution_count": 43,
   "metadata": {},
   "outputs": [
    {
     "name": "stdout",
     "output_type": "stream",
     "text": [
      "Price1:\n",
      "VaR:  0.04891275687040775\n",
      "ES:  0.10489991622767447\n",
      "\n",
      "Price2:\n",
      "VaR:  0.09871574198213295\n",
      "ES:  0.19094033270882227\n",
      "\n",
      "Price3:\n",
      "VaR:  0.09403475703427944\n",
      "ES:  0.1933242642515971\n",
      "\n",
      "Price4:\n",
      "VaR:  0.07867808610927796\n",
      "ES:  0.14823893554428932\n",
      "\n"
     ]
    }
   ],
   "source": [
    "#a\n",
    "port_1 = pd.DataFrame({'Holding':[1,0,0,0]},index=data5.columns)\n",
    "price1 = [data5.iloc[-1].Price1,0,0,0]\n",
    "pVals_price1 = cal_t_pVals(port_1, pd.DataFrame(returns['Price1']), price1)\n",
    "print(\"Price1:\")\n",
    "print(\"VaR: \", rml.calculate_var(pVals_price1, data5.iloc[-1].Price1))\n",
    "print(\"ES: \", rml.calculate_es(data5.iloc[-1].Price1 - pVals_price1))\n",
    "print(\"\")\n",
    "port_2 = pd.DataFrame({'Holding':[0,1,0,0]},index=data5.columns)\n",
    "price2 = [0,data5.iloc[-1].Price2,0,0]\n",
    "pVals_price2 = cal_t_pVals(port_2, pd.DataFrame(returns['Price2']), price2)\n",
    "print(\"Price2:\")\n",
    "print(\"VaR: \", rml.calculate_var(pVals_price2, data5.iloc[-1].Price2))\n",
    "print(\"ES: \", rml.calculate_es(data5.iloc[-1].Price2 - pVals_price2))\n",
    "print(\"\")\n",
    "port_3 = pd.DataFrame({'Holding':[0,0,1,0]},index=data5.columns)\n",
    "price3 = [0,0,data5.iloc[-1].Price3,0]\n",
    "pVals_price3 = cal_t_pVals(port_3, pd.DataFrame(returns['Price3']), price3)\n",
    "print(\"Price3:\")\n",
    "print(\"VaR: \", rml.calculate_var(pVals_price3, data5.iloc[-1].Price3))\n",
    "print(\"ES: \", rml.calculate_es(data5.iloc[-1].Price3 - pVals_price3))\n",
    "print(\"\")\n",
    "port_4 = pd.DataFrame({'Holding':[0,0,0,1]},index=data5.columns)\n",
    "price4 = [0,0,0,data5.iloc[-1].Price4]\n",
    "pVals_price4 = cal_t_pVals(port_4, pd.DataFrame(returns['Price4']), price4)\n",
    "print(\"Price4:\")\n",
    "print(\"VaR: \", rml.calculate_var(pVals_price4, data5.iloc[-1].Price4))\n",
    "print(\"ES: \", rml.calculate_es(data5.iloc[-1].Price4 - pVals_price4))\n",
    "print(\"\")"
   ]
  },
  {
   "cell_type": "code",
   "execution_count": 52,
   "metadata": {},
   "outputs": [
    {
     "name": "stdout",
     "output_type": "stream",
     "text": [
      "Price1 and Price2:\n",
      "VaR:  0.1265274558131182\n",
      "ES:  0.2515723412821313\n",
      "\n",
      "Price3 and Price4:\n",
      "VaR:  0.14317437418844747\n",
      "ES:  0.27835547661766824\n",
      "\n"
     ]
    }
   ],
   "source": [
    "#b\n",
    "port_5 = pd.DataFrame({'Holding':[1,1]},index=['Price1', 'Price2'])\n",
    "price5 = [data5.iloc[-1].Price1,data5.iloc[-1].Price2]\n",
    "pVals_price5 = cal_t_pVals(port_5, pd.DataFrame(returns[['Price1','Price2']]), price5)\n",
    "print(\"Price1 and Price2:\")\n",
    "print(\"VaR: \", rml.calculate_var(pVals_price5, data5.iloc[-1].Price1 + data5.iloc[-1].Price2))\n",
    "print(\"ES: \", rml.calculate_es(data5.iloc[-1].Price1 + data5.iloc[-1].Price2 - pVals_price5))\n",
    "print(\"\")\n",
    "\n",
    "port_6 = pd.DataFrame({'Holding':[1,1]},index=[\"Price3\", \"Price4\"])\n",
    "price6 = [data5.iloc[-1].Price3,data5.iloc[-1].Price4]\n",
    "pVals_price6 = cal_t_pVals(port_6, pd.DataFrame(returns[['Price3','Price4']]), price6)\n",
    "print(\"Price3 and Price4:\")\n",
    "print(\"VaR: \", rml.calculate_var(pVals_price6, data5.iloc[-1].Price3 + data5.iloc[-1].Price4))\n",
    "print(\"ES: \", rml.calculate_es(data5.iloc[-1].Price3 + data5.iloc[-1].Price4 - pVals_price6))\n",
    "print(\"\")"
   ]
  },
  {
   "cell_type": "code",
   "execution_count": 53,
   "metadata": {},
   "outputs": [
    {
     "name": "stdout",
     "output_type": "stream",
     "text": [
      "Price1, Price2, Price3 and Price4:\n",
      "VaR:  0.2228997256864318\n",
      "ES:  0.402755071498205\n",
      "\n"
     ]
    }
   ],
   "source": [
    "#c\n",
    "port_7 = pd.DataFrame({'Holding':[1,1,1,1]},index=data5.columns)\n",
    "price7 = [data5.iloc[-1].Price1,data5.iloc[-1].Price2,data5.iloc[-1].Price3,data5.iloc[-1].Price4]\n",
    "pVals_price7 = cal_t_pVals(port_7, pd.DataFrame(returns), price7)\n",
    "print(\"Price1, Price2, Price3 and Price4:\")\n",
    "print(\"VaR: \", rml.calculate_var(pVals_price7, data5.iloc[-1].Price1 + data5.iloc[-1].Price2 + data5.iloc[-1].Price3 + data5.iloc[-1].Price4))\n",
    "print(\"ES: \", rml.calculate_es(data5.iloc[-1].Price1 + data5.iloc[-1].Price2 + data5.iloc[-1].Price3 + data5.iloc[-1].Price4 - pVals_price7))\n",
    "print(\"\")"
   ]
  }
 ],
 "metadata": {
  "kernelspec": {
   "display_name": "base",
   "language": "python",
   "name": "python3"
  },
  "language_info": {
   "codemirror_mode": {
    "name": "ipython",
    "version": 3
   },
   "file_extension": ".py",
   "mimetype": "text/x-python",
   "name": "python",
   "nbconvert_exporter": "python",
   "pygments_lexer": "ipython3",
   "version": "3.7.2"
  },
  "orig_nbformat": 4
 },
 "nbformat": 4,
 "nbformat_minor": 2
}
